{
 "cells": [
  {
   "cell_type": "code",
   "execution_count": 2,
   "id": "a24ebe3b-e22c-4102-8f99-29f419a467f1",
   "metadata": {},
   "outputs": [],
   "source": [
    "# import dependencies\n",
    "import pandas as pd\n",
    "import numpy as np\n",
    "import matplotlib.pyplot as plt\n",
    "import seaborn as sns\n",
    "import copy\n",
    "import math\n",
    "import statistics\n",
    "from statistics import mean\n",
    "from mpl_toolkits import mplot3d\n",
    "from sklearn.model_selection import train_test_split\n",
    "from sklearn.ensemble import RandomForestClassifier\n",
    "from yellowbrick.datasets import load_credit\n",
    "from yellowbrick.features import Rank1D\n",
    "from yellowbrick.model_selection import FeatureImportances\n",
    "\n",
    "\n",
    "%matplotlib inline"
   ]
  },
  {
   "cell_type": "markdown",
   "id": "99af71fe-16ee-4c5f-b8d5-d3862c57ae8b",
   "metadata": {
    "tags": []
   },
   "source": [
    "## Predicting Diabetes In Female Patients\n",
    "This dataset is originally from the National Institute of Diabetes and Digestive and Kidney Diseases.  \n",
    "\n",
    "\n",
    "The objective is to use Binary Classification to predict if patient has diabetes or not \n",
    "\n",
    "Pima People Diabetes Database\n",
    "\n",
    "https://www.kaggle.com/datasets/uciml/pima-indians-diabetes-database\n",
    "\n",
    "\"This dataset is originally from the National Institute of Diabetes and Digestive and Kidney Diseases. The objective of the dataset is to diagnostically predict whether or not a patient has diabetes, based on certain diagnostic measurements included in the dataset. Several constraints were placed on the selection of these instances from a larger database. In particular, all patients here are females at least 21 years old of Pima people heritage.\""
   ]
  },
  {
   "cell_type": "markdown",
   "id": "59835dc3-9aac-4dcc-8786-c536fd787342",
   "metadata": {},
   "source": [
    "## I have a hunch that BMI and Glucose will be the two best features at predicting if a patient is diabetic or not"
   ]
  },
  {
   "cell_type": "markdown",
   "id": "28fc4106-8b7d-49f5-98da-53c1c983604a",
   "metadata": {},
   "source": [
    "## Load and view dataset"
   ]
  },
  {
   "cell_type": "code",
   "execution_count": 3,
   "id": "f0395987-1036-472c-afc0-086313184c8e",
   "metadata": {},
   "outputs": [],
   "source": [
    "pd.set_option('display.max_columns', None)"
   ]
  },
  {
   "cell_type": "code",
   "execution_count": 4,
   "id": "815ea00e-2cb6-490f-b21b-ae5dbc664893",
   "metadata": {},
   "outputs": [
    {
     "data": {
      "text/html": [
       "<div>\n",
       "<style scoped>\n",
       "    .dataframe tbody tr th:only-of-type {\n",
       "        vertical-align: middle;\n",
       "    }\n",
       "\n",
       "    .dataframe tbody tr th {\n",
       "        vertical-align: top;\n",
       "    }\n",
       "\n",
       "    .dataframe thead th {\n",
       "        text-align: right;\n",
       "    }\n",
       "</style>\n",
       "<table border=\"1\" class=\"dataframe\">\n",
       "  <thead>\n",
       "    <tr style=\"text-align: right;\">\n",
       "      <th></th>\n",
       "      <th>Pregnancies</th>\n",
       "      <th>Glucose</th>\n",
       "      <th>BloodPressure</th>\n",
       "      <th>SkinThickness</th>\n",
       "      <th>Insulin</th>\n",
       "      <th>BMI</th>\n",
       "      <th>DiabetesPedigreeFunction</th>\n",
       "      <th>Age</th>\n",
       "      <th>Outcome</th>\n",
       "    </tr>\n",
       "  </thead>\n",
       "  <tbody>\n",
       "    <tr>\n",
       "      <th>0</th>\n",
       "      <td>6</td>\n",
       "      <td>148</td>\n",
       "      <td>72</td>\n",
       "      <td>35</td>\n",
       "      <td>0</td>\n",
       "      <td>33.6</td>\n",
       "      <td>0.627</td>\n",
       "      <td>50</td>\n",
       "      <td>1</td>\n",
       "    </tr>\n",
       "    <tr>\n",
       "      <th>1</th>\n",
       "      <td>1</td>\n",
       "      <td>85</td>\n",
       "      <td>66</td>\n",
       "      <td>29</td>\n",
       "      <td>0</td>\n",
       "      <td>26.6</td>\n",
       "      <td>0.351</td>\n",
       "      <td>31</td>\n",
       "      <td>0</td>\n",
       "    </tr>\n",
       "    <tr>\n",
       "      <th>2</th>\n",
       "      <td>8</td>\n",
       "      <td>183</td>\n",
       "      <td>64</td>\n",
       "      <td>0</td>\n",
       "      <td>0</td>\n",
       "      <td>23.3</td>\n",
       "      <td>0.672</td>\n",
       "      <td>32</td>\n",
       "      <td>1</td>\n",
       "    </tr>\n",
       "    <tr>\n",
       "      <th>3</th>\n",
       "      <td>1</td>\n",
       "      <td>89</td>\n",
       "      <td>66</td>\n",
       "      <td>23</td>\n",
       "      <td>94</td>\n",
       "      <td>28.1</td>\n",
       "      <td>0.167</td>\n",
       "      <td>21</td>\n",
       "      <td>0</td>\n",
       "    </tr>\n",
       "    <tr>\n",
       "      <th>4</th>\n",
       "      <td>0</td>\n",
       "      <td>137</td>\n",
       "      <td>40</td>\n",
       "      <td>35</td>\n",
       "      <td>168</td>\n",
       "      <td>43.1</td>\n",
       "      <td>2.288</td>\n",
       "      <td>33</td>\n",
       "      <td>1</td>\n",
       "    </tr>\n",
       "    <tr>\n",
       "      <th>...</th>\n",
       "      <td>...</td>\n",
       "      <td>...</td>\n",
       "      <td>...</td>\n",
       "      <td>...</td>\n",
       "      <td>...</td>\n",
       "      <td>...</td>\n",
       "      <td>...</td>\n",
       "      <td>...</td>\n",
       "      <td>...</td>\n",
       "    </tr>\n",
       "    <tr>\n",
       "      <th>763</th>\n",
       "      <td>10</td>\n",
       "      <td>101</td>\n",
       "      <td>76</td>\n",
       "      <td>48</td>\n",
       "      <td>180</td>\n",
       "      <td>32.9</td>\n",
       "      <td>0.171</td>\n",
       "      <td>63</td>\n",
       "      <td>0</td>\n",
       "    </tr>\n",
       "    <tr>\n",
       "      <th>764</th>\n",
       "      <td>2</td>\n",
       "      <td>122</td>\n",
       "      <td>70</td>\n",
       "      <td>27</td>\n",
       "      <td>0</td>\n",
       "      <td>36.8</td>\n",
       "      <td>0.340</td>\n",
       "      <td>27</td>\n",
       "      <td>0</td>\n",
       "    </tr>\n",
       "    <tr>\n",
       "      <th>765</th>\n",
       "      <td>5</td>\n",
       "      <td>121</td>\n",
       "      <td>72</td>\n",
       "      <td>23</td>\n",
       "      <td>112</td>\n",
       "      <td>26.2</td>\n",
       "      <td>0.245</td>\n",
       "      <td>30</td>\n",
       "      <td>0</td>\n",
       "    </tr>\n",
       "    <tr>\n",
       "      <th>766</th>\n",
       "      <td>1</td>\n",
       "      <td>126</td>\n",
       "      <td>60</td>\n",
       "      <td>0</td>\n",
       "      <td>0</td>\n",
       "      <td>30.1</td>\n",
       "      <td>0.349</td>\n",
       "      <td>47</td>\n",
       "      <td>1</td>\n",
       "    </tr>\n",
       "    <tr>\n",
       "      <th>767</th>\n",
       "      <td>1</td>\n",
       "      <td>93</td>\n",
       "      <td>70</td>\n",
       "      <td>31</td>\n",
       "      <td>0</td>\n",
       "      <td>30.4</td>\n",
       "      <td>0.315</td>\n",
       "      <td>23</td>\n",
       "      <td>0</td>\n",
       "    </tr>\n",
       "  </tbody>\n",
       "</table>\n",
       "<p>768 rows × 9 columns</p>\n",
       "</div>"
      ],
      "text/plain": [
       "     Pregnancies  Glucose  BloodPressure  SkinThickness  Insulin   BMI  \\\n",
       "0              6      148             72             35        0  33.6   \n",
       "1              1       85             66             29        0  26.6   \n",
       "2              8      183             64              0        0  23.3   \n",
       "3              1       89             66             23       94  28.1   \n",
       "4              0      137             40             35      168  43.1   \n",
       "..           ...      ...            ...            ...      ...   ...   \n",
       "763           10      101             76             48      180  32.9   \n",
       "764            2      122             70             27        0  36.8   \n",
       "765            5      121             72             23      112  26.2   \n",
       "766            1      126             60              0        0  30.1   \n",
       "767            1       93             70             31        0  30.4   \n",
       "\n",
       "     DiabetesPedigreeFunction  Age  Outcome  \n",
       "0                       0.627   50        1  \n",
       "1                       0.351   31        0  \n",
       "2                       0.672   32        1  \n",
       "3                       0.167   21        0  \n",
       "4                       2.288   33        1  \n",
       "..                        ...  ...      ...  \n",
       "763                     0.171   63        0  \n",
       "764                     0.340   27        0  \n",
       "765                     0.245   30        0  \n",
       "766                     0.349   47        1  \n",
       "767                     0.315   23        0  \n",
       "\n",
       "[768 rows x 9 columns]"
      ]
     },
     "execution_count": 4,
     "metadata": {},
     "output_type": "execute_result"
    }
   ],
   "source": [
    "# load csv\n",
    "diabetesCSV = pd.read_csv('resources/diabetes.csv')\n",
    "diabetesCSV"
   ]
  },
  {
   "cell_type": "code",
   "execution_count": 5,
   "id": "216e1ea1-5cb2-4f18-a6a4-f93582409b30",
   "metadata": {},
   "outputs": [
    {
     "data": {
      "text/plain": [
       "Index(['Pregnancies', 'Glucose', 'BloodPressure', 'SkinThickness', 'Insulin',\n",
       "       'BMI', 'DiabetesPedigreeFunction', 'Age', 'Outcome'],\n",
       "      dtype='object')"
      ]
     },
     "execution_count": 5,
     "metadata": {},
     "output_type": "execute_result"
    }
   ],
   "source": [
    "diabetesCSV.columns"
   ]
  },
  {
   "cell_type": "code",
   "execution_count": 6,
   "id": "6e10b205-62e6-4cd8-a620-3bbb828038ea",
   "metadata": {},
   "outputs": [
    {
     "name": "stdout",
     "output_type": "stream",
     "text": [
      "<class 'pandas.core.frame.DataFrame'>\n",
      "RangeIndex: 768 entries, 0 to 767\n",
      "Data columns (total 9 columns):\n",
      " #   Column                    Non-Null Count  Dtype  \n",
      "---  ------                    --------------  -----  \n",
      " 0   Pregnancies               768 non-null    int64  \n",
      " 1   Glucose                   768 non-null    int64  \n",
      " 2   BloodPressure             768 non-null    int64  \n",
      " 3   SkinThickness             768 non-null    int64  \n",
      " 4   Insulin                   768 non-null    int64  \n",
      " 5   BMI                       768 non-null    float64\n",
      " 6   DiabetesPedigreeFunction  768 non-null    float64\n",
      " 7   Age                       768 non-null    int64  \n",
      " 8   Outcome                   768 non-null    int64  \n",
      "dtypes: float64(2), int64(7)\n",
      "memory usage: 54.1 KB\n"
     ]
    }
   ],
   "source": [
    "# display basic info about diabetesCSV\n",
    "diabetesCSV.info()"
   ]
  },
  {
   "cell_type": "code",
   "execution_count": 7,
   "id": "be945788-4d99-4e75-baff-4f7cb083eb0a",
   "metadata": {},
   "outputs": [
    {
     "data": {
      "text/html": [
       "<div>\n",
       "<style scoped>\n",
       "    .dataframe tbody tr th:only-of-type {\n",
       "        vertical-align: middle;\n",
       "    }\n",
       "\n",
       "    .dataframe tbody tr th {\n",
       "        vertical-align: top;\n",
       "    }\n",
       "\n",
       "    .dataframe thead th {\n",
       "        text-align: right;\n",
       "    }\n",
       "</style>\n",
       "<table border=\"1\" class=\"dataframe\">\n",
       "  <thead>\n",
       "    <tr style=\"text-align: right;\">\n",
       "      <th></th>\n",
       "      <th>Pregnancies</th>\n",
       "      <th>Glucose</th>\n",
       "      <th>BloodPressure</th>\n",
       "      <th>SkinThickness</th>\n",
       "      <th>Insulin</th>\n",
       "      <th>BMI</th>\n",
       "      <th>DiabetesPedigreeFunction</th>\n",
       "      <th>Age</th>\n",
       "      <th>Outcome</th>\n",
       "    </tr>\n",
       "  </thead>\n",
       "  <tbody>\n",
       "    <tr>\n",
       "      <th>count</th>\n",
       "      <td>768.000000</td>\n",
       "      <td>768.000000</td>\n",
       "      <td>768.000000</td>\n",
       "      <td>768.000000</td>\n",
       "      <td>768.000000</td>\n",
       "      <td>768.000000</td>\n",
       "      <td>768.000000</td>\n",
       "      <td>768.000000</td>\n",
       "      <td>768.000000</td>\n",
       "    </tr>\n",
       "    <tr>\n",
       "      <th>mean</th>\n",
       "      <td>3.845052</td>\n",
       "      <td>120.894531</td>\n",
       "      <td>69.105469</td>\n",
       "      <td>20.536458</td>\n",
       "      <td>79.799479</td>\n",
       "      <td>31.992578</td>\n",
       "      <td>0.471876</td>\n",
       "      <td>33.240885</td>\n",
       "      <td>0.348958</td>\n",
       "    </tr>\n",
       "    <tr>\n",
       "      <th>std</th>\n",
       "      <td>3.369578</td>\n",
       "      <td>31.972618</td>\n",
       "      <td>19.355807</td>\n",
       "      <td>15.952218</td>\n",
       "      <td>115.244002</td>\n",
       "      <td>7.884160</td>\n",
       "      <td>0.331329</td>\n",
       "      <td>11.760232</td>\n",
       "      <td>0.476951</td>\n",
       "    </tr>\n",
       "    <tr>\n",
       "      <th>min</th>\n",
       "      <td>0.000000</td>\n",
       "      <td>0.000000</td>\n",
       "      <td>0.000000</td>\n",
       "      <td>0.000000</td>\n",
       "      <td>0.000000</td>\n",
       "      <td>0.000000</td>\n",
       "      <td>0.078000</td>\n",
       "      <td>21.000000</td>\n",
       "      <td>0.000000</td>\n",
       "    </tr>\n",
       "    <tr>\n",
       "      <th>25%</th>\n",
       "      <td>1.000000</td>\n",
       "      <td>99.000000</td>\n",
       "      <td>62.000000</td>\n",
       "      <td>0.000000</td>\n",
       "      <td>0.000000</td>\n",
       "      <td>27.300000</td>\n",
       "      <td>0.243750</td>\n",
       "      <td>24.000000</td>\n",
       "      <td>0.000000</td>\n",
       "    </tr>\n",
       "    <tr>\n",
       "      <th>50%</th>\n",
       "      <td>3.000000</td>\n",
       "      <td>117.000000</td>\n",
       "      <td>72.000000</td>\n",
       "      <td>23.000000</td>\n",
       "      <td>30.500000</td>\n",
       "      <td>32.000000</td>\n",
       "      <td>0.372500</td>\n",
       "      <td>29.000000</td>\n",
       "      <td>0.000000</td>\n",
       "    </tr>\n",
       "    <tr>\n",
       "      <th>75%</th>\n",
       "      <td>6.000000</td>\n",
       "      <td>140.250000</td>\n",
       "      <td>80.000000</td>\n",
       "      <td>32.000000</td>\n",
       "      <td>127.250000</td>\n",
       "      <td>36.600000</td>\n",
       "      <td>0.626250</td>\n",
       "      <td>41.000000</td>\n",
       "      <td>1.000000</td>\n",
       "    </tr>\n",
       "    <tr>\n",
       "      <th>max</th>\n",
       "      <td>17.000000</td>\n",
       "      <td>199.000000</td>\n",
       "      <td>122.000000</td>\n",
       "      <td>99.000000</td>\n",
       "      <td>846.000000</td>\n",
       "      <td>67.100000</td>\n",
       "      <td>2.420000</td>\n",
       "      <td>81.000000</td>\n",
       "      <td>1.000000</td>\n",
       "    </tr>\n",
       "  </tbody>\n",
       "</table>\n",
       "</div>"
      ],
      "text/plain": [
       "       Pregnancies     Glucose  BloodPressure  SkinThickness     Insulin  \\\n",
       "count   768.000000  768.000000     768.000000     768.000000  768.000000   \n",
       "mean      3.845052  120.894531      69.105469      20.536458   79.799479   \n",
       "std       3.369578   31.972618      19.355807      15.952218  115.244002   \n",
       "min       0.000000    0.000000       0.000000       0.000000    0.000000   \n",
       "25%       1.000000   99.000000      62.000000       0.000000    0.000000   \n",
       "50%       3.000000  117.000000      72.000000      23.000000   30.500000   \n",
       "75%       6.000000  140.250000      80.000000      32.000000  127.250000   \n",
       "max      17.000000  199.000000     122.000000      99.000000  846.000000   \n",
       "\n",
       "              BMI  DiabetesPedigreeFunction         Age     Outcome  \n",
       "count  768.000000                768.000000  768.000000  768.000000  \n",
       "mean    31.992578                  0.471876   33.240885    0.348958  \n",
       "std      7.884160                  0.331329   11.760232    0.476951  \n",
       "min      0.000000                  0.078000   21.000000    0.000000  \n",
       "25%     27.300000                  0.243750   24.000000    0.000000  \n",
       "50%     32.000000                  0.372500   29.000000    0.000000  \n",
       "75%     36.600000                  0.626250   41.000000    1.000000  \n",
       "max     67.100000                  2.420000   81.000000    1.000000  "
      ]
     },
     "execution_count": 7,
     "metadata": {},
     "output_type": "execute_result"
    }
   ],
   "source": [
    "# Basic statistics\n",
    "diabetesCSV.describe()"
   ]
  },
  {
   "cell_type": "code",
   "execution_count": 8,
   "id": "5ba60be7-3305-44db-9889-e8eb95132b64",
   "metadata": {},
   "outputs": [
    {
     "data": {
      "text/plain": [
       "(768, 9)"
      ]
     },
     "execution_count": 8,
     "metadata": {},
     "output_type": "execute_result"
    }
   ],
   "source": [
    "# view diabetesCSV shape \n",
    "diabetesCSV.shape"
   ]
  },
  {
   "cell_type": "markdown",
   "id": "3ff147af-5223-420d-a5fb-6aba5f6836de",
   "metadata": {},
   "source": [
    "## Visualize available variables relationship"
   ]
  },
  {
   "cell_type": "code",
   "execution_count": 9,
   "id": "23d42507-84a4-4bd0-802a-35da284e1c75",
   "metadata": {},
   "outputs": [
    {
     "data": {
      "image/png": "[encoded data removed]",
      "text/plain": [
       "<Figure size 432x288 with 1 Axes>"
      ]
     },
     "metadata": {
      "needs_background": "light"
     },
     "output_type": "display_data"
    }
   ],
   "source": [
    "# use seaborn countplot to visualize diabetic test results\n",
    "sns.countplot(x=\"Outcome\",data = diabetesCSV)\n",
    "plt.savefig('assets/screenshots/only_bmi_and_glucose/who-is-diabetic-countplot.png')"
   ]
  },
  {
   "cell_type": "code",
   "execution_count": 12,
   "id": "f92eb98c-0368-4f2c-b670-8c5d8cf513f3",
   "metadata": {},
   "outputs": [
    {
     "data": {
      "text/plain": [
       "<AxesSubplot:title={'center':'Feature Importances of 8 Features using RandomForestClassifier'}, xlabel='relative importance'>"
      ]
     },
     "execution_count": 12,
     "metadata": {},
     "output_type": "execute_result"
    },
    {
     "data": {
      "image/png": "[encoded data removed]",
      "text/plain": [
       "<Figure size 432x288 with 1 Axes>"
      ]
     },
     "metadata": {
      "needs_background": "light"
     },
     "output_type": "display_data"
    }
   ],
   "source": [
    "# show visualiation that ranks feature importance\n",
    "\n",
    "X = diabetesCSV.copy()\n",
    "X.drop(columns='Outcome',inplace=True)\n",
    "y = diabetesCSV.Outcome\n",
    "\n",
    "# Creating the feature importances plot\n",
    "visualizer = FeatureImportances(RandomForestClassifier(max_depth=3),\n",
    "                                relative=True)\n",
    "\n",
    "visualizer.fit(X, y)\n",
    "\n",
    "# Saving plot in PNG format\n",
    "visualizer.show(outpath='assets/images/feature-importance.png')"
   ]
  },
  {
   "cell_type": "code",
   "execution_count": 16,
   "id": "77144c94-99b1-4110-8ce8-45ae4945e6c1",
   "metadata": {},
   "outputs": [
    {
     "data": {
      "text/plain": [
       "<AxesSubplot:title={'center':'Shapiro Ranking of 8 Features'}>"
      ]
     },
     "execution_count": 16,
     "metadata": {},
     "output_type": "execute_result"
    },
    {
     "data": {
      "image/png": "[encoded data removed]",
      "text/plain": [
       "<Figure size 432x288 with 1 Axes>"
      ]
     },
     "metadata": {
      "needs_background": "light"
     },
     "output_type": "display_data"
    }
   ],
   "source": [
    "# rank features with Rank1D from yellowbrick \n",
    "\n",
    "# create variables to use \n",
    "y = diabetesCSV['Outcome']\n",
    "X = diabetesCSV.copy()\n",
    "X.drop(columns='Outcome', inplace=True)\n",
    "\n",
    "\n",
    "# Instantiate the 1D visualizer with the Shapiro ranking algorithm\n",
    "visualizer = Rank1D(algorithm='shapiro')\n",
    "\n",
    "visualizer.fit(X, y)           # Fit the data to the visualizer\n",
    "visualizer.transform(X)        # Transform the data\n",
    "\n",
    "# Finalize and render the figure\n",
    "visualizer.show(outpath='assets/screenshots/only_bmi_and_glucose/feature-ranking.png')  \n"
   ]
  },
  {
   "cell_type": "code",
   "execution_count": 17,
   "id": "bbf5b4ee-aae1-498a-9329-f147ccb19444",
   "metadata": {},
   "outputs": [
    {
     "data": {
      "image/png": "[encoded data removed]",
      "text/plain": [
       "<Figure size 432x288 with 1 Axes>"
      ]
     },
     "metadata": {
      "needs_background": "light"
     },
     "output_type": "display_data"
    }
   ],
   "source": [
    "# Visualize age group frequency\n",
    "diabetesCSV[\"Age\"].plot.hist()\n",
    "plt.savefig('assets/screenshots/only_bmi_and_glucose/age-frequency.png')"
   ]
  },
  {
   "cell_type": "code",
   "execution_count": 18,
   "id": "73fa836b-e66e-40b6-bf99-d745157c1398",
   "metadata": {},
   "outputs": [
    {
     "data": {
      "image/png": "[encoded data removed]",
      "text/plain": [
       "<Figure size 432x288 with 1 Axes>"
      ]
     },
     "metadata": {
      "needs_background": "light"
     },
     "output_type": "display_data"
    }
   ],
   "source": [
    "# Visualize BMI group frequency\n",
    "diabetesCSV[\"BMI\"].plot.hist()\n",
    "plt.savefig('assets/screenshots/only_bmi_and_glucose/BMI-frequency.png')"
   ]
  },
  {
   "cell_type": "code",
   "execution_count": 19,
   "id": "aedef2ee-673e-4073-b560-04d14c717a55",
   "metadata": {},
   "outputs": [
    {
     "data": {
      "image/png": "[encoded data removed]",
      "text/plain": [
       "<Figure size 432x288 with 1 Axes>"
      ]
     },
     "metadata": {
      "needs_background": "light"
     },
     "output_type": "display_data"
    }
   ],
   "source": [
    "# Visualize Glucose group frequency\n",
    "diabetesCSV[\"Glucose\"].plot.hist()\n",
    "plt.savefig('assets/screenshots/only_bmi_and_glucose/Glucose-frequency.png')"
   ]
  },
  {
   "cell_type": "markdown",
   "id": "58727129-6e98-4fd2-8764-26937ffcc292",
   "metadata": {},
   "source": [
    "# Chosen features are Glucose, BMI"
   ]
  },
  {
   "cell_type": "markdown",
   "id": "dc06dc71-72a8-4a82-8808-f12a558efbe0",
   "metadata": {},
   "source": [
    "### Choosing features"
   ]
  },
  {
   "cell_type": "code",
   "execution_count": 20,
   "id": "37cf119f-a412-4451-9993-1d5be924861e",
   "metadata": {},
   "outputs": [
    {
     "name": "stdout",
     "output_type": "stream",
     "text": [
      "[[148, 33.6], [85, 26.6], [183, 23.3], [89, 28.1], [137, 43.1]]\n",
      "[1, 0, 1, 0, 1]\n"
     ]
    }
   ],
   "source": [
    "# create empty list\n",
    "feature = []\n",
    "target = []\n",
    "\n",
    "# for loop to create feature lists to add to above created list\n",
    "\n",
    "for i in range(len(diabetesCSV)):\n",
    "    diabetesX = []\n",
    "    diabetesY = ''\n",
    "    \n",
    "    diabetesY = diabetesCSV.iloc[i,8]\n",
    "    diabetesX.append(diabetesCSV.iloc[i,1])\n",
    "    diabetesX.append(diabetesCSV.iloc[i,5])\n",
    "    \n",
    "    feature.append(diabetesX)\n",
    "    target.append(diabetesY)\n",
    "    \n",
    "print(feature[:5])\n",
    "print(target[:5])"
   ]
  },
  {
   "cell_type": "code",
   "execution_count": 21,
   "id": "0236231e-26bc-42f7-a35c-a029460d8abf",
   "metadata": {},
   "outputs": [
    {
     "data": {
      "text/plain": [
       "array([[148. ,  33.6],\n",
       "       [ 85. ,  26.6],\n",
       "       [183. ,  23.3],\n",
       "       [ 89. ,  28.1],\n",
       "       [137. ,  43.1]])"
      ]
     },
     "execution_count": 21,
     "metadata": {},
     "output_type": "execute_result"
    }
   ],
   "source": [
    "# Turn python lists into numpy arrays\n",
    "features = np.array(feature)\n",
    "targets = np.array(target)\n",
    "features[:5]"
   ]
  },
  {
   "cell_type": "markdown",
   "id": "73bfada6-cf78-4aae-a78c-e294eecb2787",
   "metadata": {},
   "source": [
    "### Use Z-Score normalization on features to visualize"
   ]
  },
  {
   "cell_type": "code",
   "execution_count": 22,
   "id": "23332f73-a7cb-47b4-90ef-d9b1a1be1d99",
   "metadata": {
    "tags": []
   },
   "outputs": [
    {
     "data": {
      "text/plain": [
       "50.17357343740608"
      ]
     },
     "execution_count": 22,
     "metadata": {},
     "output_type": "execute_result"
    }
   ],
   "source": [
    "# finding standard deviation and mean of each column\n",
    "featureSTDEV = features.std()\n",
    "featureAVG = np.average(features)\n",
    "featureSTDEV"
   ]
  },
  {
   "cell_type": "code",
   "execution_count": 23,
   "id": "23982283-43cd-41a6-a543-a7c420362692",
   "metadata": {},
   "outputs": [],
   "source": [
    "# implement Z-Score normalization\n",
    "featuresNORM = (features - featureAVG)/featureSTDEV"
   ]
  },
  {
   "cell_type": "markdown",
   "id": "7ef9e1e2-f690-4a14-9b54-a9c751825093",
   "metadata": {},
   "source": [
    "### Create a dataframe with normalized features "
   ]
  },
  {
   "cell_type": "code",
   "execution_count": 24,
   "id": "fabb65d8-fb25-4c81-96ab-6a34b436db86",
   "metadata": {},
   "outputs": [
    {
     "data": {
      "text/html": [
       "<div>\n",
       "<style scoped>\n",
       "    .dataframe tbody tr th:only-of-type {\n",
       "        vertical-align: middle;\n",
       "    }\n",
       "\n",
       "    .dataframe tbody tr th {\n",
       "        vertical-align: top;\n",
       "    }\n",
       "\n",
       "    .dataframe thead th {\n",
       "        text-align: right;\n",
       "    }\n",
       "</style>\n",
       "<table border=\"1\" class=\"dataframe\">\n",
       "  <thead>\n",
       "    <tr style=\"text-align: right;\">\n",
       "      <th></th>\n",
       "      <th>0</th>\n",
       "      <th>1</th>\n",
       "      <th>Diabetic?</th>\n",
       "    </tr>\n",
       "  </thead>\n",
       "  <tbody>\n",
       "    <tr>\n",
       "      <th>0</th>\n",
       "      <td>1.426178</td>\n",
       "      <td>-0.853907</td>\n",
       "      <td>1</td>\n",
       "    </tr>\n",
       "    <tr>\n",
       "      <th>1</th>\n",
       "      <td>0.170537</td>\n",
       "      <td>-0.993422</td>\n",
       "      <td>0</td>\n",
       "    </tr>\n",
       "    <tr>\n",
       "      <th>2</th>\n",
       "      <td>2.123756</td>\n",
       "      <td>-1.059194</td>\n",
       "      <td>1</td>\n",
       "    </tr>\n",
       "    <tr>\n",
       "      <th>3</th>\n",
       "      <td>0.250260</td>\n",
       "      <td>-0.963526</td>\n",
       "      <td>0</td>\n",
       "    </tr>\n",
       "    <tr>\n",
       "      <th>4</th>\n",
       "      <td>1.206939</td>\n",
       "      <td>-0.664564</td>\n",
       "      <td>1</td>\n",
       "    </tr>\n",
       "    <tr>\n",
       "      <th>...</th>\n",
       "      <td>...</td>\n",
       "      <td>...</td>\n",
       "      <td>...</td>\n",
       "    </tr>\n",
       "    <tr>\n",
       "      <th>763</th>\n",
       "      <td>0.489430</td>\n",
       "      <td>-0.867858</td>\n",
       "      <td>0</td>\n",
       "    </tr>\n",
       "    <tr>\n",
       "      <th>764</th>\n",
       "      <td>0.907977</td>\n",
       "      <td>-0.790128</td>\n",
       "      <td>0</td>\n",
       "    </tr>\n",
       "    <tr>\n",
       "      <th>765</th>\n",
       "      <td>0.888046</td>\n",
       "      <td>-1.001395</td>\n",
       "      <td>0</td>\n",
       "    </tr>\n",
       "    <tr>\n",
       "      <th>766</th>\n",
       "      <td>0.987700</td>\n",
       "      <td>-0.923665</td>\n",
       "      <td>1</td>\n",
       "    </tr>\n",
       "    <tr>\n",
       "      <th>767</th>\n",
       "      <td>0.329983</td>\n",
       "      <td>-0.917685</td>\n",
       "      <td>0</td>\n",
       "    </tr>\n",
       "  </tbody>\n",
       "</table>\n",
       "<p>768 rows × 3 columns</p>\n",
       "</div>"
      ],
      "text/plain": [
       "            0         1  Diabetic?\n",
       "0    1.426178 -0.853907          1\n",
       "1    0.170537 -0.993422          0\n",
       "2    2.123756 -1.059194          1\n",
       "3    0.250260 -0.963526          0\n",
       "4    1.206939 -0.664564          1\n",
       "..        ...       ...        ...\n",
       "763  0.489430 -0.867858          0\n",
       "764  0.907977 -0.790128          0\n",
       "765  0.888046 -1.001395          0\n",
       "766  0.987700 -0.923665          1\n",
       "767  0.329983 -0.917685          0\n",
       "\n",
       "[768 rows x 3 columns]"
      ]
     },
     "execution_count": 24,
     "metadata": {},
     "output_type": "execute_result"
    }
   ],
   "source": [
    "df = pd.DataFrame(data = featuresNORM)\n",
    "df['Diabetic?'] = targets\n",
    "df"
   ]
  },
  {
   "cell_type": "code",
   "execution_count": 25,
   "id": "07529bd1-787b-4014-b933-5ef22a4c8651",
   "metadata": {},
   "outputs": [
    {
     "data": {
      "text/html": [
       "<div>\n",
       "<style scoped>\n",
       "    .dataframe tbody tr th:only-of-type {\n",
       "        vertical-align: middle;\n",
       "    }\n",
       "\n",
       "    .dataframe tbody tr th {\n",
       "        vertical-align: top;\n",
       "    }\n",
       "\n",
       "    .dataframe thead th {\n",
       "        text-align: right;\n",
       "    }\n",
       "</style>\n",
       "<table border=\"1\" class=\"dataframe\">\n",
       "  <thead>\n",
       "    <tr style=\"text-align: right;\">\n",
       "      <th></th>\n",
       "      <th>0</th>\n",
       "      <th>1</th>\n",
       "    </tr>\n",
       "  </thead>\n",
       "  <tbody>\n",
       "    <tr>\n",
       "      <th>0</th>\n",
       "      <td>1.426178</td>\n",
       "      <td>-0.853907</td>\n",
       "    </tr>\n",
       "    <tr>\n",
       "      <th>2</th>\n",
       "      <td>2.123756</td>\n",
       "      <td>-1.059194</td>\n",
       "    </tr>\n",
       "    <tr>\n",
       "      <th>4</th>\n",
       "      <td>1.206939</td>\n",
       "      <td>-0.664564</td>\n",
       "    </tr>\n",
       "    <tr>\n",
       "      <th>6</th>\n",
       "      <td>0.031021</td>\n",
       "      <td>-0.905727</td>\n",
       "    </tr>\n",
       "    <tr>\n",
       "      <th>8</th>\n",
       "      <td>2.402788</td>\n",
       "      <td>-0.915692</td>\n",
       "    </tr>\n",
       "  </tbody>\n",
       "</table>\n",
       "</div>"
      ],
      "text/plain": [
       "          0         1\n",
       "0  1.426178 -0.853907\n",
       "2  2.123756 -1.059194\n",
       "4  1.206939 -0.664564\n",
       "6  0.031021 -0.905727\n",
       "8  2.402788 -0.915692"
      ]
     },
     "execution_count": 25,
     "metadata": {},
     "output_type": "execute_result"
    }
   ],
   "source": [
    "diabetics = df[df['Diabetic?'] == 1][[0,1]]\n",
    "nonDiabetics = df[df['Diabetic?'] == 0][[0,1]]\n",
    "diabetics[:5]"
   ]
  },
  {
   "cell_type": "markdown",
   "id": "0c257756-2555-4100-9bad-3a4661247536",
   "metadata": {},
   "source": [
    "## Create visualization of chosen features"
   ]
  },
  {
   "cell_type": "code",
   "execution_count": 26,
   "id": "59090032-7231-4447-8ba6-1b05c8e1bd14",
   "metadata": {},
   "outputs": [
    {
     "data": {
      "image/png": "[encoded data removed]",
      "text/plain": [
       "<Figure size 432x288 with 1 Axes>"
      ]
     },
     "metadata": {
      "needs_background": "light"
     },
     "output_type": "display_data"
    }
   ],
   "source": [
    "figure1, figure1_axes = plt.subplots()\n",
    "\n",
    "figure1_axes.scatter(diabetics[[0]], diabetics[[1]], color = 'r', marker='x', label='Diabetic')\n",
    "figure1_axes.scatter(nonDiabetics[[0]], nonDiabetics[[1]], color = 'g', marker='o', label='nonDiabetic')\n",
    "\n",
    "figure1_axes.set_xlabel('Glucose')\n",
    "figure1_axes.set_ylabel('BMI')\n",
    "figure1_axes.legend(['Diabetic', 'nonDiabetic'])\n",
    "figure1_axes.set_title('Detecting Diabetes in Female Patients');\n",
    "figure1.savefig(\"assets/screenshots/only_bmi_and_glucose/visualizations/glucoseVSbmi.png\")"
   ]
  },
  {
   "cell_type": "markdown",
   "id": "4fa0a728-efc4-4466-b0ef-15a8fe0bf5f5",
   "metadata": {},
   "source": [
    "# Create Logistic Model"
   ]
  },
  {
   "cell_type": "code",
   "execution_count": 27,
   "id": "3ee4c459-c73e-4b13-bdcf-d58d4eaccfff",
   "metadata": {},
   "outputs": [],
   "source": [
    "# Split the data into X_train, X_test, y_train, y_test\n",
    "x_train, x_test, y_train, y_test = train_test_split(features, targets)"
   ]
  },
  {
   "cell_type": "markdown",
   "id": "663fd768-58b9-4c35-90a9-e6fe22fe5286",
   "metadata": {},
   "source": [
    "### Define Sigmoid function"
   ]
  },
  {
   "cell_type": "code",
   "execution_count": 28,
   "id": "84d6cf47-2ff0-426a-845a-a950d9eb29dc",
   "metadata": {},
   "outputs": [],
   "source": [
    "def sigmoid(z):\n",
    "    \n",
    "    g = 1/(1+np.exp(-z))\n",
    "    \n",
    "    return g"
   ]
  },
  {
   "cell_type": "markdown",
   "id": "d30e18ec-7519-46cf-9a87-b51380cfbd1a",
   "metadata": {},
   "source": [
    "### Define Cost Function"
   ]
  },
  {
   "cell_type": "code",
   "execution_count": 29,
   "id": "a30b501f-2480-4f2e-ac08-bd203c5180e6",
   "metadata": {},
   "outputs": [],
   "source": [
    "def compute_cost(X, y, w, b, lambda_= 1):\n",
    "\n",
    "    m, n = X.shape\n",
    "    cost = 0.\n",
    "    \n",
    "    for i in range (m):\n",
    "        z_i = np.dot(X[i],w) + b\n",
    "        f_wb_i = sigmoid(z_i)\n",
    "        cost += -y[i]*np.log(f_wb_i) - (1-y[i])*np.log(1-f_wb_i)\n",
    "    \n",
    "    total_cost = cost/m    \n",
    "\n",
    "    return total_cost"
   ]
  },
  {
   "cell_type": "code",
   "execution_count": 30,
   "id": "1eeff63e-9ae4-42ab-a82a-e52249154d6b",
   "metadata": {},
   "outputs": [
    {
     "name": "stdout",
     "output_type": "stream",
     "text": [
      "Cost at initial w (zeros): 0.693\n"
     ]
    }
   ],
   "source": [
    "m, n = x_train.shape\n",
    "\n",
    "# Compute and display cost with w initialized to zeroes\n",
    "initial_w = np.zeros(n)\n",
    "initial_b = 0.\n",
    "cost = compute_cost(x_train, y_train, initial_w, initial_b)\n",
    "print('Cost at initial w (zeros): {:.3f}'.format(cost))"
   ]
  },
  {
   "cell_type": "code",
   "execution_count": 31,
   "id": "587d6c9f-6e5f-4351-8eb7-574f96882a34",
   "metadata": {},
   "outputs": [
    {
     "name": "stdout",
     "output_type": "stream",
     "text": [
      "Cost at test w,b: 3.114\n"
     ]
    }
   ],
   "source": [
    "# Compute and display cost with non-zero w\n",
    "test_w = np.array([0.2, 0.2])\n",
    "test_b = -24.\n",
    "cost = compute_cost(x_train, y_train, test_w, test_b)\n",
    "\n",
    "print('Cost at test w,b: {:.3f}'.format(cost))"
   ]
  },
  {
   "cell_type": "markdown",
   "id": "98e5b194-0098-4939-9658-f391d29caac9",
   "metadata": {},
   "source": [
    "## Compute Gradient"
   ]
  },
  {
   "cell_type": "code",
   "execution_count": 32,
   "id": "5a3cb6d6-7bc0-470f-a3b1-7fa73034d374",
   "metadata": {},
   "outputs": [],
   "source": [
    "def compute_gradient(X, y, w, b, lambda_=None): \n",
    "    \"\"\"\n",
    "    Computes the gradient for logistic regression \n",
    " \n",
    "    Args:\n",
    "      X : (ndarray Shape (m,n)) variable such as house size \n",
    "      y : (array_like Shape (m,1)) actual value \n",
    "      w : (array_like Shape (n,1)) values of parameters of the model      \n",
    "      b : (scalar)                 value of parameter of the model \n",
    "      lambda_: unused placeholder.\n",
    "    Returns\n",
    "      dj_dw: (array_like Shape (n,1)) The gradient of the cost w.r.t. the parameters w. \n",
    "      dj_db: (scalar)                The gradient of the cost w.r.t. the parameter b. \n",
    "    \"\"\"\n",
    "    m, n = X.shape\n",
    "    dj_dw = np.zeros(w.shape)\n",
    "    dj_db = 0.\n",
    "\n",
    "    ### START CODE HERE ### \n",
    "    for i in range(m):\n",
    "        # Calculate f_wb (exactly as you did in the compute_cost function above)\n",
    "        z_i = np.dot(X[i],w) + b\n",
    "\n",
    "        # Calculate the prediction from the model\n",
    "        f_wb = sigmoid(z_i)\n",
    "            \n",
    "        # Calculate the  gradient for b from this example\n",
    "        dj_db_i = f_wb - y[i] # Your code here to calculate the error\n",
    "\n",
    "        # add that to dj_db\n",
    "        dj_db += dj_db_i\n",
    "\n",
    "        # get dj_dw for each attribute\n",
    "        for j in range(n):\n",
    "        # You code here to calculate the gradient from the i-th example for j-th attribute\n",
    "            dj_dw_ij = (f_wb - y[i])* X[i][j]\n",
    "            dj_dw[j] += dj_dw_ij\n",
    "\n",
    "    # divide dj_db and dj_dw by total number of examples\n",
    "    dj_dw = dj_dw / m\n",
    "    dj_db = dj_db / m\n",
    "\n",
    "    ### END CODE HERE ###\n",
    "\n",
    "        \n",
    "    return dj_db, dj_dw"
   ]
  },
  {
   "cell_type": "code",
   "execution_count": 33,
   "id": "7889aaba-ee8e-4e1c-ab34-f44d00e743df",
   "metadata": {},
   "outputs": [
    {
     "name": "stdout",
     "output_type": "stream",
     "text": [
      "dj_db at initial w (zeros):0.1423611111111111\n",
      "dj_dw at initial w (zeros):[10.197916666666666, 3.3559027777777732]\n"
     ]
    }
   ],
   "source": [
    "# Compute and display gradient with w initialized to zeroes\n",
    "initial_w = np.zeros(n)\n",
    "initial_b = 0.\n",
    "\n",
    "dj_db, dj_dw = compute_gradient(x_train, y_train, initial_w, initial_b)\n",
    "print(f'dj_db at initial w (zeros):{dj_db}' )\n",
    "print(f'dj_dw at initial w (zeros):{dj_dw.tolist()}' )"
   ]
  },
  {
   "cell_type": "code",
   "execution_count": 34,
   "id": "d2df028c-8c61-44c2-b693-c58aa2a0df6d",
   "metadata": {},
   "outputs": [
    {
     "name": "stdout",
     "output_type": "stream",
     "text": [
      "dj_db at test_w: -0.3438026702081449\n",
      "dj_dw at test_w: [-47.69931618656594, -12.390088585563252]\n"
     ]
    }
   ],
   "source": [
    "# Compute and display cost and gradient with non-zero w\n",
    "test_w = np.array([ 0.2, -0.5])\n",
    "test_b = -24\n",
    "dj_db, dj_dw  = compute_gradient(x_train, y_train, test_w, test_b)\n",
    "\n",
    "print('dj_db at test_w:', dj_db)\n",
    "print('dj_dw at test_w:', dj_dw.tolist())\n"
   ]
  },
  {
   "cell_type": "markdown",
   "id": "1a24e2d6-3560-4237-aaff-39627d019028",
   "metadata": {},
   "source": [
    "## Define Gradient Descent"
   ]
  },
  {
   "cell_type": "code",
   "execution_count": 35,
   "id": "9dc1d166-aa6d-4aeb-a8c8-a8003688f2a7",
   "metadata": {},
   "outputs": [],
   "source": [
    "def gradient_descent(X, y, w_in, b_in, cost_function, gradient_function, alpha, num_iters, lambda_): \n",
    "    \"\"\"\n",
    "    Performs batch gradient descent to learn theta. Updates theta by taking \n",
    "    num_iters gradient steps with learning rate alpha\n",
    "    \n",
    "    Args:\n",
    "      X :    (array_like Shape (m, n)\n",
    "      y :    (array_like Shape (m,))\n",
    "      w_in : (array_like Shape (n,))  Initial values of parameters of the model\n",
    "      b_in : (scalar)                 Initial value of parameter of the model\n",
    "      cost_function:                  function to compute cost\n",
    "      alpha : (float)                 Learning rate\n",
    "      num_iters : (int)               number of iterations to run gradient descent\n",
    "      lambda_ (scalar, float)         regularization constant\n",
    "      \n",
    "    Returns:\n",
    "      w : (array_like Shape (n,)) Updated values of parameters of the model after\n",
    "          running gradient descent\n",
    "      b : (scalar)                Updated value of parameter of the model after\n",
    "          running gradient descent\n",
    "    \"\"\"\n",
    "    \n",
    "    # number of training examples\n",
    "    m = len(X)\n",
    "    \n",
    "    # An array to store cost J and w's at each iteration primarily for graphing later\n",
    "    J_history = []\n",
    "    w_history = []\n",
    "    \n",
    "    for i in range(num_iters):\n",
    "\n",
    "        # Calculate the gradient and update the parameters\n",
    "        dj_db, dj_dw = gradient_function(X, y, w_in, b_in, lambda_)   \n",
    "\n",
    "        # Update Parameters using w, b, alpha and gradient\n",
    "        w_in = w_in - alpha * dj_dw               \n",
    "        b_in = b_in - alpha * dj_db              \n",
    "       \n",
    "        # Save cost J at each iteration\n",
    "        if i<100000:      # prevent resource exhaustion \n",
    "            cost =  cost_function(X, y, w_in, b_in, lambda_)\n",
    "            J_history.append(cost)\n",
    "\n",
    "        # Print cost every at intervals 10 times or as many iterations if < 10\n",
    "        if i% math.ceil(num_iters/10) == 0 or i == (num_iters-1):\n",
    "            w_history.append(w_in)\n",
    "            print(f\"Iteration {i:4}: Cost {float(J_history[-1]):8.2f}   \")\n",
    "        \n",
    "    return w_in, b_in, J_history, w_history #return w and J,w history for graphing"
   ]
  },
  {
   "cell_type": "markdown",
   "id": "bad3970c-f7d9-4827-b67b-e420494c31d8",
   "metadata": {},
   "source": [
    "# Trial 1"
   ]
  },
  {
   "cell_type": "markdown",
   "id": "c54e4079-501c-4202-96cd-41b420a82ca7",
   "metadata": {},
   "source": [
    "## First 1,000 iterations with an alpha value of 0.001"
   ]
  },
  {
   "cell_type": "code",
   "execution_count": 36,
   "id": "d10f22fe-1aab-4743-8c2c-7b9a18f00189",
   "metadata": {},
   "outputs": [
    {
     "name": "stdout",
     "output_type": "stream",
     "text": [
      "Iteration    0: Cost     0.58   \n",
      "Iteration  100: Cost     1.33   \n",
      "Iteration  200: Cost     1.30   \n",
      "Iteration  300: Cost     1.29   \n",
      "Iteration  400: Cost     1.28   \n",
      "Iteration  500: Cost     1.28   \n",
      "Iteration  600: Cost     1.28   \n",
      "Iteration  700: Cost     1.28   \n",
      "Iteration  800: Cost     1.28   \n",
      "Iteration  900: Cost     1.28   \n",
      "Iteration  999: Cost     1.12   \n"
     ]
    }
   ],
   "source": [
    "initial_w = np.array([ 0.1, 0.1])\n",
    "initial_b = -8\n",
    " \n",
    "# Some gradient descent settings\n",
    "iterations = 1000\n",
    "alpha = 0.001\n",
    "\n",
    "w,b, J_history,_ = gradient_descent(x_train ,y_train, initial_w, initial_b, \n",
    "                                   compute_cost, compute_gradient, alpha, iterations, 0)"
   ]
  },
  {
   "cell_type": "markdown",
   "id": "c901bae7-71cc-4bfa-b26c-c9bbd1c7e42a",
   "metadata": {},
   "source": [
    "### During the first trial of 1,000 iterations with an alpha of 0.001 we see the cost jumping up and down \n",
    "- starting at 0.62, and increasing to 1.19 by the 100th iteration, when I J_history is printed out you can see the values fluctuating each iteration\n",
    "- if you only view each 100th iteration it will appear as if cost is constantly decreasing, this is not the case, visualizing every 99th value below to illustrate\n",
    "- if everything is set correctly cost function should never increase"
   ]
  },
  {
   "cell_type": "code",
   "execution_count": 37,
   "id": "7ee4c307-121a-417c-a8ae-8c1bfa3ca198",
   "metadata": {},
   "outputs": [
    {
     "data": {
      "image/png": "[encoded data removed]",
      "text/plain": [
       "<Figure size 432x288 with 1 Axes>"
      ]
     },
     "metadata": {
      "needs_background": "light"
     },
     "output_type": "display_data"
    }
   ],
   "source": [
    "x = J_history[::99]\n",
    "# y = ydata[::10][::100]\n",
    "costFigure, costFigure_axes = plt.subplots()\n",
    "costFigure_axes.plot(x)\n",
    "costFigure_axes.set_xlabel('Every 99th iteration')\n",
    "costFigure_axes.set_ylabel('Cost')\n",
    "costFigure_axes.set_title('Alpha = 0.001 1000 Iterations Cost Function');\n",
    "costFigure.savefig(\"assets/screenshots/only_bmi_and_glucose/badcost1000iterations.png\")\n",
    "\n",
    "plt.show()"
   ]
  },
  {
   "cell_type": "code",
   "execution_count": null,
   "id": "491dd0ad-247a-48c1-b16b-2c2858b388b6",
   "metadata": {},
   "outputs": [],
   "source": []
  },
  {
   "cell_type": "markdown",
   "id": "b64121d8-650c-4b77-bbb9-d3ff4cbc88ee",
   "metadata": {},
   "source": [
    "# Trial 2"
   ]
  },
  {
   "cell_type": "markdown",
   "id": "ef9b6067-3a6c-48f8-84f3-ec36002d220f",
   "metadata": {},
   "source": [
    "## First 1,000 iterations with an alpha value of 0.0001"
   ]
  },
  {
   "cell_type": "code",
   "execution_count": 38,
   "id": "cd667b1e-789c-4c47-b2ff-96c513227722",
   "metadata": {},
   "outputs": [
    {
     "name": "stdout",
     "output_type": "stream",
     "text": [
      "Iteration    0: Cost     3.39   \n",
      "Iteration  100: Cost     0.51   \n",
      "Iteration  200: Cost     0.50   \n",
      "Iteration  300: Cost     0.50   \n",
      "Iteration  400: Cost     0.50   \n",
      "Iteration  500: Cost     0.50   \n",
      "Iteration  600: Cost     0.50   \n",
      "Iteration  700: Cost     0.50   \n",
      "Iteration  800: Cost     0.50   \n",
      "Iteration  900: Cost     0.50   \n",
      "Iteration  999: Cost     0.50   \n"
     ]
    }
   ],
   "source": [
    "# Some gradient descent settings\n",
    "iterations = 1000\n",
    "alpha = 0.0001\n",
    "\n",
    "w,b, J_history,_ = gradient_descent(x_train ,y_train, initial_w, initial_b, \n",
    "                                   compute_cost, compute_gradient, alpha, iterations, 0)"
   ]
  },
  {
   "cell_type": "code",
   "execution_count": null,
   "id": "fd3c94f8-577d-485e-ae6d-e24e8bce555b",
   "metadata": {},
   "outputs": [],
   "source": []
  },
  {
   "cell_type": "markdown",
   "id": "cb14daac-ddf6-4a04-ad7c-3f0ab6a9270a",
   "metadata": {},
   "source": [
    "### During the first trial of 1,000 iterations with an alpha of 0.0001 we see the cost start at 3.50 and consistently decreases to 0.50\n",
    "- plotting out the values of J-History at each 99th value to compare to the above which utilized an alpha of 0.001\n",
    "- as shown in below cost never increases"
   ]
  },
  {
   "cell_type": "code",
   "execution_count": 39,
   "id": "668f9ac1-b871-4108-8def-6d17421ae997",
   "metadata": {},
   "outputs": [
    {
     "data": {
      "image/png": "[encoded data removed]",
      "text/plain": [
       "<Figure size 432x288 with 1 Axes>"
      ]
     },
     "metadata": {
      "needs_background": "light"
     },
     "output_type": "display_data"
    }
   ],
   "source": [
    "x = J_history[::99]\n",
    "\n",
    "costFigure, costFigure_axes = plt.subplots()\n",
    "costFigure_axes.plot(x)\n",
    "costFigure_axes.set_xlabel('Every 99th iteration')\n",
    "costFigure_axes.set_ylabel('Cost')\n",
    "costFigure_axes.set_title('Alpha = 0.0001 1000 Iterations Cost Function');\n",
    "costFigure.savefig(\"assets/screenshots/only_bmi_and_glucose/cost1000iterations.png\")\n",
    "\n",
    "plt.show()"
   ]
  },
  {
   "cell_type": "markdown",
   "id": "5eb99a23-77ac-4954-a644-7ae443f64ff3",
   "metadata": {},
   "source": [
    "### Only using alpha = 0.0001 fore further tests with higher number of iterations"
   ]
  },
  {
   "cell_type": "markdown",
   "id": "ebe1ef55-11d0-493a-961e-8e9a2d9b569a",
   "metadata": {},
   "source": [
    "## Next 10,000 iterations"
   ]
  },
  {
   "cell_type": "code",
   "execution_count": 40,
   "id": "844cefb9-0c92-4568-80bd-8f86d8f3161d",
   "metadata": {},
   "outputs": [
    {
     "name": "stdout",
     "output_type": "stream",
     "text": [
      "Iteration    0: Cost     3.39   \n",
      "Iteration 1000: Cost     0.50   \n",
      "Iteration 2000: Cost     0.50   \n",
      "Iteration 3000: Cost     0.50   \n",
      "Iteration 4000: Cost     0.50   \n",
      "Iteration 5000: Cost     0.50   \n",
      "Iteration 6000: Cost     0.50   \n",
      "Iteration 7000: Cost     0.50   \n",
      "Iteration 8000: Cost     0.50   \n",
      "Iteration 9000: Cost     0.50   \n",
      "Iteration 9999: Cost     0.50   \n"
     ]
    }
   ],
   "source": [
    "# Some gradient descent settings\n",
    "iterations = 10000\n",
    "alpha = 0.0001\n",
    "\n",
    "w,b, J_history,_ = gradient_descent(x_train ,y_train, initial_w, initial_b, \n",
    "                                   compute_cost, compute_gradient, alpha, iterations, 0)"
   ]
  },
  {
   "cell_type": "code",
   "execution_count": 41,
   "id": "b111cf6e-2306-4da4-8ff4-998c9a0b466f",
   "metadata": {},
   "outputs": [
    {
     "data": {
      "image/png": "[encoded data removed]",
      "text/plain": [
       "<Figure size 432x288 with 1 Axes>"
      ]
     },
     "metadata": {
      "needs_background": "light"
     },
     "output_type": "display_data"
    }
   ],
   "source": [
    "x = J_history[::999]\n",
    "\n",
    "costFigure, costFigure_axes = plt.subplots()\n",
    "costFigure_axes.plot(x)\n",
    "costFigure_axes.set_xlabel('Every 999th iteration')\n",
    "costFigure_axes.set_ylabel('Cost')\n",
    "costFigure_axes.set_title('Alpha = 0.0001 10,000 Iterations Cost Function');\n",
    "costFigure.savefig(\"assets/screenshots/only_bmi_and_glucose/cost10000iterations.png\")\n",
    "\n",
    "plt.show()"
   ]
  },
  {
   "cell_type": "markdown",
   "id": "d6ebd495-64b6-4f04-bc53-37bc3babfe08",
   "metadata": {},
   "source": [
    "### During the next trial of 10,000 iterations we see the cost start at 3.50 and decreases to 0.50, no change from 1000 iterations"
   ]
  },
  {
   "cell_type": "code",
   "execution_count": null,
   "id": "f3e1b5d0-8826-4acc-b9c0-534bb10e50b4",
   "metadata": {},
   "outputs": [],
   "source": []
  },
  {
   "cell_type": "markdown",
   "id": "abec7646-68d0-44a1-94c2-94253b514e56",
   "metadata": {
    "tags": []
   },
   "source": [
    "## Next 100,000 iterations"
   ]
  },
  {
   "cell_type": "code",
   "execution_count": 42,
   "id": "3d5ee3f5-8897-4b60-a630-73669264bc44",
   "metadata": {},
   "outputs": [
    {
     "name": "stdout",
     "output_type": "stream",
     "text": [
      "Iteration    0: Cost     3.39   \n",
      "Iteration 10000: Cost     0.50   \n",
      "Iteration 20000: Cost     0.50   \n",
      "Iteration 30000: Cost     0.50   \n",
      "Iteration 40000: Cost     0.50   \n",
      "Iteration 50000: Cost     0.50   \n",
      "Iteration 60000: Cost     0.50   \n",
      "Iteration 70000: Cost     0.50   \n",
      "Iteration 80000: Cost     0.50   \n",
      "Iteration 90000: Cost     0.50   \n",
      "Iteration 99999: Cost     0.50   \n"
     ]
    }
   ],
   "source": [
    "# Some gradient descent settings\n",
    "iterations = 100000\n",
    "alpha = 0.0001\n",
    "\n",
    "w,b, J_history,_ = gradient_descent(x_train ,y_train, initial_w, initial_b, \n",
    "                                   compute_cost, compute_gradient, alpha, iterations, 0)"
   ]
  },
  {
   "cell_type": "code",
   "execution_count": 43,
   "id": "954d898a-6fe7-4de2-9ef9-66c80d1e23ee",
   "metadata": {},
   "outputs": [
    {
     "data": {
      "image/png": "[encoded data removed]",
      "text/plain": [
       "<Figure size 432x288 with 1 Axes>"
      ]
     },
     "metadata": {
      "needs_background": "light"
     },
     "output_type": "display_data"
    }
   ],
   "source": [
    "x = J_history[::9999]\n",
    "\n",
    "costFigure, costFigure_axes = plt.subplots()\n",
    "costFigure_axes.plot(x)\n",
    "costFigure_axes.set_xlabel('Every 9999th iteration')\n",
    "costFigure_axes.set_ylabel('Cost')\n",
    "costFigure_axes.set_title('Alpha = 0.0001 100,000 Iterations Cost Function');\n",
    "costFigure.savefig(\"assets/screenshots/only_bmi_and_glucose/cost100000iterations.png\")\n",
    "\n",
    "plt.show()"
   ]
  },
  {
   "cell_type": "markdown",
   "id": "8472bf51-bbba-4ec4-aa73-d3de1e41a0f0",
   "metadata": {},
   "source": [
    "### During the final trial of 100,000 iterations we see the cost start at 3.50 and decreases to 0.50"
   ]
  },
  {
   "cell_type": "code",
   "execution_count": null,
   "id": "0c084d6a-07bc-40a1-a821-a37d9c9f268b",
   "metadata": {},
   "outputs": [],
   "source": []
  },
  {
   "cell_type": "code",
   "execution_count": null,
   "id": "1ac43752-c979-42fc-a7be-fc1cf4f65150",
   "metadata": {},
   "outputs": [],
   "source": []
  },
  {
   "cell_type": "markdown",
   "id": "285cda74-d9f1-434d-8924-b476da150d5d",
   "metadata": {},
   "source": [
    "## Define prediction function"
   ]
  },
  {
   "cell_type": "code",
   "execution_count": 44,
   "id": "0ce5c1fd-1710-4026-8d0b-cde742959d19",
   "metadata": {},
   "outputs": [],
   "source": [
    "def predict(X, w, b): \n",
    "    \"\"\"\n",
    "    Predict whether the label is 0 or 1 using learned logistic\n",
    "    regression parameters w\n",
    "    \n",
    "    Args:\n",
    "    X : (ndarray Shape (m, n))\n",
    "    w : (array_like Shape (n,))      Parameters of the model\n",
    "    b : (scalar, float)              Parameter of the model\n",
    "\n",
    "    Returns:\n",
    "    p: (ndarray (m,1))\n",
    "        The predictions for X using a threshold at 0.5\n",
    "    \"\"\"\n",
    "    # number of training examples\n",
    "    m, n = X.shape   \n",
    "    p = np.zeros(m)\n",
    "   \n",
    "    ### START CODE HERE ### \n",
    "    # Loop over each example\n",
    "    for i in range(m):   \n",
    "        z_i = np.dot(X[i],w) + b\n",
    "        # Calculate the prediction for this example\n",
    "        f_wb = sigmoid(z_i)\n",
    "\n",
    "        # Apply the threshold\n",
    "        p[i] = p[i] = f_wb >= 0.5\n",
    "        \n",
    "    ### END CODE HERE ### \n",
    "    return p"
   ]
  },
  {
   "cell_type": "markdown",
   "id": "c98a11cb-1e11-4ff4-9f75-401806a19679",
   "metadata": {
    "tags": []
   },
   "source": [
    "### Compute accuracy on our training set"
   ]
  },
  {
   "cell_type": "code",
   "execution_count": 45,
   "id": "197a08ee-66a7-4d87-95e7-dfce3a01574d",
   "metadata": {},
   "outputs": [
    {
     "name": "stdout",
     "output_type": "stream",
     "text": [
      "Train Accuracy: 78.125000\n"
     ]
    }
   ],
   "source": [
    "#Compute accuracy on our training set\n",
    "p = predict(x_test, w,b)\n",
    "print('Train Accuracy: %f'%(np.mean(p == y_test) * 100))\n"
   ]
  },
  {
   "cell_type": "markdown",
   "id": "f1f7377d-8a62-4a2d-8c1f-baa8e92c99cb",
   "metadata": {},
   "source": [
    "### The model accuracy achieved with only BMI & Glucose as features is 78.12%"
   ]
  },
  {
   "cell_type": "markdown",
   "id": "65648874-a6fe-40e3-b0d2-e5ccec82e096",
   "metadata": {},
   "source": [
    "# Plot predicted data"
   ]
  },
  {
   "cell_type": "code",
   "execution_count": 46,
   "id": "b24213cb-b7a1-4a6b-af96-f5264e9712c9",
   "metadata": {},
   "outputs": [
    {
     "data": {
      "text/html": [
       "<div>\n",
       "<style scoped>\n",
       "    .dataframe tbody tr th:only-of-type {\n",
       "        vertical-align: middle;\n",
       "    }\n",
       "\n",
       "    .dataframe tbody tr th {\n",
       "        vertical-align: top;\n",
       "    }\n",
       "\n",
       "    .dataframe thead th {\n",
       "        text-align: right;\n",
       "    }\n",
       "</style>\n",
       "<table border=\"1\" class=\"dataframe\">\n",
       "  <thead>\n",
       "    <tr style=\"text-align: right;\">\n",
       "      <th></th>\n",
       "      <th>Glucose</th>\n",
       "      <th>BMI</th>\n",
       "      <th>y_test</th>\n",
       "      <th>Prediction</th>\n",
       "    </tr>\n",
       "  </thead>\n",
       "  <tbody>\n",
       "    <tr>\n",
       "      <th>0</th>\n",
       "      <td>151.0</td>\n",
       "      <td>41.8</td>\n",
       "      <td>1</td>\n",
       "      <td>1.0</td>\n",
       "    </tr>\n",
       "    <tr>\n",
       "      <th>1</th>\n",
       "      <td>129.0</td>\n",
       "      <td>27.5</td>\n",
       "      <td>0</td>\n",
       "      <td>0.0</td>\n",
       "    </tr>\n",
       "    <tr>\n",
       "      <th>2</th>\n",
       "      <td>88.0</td>\n",
       "      <td>27.6</td>\n",
       "      <td>0</td>\n",
       "      <td>0.0</td>\n",
       "    </tr>\n",
       "    <tr>\n",
       "      <th>3</th>\n",
       "      <td>109.0</td>\n",
       "      <td>27.9</td>\n",
       "      <td>1</td>\n",
       "      <td>0.0</td>\n",
       "    </tr>\n",
       "    <tr>\n",
       "      <th>4</th>\n",
       "      <td>112.0</td>\n",
       "      <td>38.4</td>\n",
       "      <td>0</td>\n",
       "      <td>0.0</td>\n",
       "    </tr>\n",
       "    <tr>\n",
       "      <th>...</th>\n",
       "      <td>...</td>\n",
       "      <td>...</td>\n",
       "      <td>...</td>\n",
       "      <td>...</td>\n",
       "    </tr>\n",
       "    <tr>\n",
       "      <th>187</th>\n",
       "      <td>125.0</td>\n",
       "      <td>37.6</td>\n",
       "      <td>0</td>\n",
       "      <td>0.0</td>\n",
       "    </tr>\n",
       "    <tr>\n",
       "      <th>188</th>\n",
       "      <td>125.0</td>\n",
       "      <td>22.5</td>\n",
       "      <td>0</td>\n",
       "      <td>0.0</td>\n",
       "    </tr>\n",
       "    <tr>\n",
       "      <th>189</th>\n",
       "      <td>142.0</td>\n",
       "      <td>44.0</td>\n",
       "      <td>1</td>\n",
       "      <td>1.0</td>\n",
       "    </tr>\n",
       "    <tr>\n",
       "      <th>190</th>\n",
       "      <td>159.0</td>\n",
       "      <td>27.4</td>\n",
       "      <td>0</td>\n",
       "      <td>1.0</td>\n",
       "    </tr>\n",
       "    <tr>\n",
       "      <th>191</th>\n",
       "      <td>197.0</td>\n",
       "      <td>36.7</td>\n",
       "      <td>0</td>\n",
       "      <td>1.0</td>\n",
       "    </tr>\n",
       "  </tbody>\n",
       "</table>\n",
       "<p>192 rows × 4 columns</p>\n",
       "</div>"
      ],
      "text/plain": [
       "     Glucose   BMI  y_test  Prediction\n",
       "0      151.0  41.8       1         1.0\n",
       "1      129.0  27.5       0         0.0\n",
       "2       88.0  27.6       0         0.0\n",
       "3      109.0  27.9       1         0.0\n",
       "4      112.0  38.4       0         0.0\n",
       "..       ...   ...     ...         ...\n",
       "187    125.0  37.6       0         0.0\n",
       "188    125.0  22.5       0         0.0\n",
       "189    142.0  44.0       1         1.0\n",
       "190    159.0  27.4       0         1.0\n",
       "191    197.0  36.7       0         1.0\n",
       "\n",
       "[192 rows x 4 columns]"
      ]
     },
     "execution_count": 46,
     "metadata": {},
     "output_type": "execute_result"
    }
   ],
   "source": [
    "# create data frame of the prediction dataset and export to csv\n",
    "glucose = [i[0] for i in x_test[::]]\n",
    "bmi = [i[1] for i in x_test[::]]\n",
    "\n",
    "data ={ \n",
    "    \"Glucose\": glucose,\n",
    "    \"BMI\": bmi,\n",
    "    \"y_test\": y_test,\n",
    "    \"Prediction\": p}\n",
    "\n",
    "predictdf = pd.DataFrame(data)\n",
    "predictdf.to_csv('output_data/2feature-prediction-results.csv')\n",
    "\n",
    "predictdf"
   ]
  },
  {
   "cell_type": "code",
   "execution_count": 47,
   "id": "bf23e28a-1ad4-43e2-993e-f1eaedced5aa",
   "metadata": {},
   "outputs": [
    {
     "data": {
      "text/html": [
       "<div>\n",
       "<style scoped>\n",
       "    .dataframe tbody tr th:only-of-type {\n",
       "        vertical-align: middle;\n",
       "    }\n",
       "\n",
       "    .dataframe tbody tr th {\n",
       "        vertical-align: top;\n",
       "    }\n",
       "\n",
       "    .dataframe thead th {\n",
       "        text-align: right;\n",
       "    }\n",
       "</style>\n",
       "<table border=\"1\" class=\"dataframe\">\n",
       "  <thead>\n",
       "    <tr style=\"text-align: right;\">\n",
       "      <th></th>\n",
       "      <th>Glucose</th>\n",
       "      <th>BMI</th>\n",
       "    </tr>\n",
       "  </thead>\n",
       "  <tbody>\n",
       "    <tr>\n",
       "      <th>0</th>\n",
       "      <td>151.0</td>\n",
       "      <td>41.8</td>\n",
       "    </tr>\n",
       "    <tr>\n",
       "      <th>6</th>\n",
       "      <td>183.0</td>\n",
       "      <td>40.8</td>\n",
       "    </tr>\n",
       "    <tr>\n",
       "      <th>11</th>\n",
       "      <td>181.0</td>\n",
       "      <td>34.1</td>\n",
       "    </tr>\n",
       "    <tr>\n",
       "      <th>13</th>\n",
       "      <td>136.0</td>\n",
       "      <td>35.0</td>\n",
       "    </tr>\n",
       "    <tr>\n",
       "      <th>15</th>\n",
       "      <td>148.0</td>\n",
       "      <td>37.6</td>\n",
       "    </tr>\n",
       "  </tbody>\n",
       "</table>\n",
       "</div>"
      ],
      "text/plain": [
       "    Glucose   BMI\n",
       "0     151.0  41.8\n",
       "6     183.0  40.8\n",
       "11    181.0  34.1\n",
       "13    136.0  35.0\n",
       "15    148.0  37.6"
      ]
     },
     "execution_count": 47,
     "metadata": {},
     "output_type": "execute_result"
    }
   ],
   "source": [
    "predict_diabetics = predictdf[predictdf['Prediction'] == 1][['Glucose','BMI']]\n",
    "predict_nonDiabetics = predictdf[predictdf['Prediction'] == 0][['Glucose','BMI']]\n",
    "predict_diabetics[:5]"
   ]
  },
  {
   "cell_type": "code",
   "execution_count": 48,
   "id": "a60e2a06-9aea-4c5f-bac6-f56b13e7fd4f",
   "metadata": {
    "tags": []
   },
   "outputs": [
    {
     "data": {
      "image/png": "[encoded data removed]",
      "text/plain": [
       "<Figure size 432x288 with 1 Axes>"
      ]
     },
     "metadata": {
      "needs_background": "light"
     },
     "output_type": "display_data"
    }
   ],
   "source": [
    "figure1, figure1_axes = plt.subplots()\n",
    "\n",
    "figure1_axes.scatter(predict_diabetics[['Glucose']], predict_diabetics[['BMI']], \n",
    "                     color = 'r', marker='x', label='Diabetic')\n",
    "figure1_axes.scatter(predict_nonDiabetics[['Glucose']], predict_nonDiabetics[['BMI']], \n",
    "                     color = 'g', marker='o', label='nonDiabetic')\n",
    "\n",
    "figure1_axes.set_xlabel('Glucose')\n",
    "figure1_axes.set_ylabel('BMI')\n",
    "figure1_axes.legend(['Diabetic', 'nonDiabetic'])\n",
    "figure1_axes.set_title('Detecting Diabetes in Female Patients');\n",
    "figure1.savefig(\"assets/screenshots/only_bmi_and_glucose/visualizations/predictglucoseVSbmi.png\")"
   ]
  },
  {
   "cell_type": "code",
   "execution_count": null,
   "id": "3341db4d-7194-4700-8e18-52e97709953b",
   "metadata": {
    "tags": []
   },
   "outputs": [],
   "source": []
  },
  {
   "cell_type": "markdown",
   "id": "6e5aa7d6-ae08-47f3-8f18-e98fdd74b082",
   "metadata": {
    "tags": []
   },
   "source": [
    "# Trial 3\n",
    "- (Chosen features are Glucose, BMI, & Age)"
   ]
  },
  {
   "cell_type": "code",
   "execution_count": 49,
   "id": "4118c1e3-927b-4e95-bc9c-4ffab8f81bae",
   "metadata": {},
   "outputs": [
    {
     "data": {
      "text/html": [
       "<div>\n",
       "<style scoped>\n",
       "    .dataframe tbody tr th:only-of-type {\n",
       "        vertical-align: middle;\n",
       "    }\n",
       "\n",
       "    .dataframe tbody tr th {\n",
       "        vertical-align: top;\n",
       "    }\n",
       "\n",
       "    .dataframe thead th {\n",
       "        text-align: right;\n",
       "    }\n",
       "</style>\n",
       "<table border=\"1\" class=\"dataframe\">\n",
       "  <thead>\n",
       "    <tr style=\"text-align: right;\">\n",
       "      <th></th>\n",
       "      <th>Pregnancies</th>\n",
       "      <th>Glucose</th>\n",
       "      <th>BloodPressure</th>\n",
       "      <th>SkinThickness</th>\n",
       "      <th>Insulin</th>\n",
       "      <th>BMI</th>\n",
       "      <th>DiabetesPedigreeFunction</th>\n",
       "      <th>Age</th>\n",
       "      <th>Outcome</th>\n",
       "    </tr>\n",
       "  </thead>\n",
       "  <tbody>\n",
       "    <tr>\n",
       "      <th>0</th>\n",
       "      <td>6</td>\n",
       "      <td>148</td>\n",
       "      <td>72</td>\n",
       "      <td>35</td>\n",
       "      <td>0</td>\n",
       "      <td>33.6</td>\n",
       "      <td>0.627</td>\n",
       "      <td>50</td>\n",
       "      <td>1</td>\n",
       "    </tr>\n",
       "    <tr>\n",
       "      <th>1</th>\n",
       "      <td>1</td>\n",
       "      <td>85</td>\n",
       "      <td>66</td>\n",
       "      <td>29</td>\n",
       "      <td>0</td>\n",
       "      <td>26.6</td>\n",
       "      <td>0.351</td>\n",
       "      <td>31</td>\n",
       "      <td>0</td>\n",
       "    </tr>\n",
       "    <tr>\n",
       "      <th>2</th>\n",
       "      <td>8</td>\n",
       "      <td>183</td>\n",
       "      <td>64</td>\n",
       "      <td>0</td>\n",
       "      <td>0</td>\n",
       "      <td>23.3</td>\n",
       "      <td>0.672</td>\n",
       "      <td>32</td>\n",
       "      <td>1</td>\n",
       "    </tr>\n",
       "    <tr>\n",
       "      <th>3</th>\n",
       "      <td>1</td>\n",
       "      <td>89</td>\n",
       "      <td>66</td>\n",
       "      <td>23</td>\n",
       "      <td>94</td>\n",
       "      <td>28.1</td>\n",
       "      <td>0.167</td>\n",
       "      <td>21</td>\n",
       "      <td>0</td>\n",
       "    </tr>\n",
       "    <tr>\n",
       "      <th>4</th>\n",
       "      <td>0</td>\n",
       "      <td>137</td>\n",
       "      <td>40</td>\n",
       "      <td>35</td>\n",
       "      <td>168</td>\n",
       "      <td>43.1</td>\n",
       "      <td>2.288</td>\n",
       "      <td>33</td>\n",
       "      <td>1</td>\n",
       "    </tr>\n",
       "  </tbody>\n",
       "</table>\n",
       "</div>"
      ],
      "text/plain": [
       "   Pregnancies  Glucose  BloodPressure  SkinThickness  Insulin   BMI  \\\n",
       "0            6      148             72             35        0  33.6   \n",
       "1            1       85             66             29        0  26.6   \n",
       "2            8      183             64              0        0  23.3   \n",
       "3            1       89             66             23       94  28.1   \n",
       "4            0      137             40             35      168  43.1   \n",
       "\n",
       "   DiabetesPedigreeFunction  Age  Outcome  \n",
       "0                     0.627   50        1  \n",
       "1                     0.351   31        0  \n",
       "2                     0.672   32        1  \n",
       "3                     0.167   21        0  \n",
       "4                     2.288   33        1  "
      ]
     },
     "execution_count": 49,
     "metadata": {},
     "output_type": "execute_result"
    }
   ],
   "source": [
    "# create copy of original dataframe for 2nd trial\n",
    "trial3 = diabetesCSV.copy()\n",
    "trial3.head()"
   ]
  },
  {
   "cell_type": "markdown",
   "id": "ea238550-d750-4967-a015-8f041300f0f2",
   "metadata": {},
   "source": [
    "### Choosing features"
   ]
  },
  {
   "cell_type": "code",
   "execution_count": 50,
   "id": "1fc34e51-8770-496a-92b1-c200acda955b",
   "metadata": {},
   "outputs": [
    {
     "name": "stdout",
     "output_type": "stream",
     "text": [
      "[[148, 33.6, 50], [85, 26.6, 31], [183, 23.3, 32], [89, 28.1, 21], [137, 43.1, 33]]\n",
      "[1, 0, 1, 0, 1]\n"
     ]
    }
   ],
   "source": [
    "# create empty list\n",
    "feature = []\n",
    "target = []\n",
    "\n",
    "# for loop to create feature lists to add to above created list\n",
    "\n",
    "for i in range(len(trial3)):\n",
    "    diabetesX = []\n",
    "    diabetesY = ''\n",
    "    \n",
    "    # 1 == Glucose, 5 == BMI, 7 == Age\n",
    "    diabetesY = trial3.iloc[i,8]\n",
    "    diabetesX.append(trial3.iloc[i,1])\n",
    "    diabetesX.append(trial3.iloc[i,5])\n",
    "    diabetesX.append(trial3.iloc[i,7])\n",
    "    \n",
    "    feature.append(diabetesX)\n",
    "    target.append(diabetesY)\n",
    "    \n",
    "print(feature[:5])\n",
    "print(target[:5])"
   ]
  },
  {
   "cell_type": "code",
   "execution_count": 51,
   "id": "5a22a0f3-2ced-496a-98d7-3cf74d79a638",
   "metadata": {},
   "outputs": [
    {
     "data": {
      "text/plain": [
       "array([[148. ,  33.6,  50. ],\n",
       "       [ 85. ,  26.6,  31. ],\n",
       "       [183. ,  23.3,  32. ],\n",
       "       [ 89. ,  28.1,  21. ],\n",
       "       [137. ,  43.1,  33. ]])"
      ]
     },
     "execution_count": 51,
     "metadata": {},
     "output_type": "execute_result"
    }
   ],
   "source": [
    "# Turn python lists into numpy arrays\n",
    "features = np.array(feature)\n",
    "targets = np.array(target)\n",
    "features[:5]"
   ]
  },
  {
   "cell_type": "markdown",
   "id": "f24a5f1b-bab9-44ec-a3d8-07d72c8c18a3",
   "metadata": {},
   "source": [
    "### Use Z-Score normalization on features to visualize"
   ]
  },
  {
   "cell_type": "code",
   "execution_count": 52,
   "id": "de3c4967-a8f0-4f47-ad63-22b3d1a6b85c",
   "metadata": {},
   "outputs": [
    {
     "data": {
      "text/plain": [
       "46.2500870684115"
      ]
     },
     "execution_count": 52,
     "metadata": {},
     "output_type": "execute_result"
    }
   ],
   "source": [
    "# finding standard deviation and mean of each column\n",
    "featureSTDEV = features.std()\n",
    "featureAVG = np.average(features)\n",
    "featureSTDEV"
   ]
  },
  {
   "cell_type": "code",
   "execution_count": 53,
   "id": "de948b99-4f01-4aca-9244-eb39969c6289",
   "metadata": {},
   "outputs": [],
   "source": [
    "# implement Z-Score normalization\n",
    "featuresNORM = (features - featureAVG)/featureSTDEV"
   ]
  },
  {
   "cell_type": "markdown",
   "id": "603dc7f2-b350-4c0a-bd70-27e494206ecf",
   "metadata": {},
   "source": [
    "### Create a dataframe with normalized features "
   ]
  },
  {
   "cell_type": "code",
   "execution_count": 54,
   "id": "52ecb821-12bb-4dac-9038-c2a52cbab970",
   "metadata": {},
   "outputs": [
    {
     "data": {
      "text/html": [
       "<div>\n",
       "<style scoped>\n",
       "    .dataframe tbody tr th:only-of-type {\n",
       "        vertical-align: middle;\n",
       "    }\n",
       "\n",
       "    .dataframe tbody tr th {\n",
       "        vertical-align: top;\n",
       "    }\n",
       "\n",
       "    .dataframe thead th {\n",
       "        text-align: right;\n",
       "    }\n",
       "</style>\n",
       "<table border=\"1\" class=\"dataframe\">\n",
       "  <thead>\n",
       "    <tr style=\"text-align: right;\">\n",
       "      <th></th>\n",
       "      <th>0</th>\n",
       "      <th>1</th>\n",
       "      <th>2</th>\n",
       "      <th>Diabetic?</th>\n",
       "    </tr>\n",
       "  </thead>\n",
       "  <tbody>\n",
       "    <tr>\n",
       "      <th>0</th>\n",
       "      <td>1.858533</td>\n",
       "      <td>-0.614975</td>\n",
       "      <td>-0.260381</td>\n",
       "      <td>1</td>\n",
       "    </tr>\n",
       "    <tr>\n",
       "      <th>1</th>\n",
       "      <td>0.496374</td>\n",
       "      <td>-0.766326</td>\n",
       "      <td>-0.671191</td>\n",
       "      <td>0</td>\n",
       "    </tr>\n",
       "    <tr>\n",
       "      <th>2</th>\n",
       "      <td>2.615289</td>\n",
       "      <td>-0.837678</td>\n",
       "      <td>-0.649570</td>\n",
       "      <td>1</td>\n",
       "    </tr>\n",
       "    <tr>\n",
       "      <th>3</th>\n",
       "      <td>0.582860</td>\n",
       "      <td>-0.733894</td>\n",
       "      <td>-0.887407</td>\n",
       "      <td>0</td>\n",
       "    </tr>\n",
       "    <tr>\n",
       "      <th>4</th>\n",
       "      <td>1.620696</td>\n",
       "      <td>-0.409570</td>\n",
       "      <td>-0.627948</td>\n",
       "      <td>1</td>\n",
       "    </tr>\n",
       "    <tr>\n",
       "      <th>...</th>\n",
       "      <td>...</td>\n",
       "      <td>...</td>\n",
       "      <td>...</td>\n",
       "      <td>...</td>\n",
       "    </tr>\n",
       "    <tr>\n",
       "      <th>763</th>\n",
       "      <td>0.842319</td>\n",
       "      <td>-0.630110</td>\n",
       "      <td>0.020699</td>\n",
       "      <td>0</td>\n",
       "    </tr>\n",
       "    <tr>\n",
       "      <th>764</th>\n",
       "      <td>1.296372</td>\n",
       "      <td>-0.545786</td>\n",
       "      <td>-0.757678</td>\n",
       "      <td>0</td>\n",
       "    </tr>\n",
       "    <tr>\n",
       "      <th>765</th>\n",
       "      <td>1.274751</td>\n",
       "      <td>-0.774975</td>\n",
       "      <td>-0.692813</td>\n",
       "      <td>0</td>\n",
       "    </tr>\n",
       "    <tr>\n",
       "      <th>766</th>\n",
       "      <td>1.382859</td>\n",
       "      <td>-0.690651</td>\n",
       "      <td>-0.325246</td>\n",
       "      <td>1</td>\n",
       "    </tr>\n",
       "    <tr>\n",
       "      <th>767</th>\n",
       "      <td>0.669347</td>\n",
       "      <td>-0.684164</td>\n",
       "      <td>-0.844164</td>\n",
       "      <td>0</td>\n",
       "    </tr>\n",
       "  </tbody>\n",
       "</table>\n",
       "<p>768 rows × 4 columns</p>\n",
       "</div>"
      ],
      "text/plain": [
       "            0         1         2  Diabetic?\n",
       "0    1.858533 -0.614975 -0.260381          1\n",
       "1    0.496374 -0.766326 -0.671191          0\n",
       "2    2.615289 -0.837678 -0.649570          1\n",
       "3    0.582860 -0.733894 -0.887407          0\n",
       "4    1.620696 -0.409570 -0.627948          1\n",
       "..        ...       ...       ...        ...\n",
       "763  0.842319 -0.630110  0.020699          0\n",
       "764  1.296372 -0.545786 -0.757678          0\n",
       "765  1.274751 -0.774975 -0.692813          0\n",
       "766  1.382859 -0.690651 -0.325246          1\n",
       "767  0.669347 -0.684164 -0.844164          0\n",
       "\n",
       "[768 rows x 4 columns]"
      ]
     },
     "execution_count": 54,
     "metadata": {},
     "output_type": "execute_result"
    }
   ],
   "source": [
    "df = pd.DataFrame(data = featuresNORM)\n",
    "df['Diabetic?'] = targets\n",
    "df"
   ]
  },
  {
   "cell_type": "code",
   "execution_count": 55,
   "id": "43f11573-5d99-4583-9f44-d1f0621054fb",
   "metadata": {
    "tags": []
   },
   "outputs": [
    {
     "data": {
      "text/html": [
       "<div>\n",
       "<style scoped>\n",
       "    .dataframe tbody tr th:only-of-type {\n",
       "        vertical-align: middle;\n",
       "    }\n",
       "\n",
       "    .dataframe tbody tr th {\n",
       "        vertical-align: top;\n",
       "    }\n",
       "\n",
       "    .dataframe thead th {\n",
       "        text-align: right;\n",
       "    }\n",
       "</style>\n",
       "<table border=\"1\" class=\"dataframe\">\n",
       "  <thead>\n",
       "    <tr style=\"text-align: right;\">\n",
       "      <th></th>\n",
       "      <th>0</th>\n",
       "      <th>1</th>\n",
       "      <th>2</th>\n",
       "    </tr>\n",
       "  </thead>\n",
       "  <tbody>\n",
       "    <tr>\n",
       "      <th>0</th>\n",
       "      <td>1.858533</td>\n",
       "      <td>-0.614975</td>\n",
       "      <td>-0.260381</td>\n",
       "    </tr>\n",
       "    <tr>\n",
       "      <th>2</th>\n",
       "      <td>2.615289</td>\n",
       "      <td>-0.837678</td>\n",
       "      <td>-0.649570</td>\n",
       "    </tr>\n",
       "    <tr>\n",
       "      <th>4</th>\n",
       "      <td>1.620696</td>\n",
       "      <td>-0.409570</td>\n",
       "      <td>-0.627948</td>\n",
       "    </tr>\n",
       "    <tr>\n",
       "      <th>6</th>\n",
       "      <td>0.345023</td>\n",
       "      <td>-0.671191</td>\n",
       "      <td>-0.779299</td>\n",
       "    </tr>\n",
       "    <tr>\n",
       "      <th>8</th>\n",
       "      <td>2.917991</td>\n",
       "      <td>-0.682002</td>\n",
       "      <td>-0.195517</td>\n",
       "    </tr>\n",
       "  </tbody>\n",
       "</table>\n",
       "</div>"
      ],
      "text/plain": [
       "          0         1         2\n",
       "0  1.858533 -0.614975 -0.260381\n",
       "2  2.615289 -0.837678 -0.649570\n",
       "4  1.620696 -0.409570 -0.627948\n",
       "6  0.345023 -0.671191 -0.779299\n",
       "8  2.917991 -0.682002 -0.195517"
      ]
     },
     "execution_count": 55,
     "metadata": {},
     "output_type": "execute_result"
    }
   ],
   "source": [
    "diabetics = df[df['Diabetic?'] == 1][[0,1,2]]\n",
    "nonDiabetics = df[df['Diabetic?'] == 0][[0,1,2]]\n",
    "diabetics[:5]"
   ]
  },
  {
   "cell_type": "markdown",
   "id": "3af3fae6-eeee-4a6b-a798-e870b63e148e",
   "metadata": {},
   "source": [
    "## Create visualization of chosen features"
   ]
  },
  {
   "cell_type": "code",
   "execution_count": 56,
   "id": "4355442a-7c69-47ff-a79a-eac39d3fca2d",
   "metadata": {
    "tags": []
   },
   "outputs": [
    {
     "data": {
      "image/png": "[encoded data removed]",
      "text/plain": [
       "<Figure size 432x432 with 1 Axes>"
      ]
     },
     "metadata": {
      "needs_background": "light"
     },
     "output_type": "display_data"
    }
   ],
   "source": [
    "# plot chosen features\n",
    "fig = plt.figure(figsize=(6, 6))\n",
    "ax = plt.axes(projection=\"3d\")\n",
    "\n",
    "ax.scatter3D(diabetics[[0]], diabetics[[1]],diabetics[[2]],color='red')\n",
    "ax.scatter3D(nonDiabetics[[0]], nonDiabetics[[1]], nonDiabetics[[2]])\n",
    "\n",
    "ax.set_xlabel('Glucose')\n",
    "ax.set_ylabel('BMI')\n",
    "ax.set_zlabel('Age')\n",
    "ax.legend(['Diabetic', 'nonDiabetic'])\n",
    "ax.set_title('Detecting Diabetes in Female Patients');\n",
    "\n",
    "fig.savefig(\"assets/screenshots/bmi_glucose_age/glucoseBmiAge.png\", dpi=300)\n",
    "\n",
    "plt.show()"
   ]
  },
  {
   "cell_type": "markdown",
   "id": "e4f3cf99-e864-4445-ba55-2aa9365cc0f9",
   "metadata": {},
   "source": [
    "# Create Logistic Model"
   ]
  },
  {
   "cell_type": "code",
   "execution_count": 57,
   "id": "5ef17898-93d8-41b1-913a-b2c85b24a494",
   "metadata": {},
   "outputs": [],
   "source": [
    "# Split the data into X_train, X_test, y_train, y_test\n",
    "x_train, x_test, y_train, y_test = train_test_split(features, targets)"
   ]
  },
  {
   "cell_type": "markdown",
   "id": "88865fdf-6869-4f7d-a873-6534c5932d3c",
   "metadata": {},
   "source": [
    "## Gradient Descent"
   ]
  },
  {
   "cell_type": "code",
   "execution_count": 59,
   "id": "2ee8528e-817d-4694-bcbe-1cb4e636d0d6",
   "metadata": {},
   "outputs": [
    {
     "name": "stdout",
     "output_type": "stream",
     "text": [
      "Iteration    0: Cost     2.54   \n",
      "Iteration  100: Cost     0.50   \n",
      "Iteration  200: Cost     0.50   \n",
      "Iteration  300: Cost     0.49   \n",
      "Iteration  400: Cost     0.49   \n",
      "Iteration  500: Cost     0.49   \n",
      "Iteration  600: Cost     0.48   \n",
      "Iteration  700: Cost     0.48   \n",
      "Iteration  800: Cost     0.48   \n",
      "Iteration  900: Cost     0.48   \n",
      "Iteration  999: Cost     0.48   \n"
     ]
    }
   ],
   "source": [
    "np.random.seed(1)\n",
    "initial_w = 0.01 * (np.random.rand(3).reshape(-1,1) - 0.5)\n",
    "initial_b = -8\n",
    " \n",
    "# Some gradient descent settings\n",
    "iterations = 1000\n",
    "alpha = 0.0001\n",
    "\n",
    "w,b, J_history,_ = gradient_descent(x_train ,y_train, initial_w, initial_b, \n",
    "                                   compute_cost, compute_gradient, alpha, iterations, 0)"
   ]
  },
  {
   "cell_type": "code",
   "execution_count": 60,
   "id": "50d2b7dd-32bd-4972-b99a-6ae006567979",
   "metadata": {
    "tags": []
   },
   "outputs": [
    {
     "data": {
      "image/png": "[encoded data removed]",
      "text/plain": [
       "<Figure size 432x288 with 1 Axes>"
      ]
     },
     "metadata": {
      "needs_background": "light"
     },
     "output_type": "display_data"
    }
   ],
   "source": [
    "x = J_history[::100]\n",
    "\n",
    "costFigure, costFigure_axes = plt.subplots()\n",
    "costFigure_axes.plot(x)\n",
    "costFigure_axes.set_xlabel('Every 100th iteration')\n",
    "costFigure_axes.set_ylabel('Cost')\n",
    "costFigure_axes.set_title('Alpha = 0.0001 1,000 Iterations Cost Function');\n",
    "costFigure.savefig(\"assets/screenshots/bmi_glucose_age/3featuresCost1000Iterations.png\")\n",
    "\n",
    "plt.show()"
   ]
  },
  {
   "cell_type": "markdown",
   "id": "f7e4bc11-79bb-4fe4-bf76-f26e2cd113f0",
   "metadata": {
    "tags": []
   },
   "source": [
    "### During the first trial of 1,000 iterations we see the cost start at 2.54 and decreases to 0.48"
   ]
  },
  {
   "cell_type": "markdown",
   "id": "5cb407db-ff7e-4037-b338-bf58a44f031c",
   "metadata": {},
   "source": [
    "## Next 10,000 iterations"
   ]
  },
  {
   "cell_type": "code",
   "execution_count": 61,
   "id": "86964782-927b-4cb5-aa4f-c87d74715c7d",
   "metadata": {},
   "outputs": [
    {
     "name": "stdout",
     "output_type": "stream",
     "text": [
      "Iteration    0: Cost     2.54   \n",
      "Iteration 1000: Cost     0.48   \n",
      "Iteration 2000: Cost     0.48   \n",
      "Iteration 3000: Cost     0.48   \n",
      "Iteration 4000: Cost     0.48   \n",
      "Iteration 5000: Cost     0.48   \n",
      "Iteration 6000: Cost     0.48   \n",
      "Iteration 7000: Cost     0.48   \n",
      "Iteration 8000: Cost     0.48   \n",
      "Iteration 9000: Cost     0.48   \n",
      "Iteration 9999: Cost     0.48   \n"
     ]
    }
   ],
   "source": [
    "np.random.seed(1)\n",
    "initial_w = 0.01 * (np.random.rand(3).reshape(-1,1) - 0.5)\n",
    "initial_b = -8\n",
    " \n",
    "# Some gradient descent settings\n",
    "iterations = 10000\n",
    "alpha = 0.0001\n",
    "\n",
    "w,b, J_history,_ = gradient_descent(x_train ,y_train, initial_w, initial_b, \n",
    "                                   compute_cost, compute_gradient, alpha, iterations, 0)"
   ]
  },
  {
   "cell_type": "code",
   "execution_count": 62,
   "id": "5ddfa40e-79e7-4590-910e-68146ac444c8",
   "metadata": {
    "tags": []
   },
   "outputs": [
    {
     "data": {
      "image/png": "[encoded data removed]",
      "text/plain": [
       "<Figure size 432x288 with 1 Axes>"
      ]
     },
     "metadata": {
      "needs_background": "light"
     },
     "output_type": "display_data"
    }
   ],
   "source": [
    "x = J_history[::1000]\n",
    "\n",
    "costFigure, costFigure_axes = plt.subplots()\n",
    "costFigure_axes.plot(x)\n",
    "costFigure_axes.set_xlabel('Every 1000th iteration')\n",
    "costFigure_axes.set_ylabel('Cost')\n",
    "costFigure_axes.set_title('Alpha = 0.0001 10,000 Iterations Cost Function');\n",
    "costFigure.savefig(\"assets/screenshots/bmi_glucose_age/3featuresCost10000Iterations.png\")\n",
    "\n",
    "plt.show()"
   ]
  },
  {
   "cell_type": "markdown",
   "id": "bf3d2517-f776-4c2f-a3d1-127626da2712",
   "metadata": {
    "tags": []
   },
   "source": [
    "### During the next trial of 10,000 iterations we see the cost start at 2.54 and decreases to 0.48. No change from 1,000 iterations"
   ]
  },
  {
   "cell_type": "markdown",
   "id": "89fd8c97-2587-4d2e-ae6e-88d557428cf5",
   "metadata": {
    "tags": []
   },
   "source": [
    "## Next 100,000 iterations"
   ]
  },
  {
   "cell_type": "code",
   "execution_count": 63,
   "id": "1e3fd839-7e93-440e-bce5-46f5d0f253e1",
   "metadata": {},
   "outputs": [
    {
     "name": "stdout",
     "output_type": "stream",
     "text": [
      "Iteration    0: Cost     2.54   \n",
      "Iteration 10000: Cost     0.48   \n",
      "Iteration 20000: Cost     0.48   \n",
      "Iteration 30000: Cost     0.48   \n",
      "Iteration 40000: Cost     0.48   \n",
      "Iteration 50000: Cost     0.48   \n",
      "Iteration 60000: Cost     0.48   \n",
      "Iteration 70000: Cost     0.48   \n",
      "Iteration 80000: Cost     0.48   \n",
      "Iteration 90000: Cost     0.48   \n",
      "Iteration 99999: Cost     0.48   \n"
     ]
    }
   ],
   "source": [
    "np.random.seed(1)\n",
    "initial_w = 0.01 * (np.random.rand(3).reshape(-1,1) - 0.5)\n",
    "initial_b = -8\n",
    " \n",
    "# Some gradient descent settings\n",
    "iterations = 100000\n",
    "alpha = 0.0001\n",
    "\n",
    "w,b, J_history,_ = gradient_descent(x_train ,y_train, initial_w, initial_b, \n",
    "                                   compute_cost, compute_gradient, alpha, iterations, 0)"
   ]
  },
  {
   "cell_type": "code",
   "execution_count": 65,
   "id": "6c3dcbf1-c1f8-4b9c-95e6-15ccd8bf1af9",
   "metadata": {
    "tags": []
   },
   "outputs": [
    {
     "data": {
      "image/png": "[encoded data removed]",
      "text/plain": [
       "<Figure size 432x288 with 1 Axes>"
      ]
     },
     "metadata": {
      "needs_background": "light"
     },
     "output_type": "display_data"
    }
   ],
   "source": [
    "x = J_history[::10000]\n",
    "\n",
    "costFigure, costFigure_axes = plt.subplots()\n",
    "costFigure_axes.plot(x)\n",
    "costFigure_axes.set_xlabel('Every 10000th iteration')\n",
    "costFigure_axes.set_ylabel('Cost')\n",
    "costFigure_axes.set_title('Alpha = 0.0001 100,000 Iterations Cost Function');\n",
    "costFigure.savefig(\"assets/screenshots/bmi_glucose_age/3featuresCost100000Iterations.png\")\n",
    "\n",
    "plt.show()"
   ]
  },
  {
   "cell_type": "markdown",
   "id": "e0843d6a-ef3e-4b6b-a248-7fc1399726d7",
   "metadata": {
    "tags": []
   },
   "source": [
    "### During the next trial of 100,000 iterations we see the cost start at 2.54 and decreases to 0.48. No change from 1,000 iterations"
   ]
  },
  {
   "cell_type": "markdown",
   "id": "aa9c5aa5-4a7a-423d-87ae-cd49ebbb520f",
   "metadata": {},
   "source": [
    "# Predict"
   ]
  },
  {
   "cell_type": "markdown",
   "id": "33061011-159a-4185-8d7a-8fe8db7888bb",
   "metadata": {
    "tags": []
   },
   "source": [
    "### Compute accuracy on our training set"
   ]
  },
  {
   "cell_type": "code",
   "execution_count": 66,
   "id": "189740a5-a6aa-4c53-9c79-7c9f7dd1443e",
   "metadata": {
    "tags": []
   },
   "outputs": [
    {
     "name": "stdout",
     "output_type": "stream",
     "text": [
      "Train Accuracy: 75.520833\n"
     ]
    }
   ],
   "source": [
    "#Compute accuracy on our training set\n",
    "p = predict(x_test, w,b)\n",
    "print('Train Accuracy: %f'%(np.mean(p == y_test) * 100))\n"
   ]
  },
  {
   "cell_type": "markdown",
   "id": "967eeef7-803b-4e8c-9061-6f58f53cd98d",
   "metadata": {},
   "source": [
    "### The model accuracy achieved with BMI, Glucose, & Age as features is 75.52%"
   ]
  },
  {
   "cell_type": "markdown",
   "id": "869db449-aa18-4a70-ab0f-fa5b70ce72f3",
   "metadata": {},
   "source": [
    "## Plot predicted data"
   ]
  },
  {
   "cell_type": "code",
   "execution_count": 68,
   "id": "f8d4178f-b2d5-4876-940c-c6db28ea3c0f",
   "metadata": {},
   "outputs": [
    {
     "data": {
      "text/html": [
       "<div>\n",
       "<style scoped>\n",
       "    .dataframe tbody tr th:only-of-type {\n",
       "        vertical-align: middle;\n",
       "    }\n",
       "\n",
       "    .dataframe tbody tr th {\n",
       "        vertical-align: top;\n",
       "    }\n",
       "\n",
       "    .dataframe thead th {\n",
       "        text-align: right;\n",
       "    }\n",
       "</style>\n",
       "<table border=\"1\" class=\"dataframe\">\n",
       "  <thead>\n",
       "    <tr style=\"text-align: right;\">\n",
       "      <th></th>\n",
       "      <th>Glucose</th>\n",
       "      <th>BMI</th>\n",
       "      <th>Age</th>\n",
       "      <th>y_test</th>\n",
       "      <th>Prediction</th>\n",
       "    </tr>\n",
       "  </thead>\n",
       "  <tbody>\n",
       "    <tr>\n",
       "      <th>0</th>\n",
       "      <td>158.0</td>\n",
       "      <td>39.4</td>\n",
       "      <td>29.0</td>\n",
       "      <td>1</td>\n",
       "      <td>1.0</td>\n",
       "    </tr>\n",
       "    <tr>\n",
       "      <th>1</th>\n",
       "      <td>0.0</td>\n",
       "      <td>24.7</td>\n",
       "      <td>22.0</td>\n",
       "      <td>0</td>\n",
       "      <td>0.0</td>\n",
       "    </tr>\n",
       "    <tr>\n",
       "      <th>2</th>\n",
       "      <td>71.0</td>\n",
       "      <td>33.2</td>\n",
       "      <td>21.0</td>\n",
       "      <td>0</td>\n",
       "      <td>0.0</td>\n",
       "    </tr>\n",
       "    <tr>\n",
       "      <th>3</th>\n",
       "      <td>130.0</td>\n",
       "      <td>28.4</td>\n",
       "      <td>34.0</td>\n",
       "      <td>1</td>\n",
       "      <td>0.0</td>\n",
       "    </tr>\n",
       "    <tr>\n",
       "      <th>4</th>\n",
       "      <td>115.0</td>\n",
       "      <td>30.8</td>\n",
       "      <td>21.0</td>\n",
       "      <td>0</td>\n",
       "      <td>0.0</td>\n",
       "    </tr>\n",
       "    <tr>\n",
       "      <th>...</th>\n",
       "      <td>...</td>\n",
       "      <td>...</td>\n",
       "      <td>...</td>\n",
       "      <td>...</td>\n",
       "      <td>...</td>\n",
       "    </tr>\n",
       "    <tr>\n",
       "      <th>187</th>\n",
       "      <td>117.0</td>\n",
       "      <td>25.2</td>\n",
       "      <td>21.0</td>\n",
       "      <td>0</td>\n",
       "      <td>0.0</td>\n",
       "    </tr>\n",
       "    <tr>\n",
       "      <th>188</th>\n",
       "      <td>132.0</td>\n",
       "      <td>26.8</td>\n",
       "      <td>69.0</td>\n",
       "      <td>0</td>\n",
       "      <td>1.0</td>\n",
       "    </tr>\n",
       "    <tr>\n",
       "      <th>189</th>\n",
       "      <td>62.0</td>\n",
       "      <td>32.6</td>\n",
       "      <td>41.0</td>\n",
       "      <td>0</td>\n",
       "      <td>0.0</td>\n",
       "    </tr>\n",
       "    <tr>\n",
       "      <th>190</th>\n",
       "      <td>134.0</td>\n",
       "      <td>25.9</td>\n",
       "      <td>81.0</td>\n",
       "      <td>0</td>\n",
       "      <td>1.0</td>\n",
       "    </tr>\n",
       "    <tr>\n",
       "      <th>191</th>\n",
       "      <td>176.0</td>\n",
       "      <td>33.7</td>\n",
       "      <td>58.0</td>\n",
       "      <td>1</td>\n",
       "      <td>1.0</td>\n",
       "    </tr>\n",
       "  </tbody>\n",
       "</table>\n",
       "<p>192 rows × 5 columns</p>\n",
       "</div>"
      ],
      "text/plain": [
       "     Glucose   BMI   Age  y_test  Prediction\n",
       "0      158.0  39.4  29.0       1         1.0\n",
       "1        0.0  24.7  22.0       0         0.0\n",
       "2       71.0  33.2  21.0       0         0.0\n",
       "3      130.0  28.4  34.0       1         0.0\n",
       "4      115.0  30.8  21.0       0         0.0\n",
       "..       ...   ...   ...     ...         ...\n",
       "187    117.0  25.2  21.0       0         0.0\n",
       "188    132.0  26.8  69.0       0         1.0\n",
       "189     62.0  32.6  41.0       0         0.0\n",
       "190    134.0  25.9  81.0       0         1.0\n",
       "191    176.0  33.7  58.0       1         1.0\n",
       "\n",
       "[192 rows x 5 columns]"
      ]
     },
     "execution_count": 68,
     "metadata": {},
     "output_type": "execute_result"
    }
   ],
   "source": [
    "# create data frame of the prediction dataset and export to csv\n",
    "glucose = [i[0] for i in x_test[::]]\n",
    "bmi = [i[1] for i in x_test[::]]\n",
    "age = [i[2] for i in x_test[::]]\n",
    "\n",
    "data ={ \n",
    "    \"Glucose\": glucose,\n",
    "    \"BMI\": bmi,\n",
    "    \"Age\": age,\n",
    "    \"y_test\": y_test,\n",
    "    \"Prediction\": p}\n",
    "\n",
    "predictdf = pd.DataFrame(data)\n",
    "predictdf.to_csv('output_data/3feature-prediction-results.csv')\n",
    "\n",
    "predictdf"
   ]
  },
  {
   "cell_type": "code",
   "execution_count": 69,
   "id": "199e5934-208f-4d6f-8ad0-ef4bb7691916",
   "metadata": {},
   "outputs": [
    {
     "data": {
      "text/html": [
       "<div>\n",
       "<style scoped>\n",
       "    .dataframe tbody tr th:only-of-type {\n",
       "        vertical-align: middle;\n",
       "    }\n",
       "\n",
       "    .dataframe tbody tr th {\n",
       "        vertical-align: top;\n",
       "    }\n",
       "\n",
       "    .dataframe thead th {\n",
       "        text-align: right;\n",
       "    }\n",
       "</style>\n",
       "<table border=\"1\" class=\"dataframe\">\n",
       "  <thead>\n",
       "    <tr style=\"text-align: right;\">\n",
       "      <th></th>\n",
       "      <th>Glucose</th>\n",
       "      <th>BMI</th>\n",
       "      <th>Age</th>\n",
       "    </tr>\n",
       "  </thead>\n",
       "  <tbody>\n",
       "    <tr>\n",
       "      <th>0</th>\n",
       "      <td>158.0</td>\n",
       "      <td>39.4</td>\n",
       "      <td>29.0</td>\n",
       "    </tr>\n",
       "    <tr>\n",
       "      <th>5</th>\n",
       "      <td>129.0</td>\n",
       "      <td>38.5</td>\n",
       "      <td>43.0</td>\n",
       "    </tr>\n",
       "    <tr>\n",
       "      <th>6</th>\n",
       "      <td>180.0</td>\n",
       "      <td>42.0</td>\n",
       "      <td>25.0</td>\n",
       "    </tr>\n",
       "    <tr>\n",
       "      <th>8</th>\n",
       "      <td>147.0</td>\n",
       "      <td>34.9</td>\n",
       "      <td>30.0</td>\n",
       "    </tr>\n",
       "    <tr>\n",
       "      <th>9</th>\n",
       "      <td>151.0</td>\n",
       "      <td>35.5</td>\n",
       "      <td>28.0</td>\n",
       "    </tr>\n",
       "  </tbody>\n",
       "</table>\n",
       "</div>"
      ],
      "text/plain": [
       "   Glucose   BMI   Age\n",
       "0    158.0  39.4  29.0\n",
       "5    129.0  38.5  43.0\n",
       "6    180.0  42.0  25.0\n",
       "8    147.0  34.9  30.0\n",
       "9    151.0  35.5  28.0"
      ]
     },
     "execution_count": 69,
     "metadata": {},
     "output_type": "execute_result"
    }
   ],
   "source": [
    "predict_diabetics = predictdf[predictdf['Prediction'] == 1][['Glucose','BMI','Age']]\n",
    "predict_nonDiabetics = predictdf[predictdf['Prediction'] == 0][['Glucose','BMI','Age']]\n",
    "predict_diabetics[:5]"
   ]
  },
  {
   "cell_type": "code",
   "execution_count": 70,
   "id": "b537e0cf-fcfe-45ed-9f33-dbb67e17a8d8",
   "metadata": {},
   "outputs": [
    {
     "data": {
      "image/png": "[encoded data removed]",
      "text/plain": [
       "<Figure size 432x432 with 1 Axes>"
      ]
     },
     "metadata": {
      "needs_background": "light"
     },
     "output_type": "display_data"
    }
   ],
   "source": [
    "# plot chosen features\n",
    "fig = plt.figure(figsize=(6, 6))\n",
    "ax = plt.axes(projection=\"3d\")\n",
    "\n",
    "ax.scatter3D(predict_diabetics[['Glucose']], predict_diabetics[['BMI']],predict_diabetics[['Age']],color='red')\n",
    "ax.scatter3D(predict_nonDiabetics[['Glucose']], predict_nonDiabetics[['BMI']], predict_nonDiabetics[['Age']])\n",
    "\n",
    "ax.set_xlabel('Glucose')\n",
    "ax.set_ylabel('BMI')\n",
    "ax.set_zlabel('Age')\n",
    "ax.legend(['Predicted Diabetic', 'Predicted nonDiabetic'])\n",
    "ax.set_title('Predicting Diabetes in Female Patients');\n",
    "\n",
    "fig.savefig(\"assets/screenshots/bmi_glucose_age/predictGlucoseBmiAge.png\", dpi=300)\n",
    "\n",
    "plt.show()"
   ]
  },
  {
   "cell_type": "markdown",
   "id": "58a61af6-6108-45bc-ae02-37bb2a45f987",
   "metadata": {
    "tags": []
   },
   "source": [
    "# Trial 4 \n",
    "- (Chosen features are Glucose, BMI, Age, & Insulin)"
   ]
  },
  {
   "cell_type": "code",
   "execution_count": 71,
   "id": "0f3419f7-03a5-4dfb-a85e-c90d5dc31279",
   "metadata": {},
   "outputs": [
    {
     "data": {
      "text/html": [
       "<div>\n",
       "<style scoped>\n",
       "    .dataframe tbody tr th:only-of-type {\n",
       "        vertical-align: middle;\n",
       "    }\n",
       "\n",
       "    .dataframe tbody tr th {\n",
       "        vertical-align: top;\n",
       "    }\n",
       "\n",
       "    .dataframe thead th {\n",
       "        text-align: right;\n",
       "    }\n",
       "</style>\n",
       "<table border=\"1\" class=\"dataframe\">\n",
       "  <thead>\n",
       "    <tr style=\"text-align: right;\">\n",
       "      <th></th>\n",
       "      <th>Pregnancies</th>\n",
       "      <th>Glucose</th>\n",
       "      <th>BloodPressure</th>\n",
       "      <th>SkinThickness</th>\n",
       "      <th>Insulin</th>\n",
       "      <th>BMI</th>\n",
       "      <th>DiabetesPedigreeFunction</th>\n",
       "      <th>Age</th>\n",
       "      <th>Outcome</th>\n",
       "    </tr>\n",
       "  </thead>\n",
       "  <tbody>\n",
       "    <tr>\n",
       "      <th>0</th>\n",
       "      <td>6</td>\n",
       "      <td>148</td>\n",
       "      <td>72</td>\n",
       "      <td>35</td>\n",
       "      <td>0</td>\n",
       "      <td>33.6</td>\n",
       "      <td>0.627</td>\n",
       "      <td>50</td>\n",
       "      <td>1</td>\n",
       "    </tr>\n",
       "    <tr>\n",
       "      <th>1</th>\n",
       "      <td>1</td>\n",
       "      <td>85</td>\n",
       "      <td>66</td>\n",
       "      <td>29</td>\n",
       "      <td>0</td>\n",
       "      <td>26.6</td>\n",
       "      <td>0.351</td>\n",
       "      <td>31</td>\n",
       "      <td>0</td>\n",
       "    </tr>\n",
       "    <tr>\n",
       "      <th>2</th>\n",
       "      <td>8</td>\n",
       "      <td>183</td>\n",
       "      <td>64</td>\n",
       "      <td>0</td>\n",
       "      <td>0</td>\n",
       "      <td>23.3</td>\n",
       "      <td>0.672</td>\n",
       "      <td>32</td>\n",
       "      <td>1</td>\n",
       "    </tr>\n",
       "    <tr>\n",
       "      <th>3</th>\n",
       "      <td>1</td>\n",
       "      <td>89</td>\n",
       "      <td>66</td>\n",
       "      <td>23</td>\n",
       "      <td>94</td>\n",
       "      <td>28.1</td>\n",
       "      <td>0.167</td>\n",
       "      <td>21</td>\n",
       "      <td>0</td>\n",
       "    </tr>\n",
       "    <tr>\n",
       "      <th>4</th>\n",
       "      <td>0</td>\n",
       "      <td>137</td>\n",
       "      <td>40</td>\n",
       "      <td>35</td>\n",
       "      <td>168</td>\n",
       "      <td>43.1</td>\n",
       "      <td>2.288</td>\n",
       "      <td>33</td>\n",
       "      <td>1</td>\n",
       "    </tr>\n",
       "  </tbody>\n",
       "</table>\n",
       "</div>"
      ],
      "text/plain": [
       "   Pregnancies  Glucose  BloodPressure  SkinThickness  Insulin   BMI  \\\n",
       "0            6      148             72             35        0  33.6   \n",
       "1            1       85             66             29        0  26.6   \n",
       "2            8      183             64              0        0  23.3   \n",
       "3            1       89             66             23       94  28.1   \n",
       "4            0      137             40             35      168  43.1   \n",
       "\n",
       "   DiabetesPedigreeFunction  Age  Outcome  \n",
       "0                     0.627   50        1  \n",
       "1                     0.351   31        0  \n",
       "2                     0.672   32        1  \n",
       "3                     0.167   21        0  \n",
       "4                     2.288   33        1  "
      ]
     },
     "execution_count": 71,
     "metadata": {},
     "output_type": "execute_result"
    }
   ],
   "source": [
    "# create copy of original dataframe for 2nd trial\n",
    "trial4 = diabetesCSV.copy()\n",
    "trial4.head()"
   ]
  },
  {
   "cell_type": "markdown",
   "id": "ce4bdc8a-0c87-444a-8e2c-f3669e2e9963",
   "metadata": {},
   "source": [
    "### Choosing features"
   ]
  },
  {
   "cell_type": "code",
   "execution_count": 72,
   "id": "9055f5bd-1a4b-4a9c-9d3e-4332a13cad7f",
   "metadata": {},
   "outputs": [
    {
     "name": "stdout",
     "output_type": "stream",
     "text": [
      "[[148, 0, 33.6, 50], [85, 0, 26.6, 31], [183, 0, 23.3, 32], [89, 94, 28.1, 21], [137, 168, 43.1, 33]]\n",
      "[1, 0, 1, 0, 1]\n"
     ]
    }
   ],
   "source": [
    "# create empty list\n",
    "feature = []\n",
    "target = []\n",
    "\n",
    "# for loop to create feature lists to add to above created list\n",
    "\n",
    "for i in range(len(trial3)):\n",
    "    diabetesX = []\n",
    "    diabetesY = ''\n",
    "    \n",
    "    # 1 == Glucose, 4 == Insulin, 5 == BMI, 7 == Age, \n",
    "    diabetesY = trial3.iloc[i,8]\n",
    "    diabetesX.append(trial3.iloc[i,1])\n",
    "    diabetesX.append(trial3.iloc[i,4])\n",
    "    diabetesX.append(trial3.iloc[i,5])\n",
    "    diabetesX.append(trial3.iloc[i,7])\n",
    "    \n",
    "    feature.append(diabetesX)\n",
    "    target.append(diabetesY)\n",
    "    \n",
    "print(feature[:5])\n",
    "print(target[:5])"
   ]
  },
  {
   "cell_type": "code",
   "execution_count": 73,
   "id": "b4270197-87fb-4f2a-b063-d4dce0a0aaf6",
   "metadata": {},
   "outputs": [
    {
     "data": {
      "text/plain": [
       "array([[148. ,   0. ,  33.6,  50. ],\n",
       "       [ 85. ,   0. ,  26.6,  31. ],\n",
       "       [183. ,   0. ,  23.3,  32. ],\n",
       "       [ 89. ,  94. ,  28.1,  21. ],\n",
       "       [137. , 168. ,  43.1,  33. ]])"
      ]
     },
     "execution_count": 73,
     "metadata": {},
     "output_type": "execute_result"
    }
   ],
   "source": [
    "# Turn python lists into numpy arrays\n",
    "features = np.array(feature)\n",
    "targets = np.array(target)\n",
    "features[:5]"
   ]
  },
  {
   "cell_type": "markdown",
   "id": "47a1084a-cd4b-4d21-a2a2-aa4fdb67f4a0",
   "metadata": {},
   "source": [
    "# Create Logistic Model"
   ]
  },
  {
   "cell_type": "code",
   "execution_count": 77,
   "id": "48ce5017-84c3-441b-a512-2e03627de41d",
   "metadata": {},
   "outputs": [],
   "source": [
    "# Split the data into X_train, X_test, y_train, y_test\n",
    "x_train, x_test, y_train, y_test = train_test_split(features, targets)"
   ]
  },
  {
   "cell_type": "markdown",
   "id": "5927c282-17df-48f4-a824-92a045503b21",
   "metadata": {},
   "source": [
    "## Gradient Descent"
   ]
  },
  {
   "cell_type": "code",
   "execution_count": 79,
   "id": "1faa045f-d55f-4d77-ae0a-beb839b73686",
   "metadata": {},
   "outputs": [
    {
     "name": "stdout",
     "output_type": "stream",
     "text": [
      "Iteration    0: Cost     2.50   \n",
      "Iteration  100: Cost     0.53   \n",
      "Iteration  200: Cost     0.53   \n",
      "Iteration  300: Cost     0.52   \n",
      "Iteration  400: Cost     0.51   \n",
      "Iteration  500: Cost     0.51   \n",
      "Iteration  600: Cost     0.51   \n",
      "Iteration  700: Cost     0.51   \n",
      "Iteration  800: Cost     0.51   \n",
      "Iteration  900: Cost     0.50   \n",
      "Iteration  999: Cost     0.50   \n"
     ]
    }
   ],
   "source": [
    "# Some gradient descent settings\n",
    "iterations = 1000\n",
    "alpha = 0.0001\n",
    "\n",
    "w,b, J_history,_ = gradient_descent(x_train ,y_train, initial_w, initial_b, \n",
    "                                   compute_cost, compute_gradient, alpha, iterations, 0)"
   ]
  },
  {
   "cell_type": "code",
   "execution_count": 80,
   "id": "4087abe4-9d70-4e7d-921b-86352e9a0002",
   "metadata": {
    "tags": []
   },
   "outputs": [
    {
     "data": {
      "image/png": "[encoded data removed]",
      "text/plain": [
       "<Figure size 432x288 with 1 Axes>"
      ]
     },
     "metadata": {
      "needs_background": "light"
     },
     "output_type": "display_data"
    }
   ],
   "source": [
    "x = J_history[::100]\n",
    "\n",
    "costFigure, costFigure_axes = plt.subplots()\n",
    "costFigure_axes.plot(x)\n",
    "costFigure_axes.set_xlabel('Every 100th iteration')\n",
    "costFigure_axes.set_ylabel('Cost')\n",
    "costFigure_axes.set_title('Alpha = 0.0001 1,000 Iterations Cost Function');\n",
    "costFigure.savefig(\"assets/screenshots/bmi_glucose_age_insulin/4featuresCost1000Iterations.png\")\n",
    "\n",
    "plt.show()"
   ]
  },
  {
   "cell_type": "markdown",
   "id": "c541de14-79c9-451c-ae13-816cde338b58",
   "metadata": {
    "tags": []
   },
   "source": [
    "### During the first trial of 1,000 iterations we see the cost start at 2.50 and decreases to 0.50"
   ]
  },
  {
   "cell_type": "markdown",
   "id": "da033be1-ef57-4301-a2c2-84b66cc711a8",
   "metadata": {},
   "source": [
    "## Next 10,000 iterations"
   ]
  },
  {
   "cell_type": "code",
   "execution_count": 81,
   "id": "7181d643-eb79-432b-bcf4-5ae8b3a03e12",
   "metadata": {},
   "outputs": [
    {
     "name": "stdout",
     "output_type": "stream",
     "text": [
      "Iteration    0: Cost     2.50   \n",
      "Iteration 1000: Cost     0.50   \n",
      "Iteration 2000: Cost     0.50   \n",
      "Iteration 3000: Cost     0.50   \n",
      "Iteration 4000: Cost     0.50   \n",
      "Iteration 5000: Cost     0.50   \n",
      "Iteration 6000: Cost     0.50   \n",
      "Iteration 7000: Cost     0.50   \n",
      "Iteration 8000: Cost     0.50   \n",
      "Iteration 9000: Cost     0.50   \n",
      "Iteration 9999: Cost     0.50   \n"
     ]
    }
   ],
   "source": [
    "# Some gradient descent settings\n",
    "iterations = 10000\n",
    "alpha = 0.0001\n",
    "\n",
    "w,b, J_history,_ = gradient_descent(x_train ,y_train, initial_w, initial_b, \n",
    "                                   compute_cost, compute_gradient, alpha, iterations, 0)"
   ]
  },
  {
   "cell_type": "code",
   "execution_count": 83,
   "id": "9395a2b8-64cd-41de-9684-3410733ee0f2",
   "metadata": {},
   "outputs": [
    {
     "data": {
      "image/png": "[encoded data removed]",
      "text/plain": [
       "<Figure size 432x288 with 1 Axes>"
      ]
     },
     "metadata": {
      "needs_background": "light"
     },
     "output_type": "display_data"
    }
   ],
   "source": [
    "x = J_history[::1000]\n",
    "\n",
    "costFigure, costFigure_axes = plt.subplots()\n",
    "costFigure_axes.plot(x)\n",
    "costFigure_axes.set_xlabel('Every 1000th iteration')\n",
    "costFigure_axes.set_ylabel('Cost')\n",
    "costFigure_axes.set_title('Alpha = 0.0001 10,000 Iterations Cost Function');\n",
    "costFigure.savefig(\"assets/screenshots/bmi_glucose_age_insulin/4featuresCost10000Iterations.png\")\n",
    "\n",
    "plt.show()"
   ]
  },
  {
   "cell_type": "markdown",
   "id": "0dbacac5-ee05-4dfa-9461-124b819b9351",
   "metadata": {
    "tags": []
   },
   "source": [
    "### During the final trial of 100,000 iterations we see the cost start at 2.50 and decreases to 0.50"
   ]
  },
  {
   "cell_type": "code",
   "execution_count": null,
   "id": "11369eea-bb2c-4e0c-ba32-dba3faaa4fed",
   "metadata": {},
   "outputs": [],
   "source": []
  },
  {
   "cell_type": "markdown",
   "id": "b6b06040-0bf2-4e51-b2ed-3fcfe9ffe5c1",
   "metadata": {},
   "source": [
    "## Next 100,000 iterations"
   ]
  },
  {
   "cell_type": "code",
   "execution_count": 84,
   "id": "4f327198-0e75-4991-a5be-6defe00e719e",
   "metadata": {},
   "outputs": [
    {
     "name": "stdout",
     "output_type": "stream",
     "text": [
      "Iteration    0: Cost     2.50   \n",
      "Iteration 10000: Cost     0.50   \n",
      "Iteration 20000: Cost     0.50   \n",
      "Iteration 30000: Cost     0.50   \n",
      "Iteration 40000: Cost     0.50   \n",
      "Iteration 50000: Cost     0.50   \n",
      "Iteration 60000: Cost     0.50   \n",
      "Iteration 70000: Cost     0.50   \n",
      "Iteration 80000: Cost     0.50   \n",
      "Iteration 90000: Cost     0.50   \n",
      "Iteration 99999: Cost     0.50   \n"
     ]
    }
   ],
   "source": [
    "# Some gradient descent settings\n",
    "iterations = 100000\n",
    "alpha = 0.0001\n",
    "\n",
    "w,b, J_history,_ = gradient_descent(x_train ,y_train, initial_w, initial_b, \n",
    "                                   compute_cost, compute_gradient, alpha, iterations, 0)"
   ]
  },
  {
   "cell_type": "code",
   "execution_count": 85,
   "id": "b5b02bb6-faab-455b-9073-e55614b0da45",
   "metadata": {},
   "outputs": [
    {
     "data": {
      "image/png": "[encoded data removed]",
      "text/plain": [
       "<Figure size 432x288 with 1 Axes>"
      ]
     },
     "metadata": {
      "needs_background": "light"
     },
     "output_type": "display_data"
    }
   ],
   "source": [
    "x = J_history[::10000]\n",
    "\n",
    "costFigure, costFigure_axes = plt.subplots()\n",
    "costFigure_axes.plot(x)\n",
    "costFigure_axes.set_xlabel('Every 10000th iteration')\n",
    "costFigure_axes.set_ylabel('Cost')\n",
    "costFigure_axes.set_title('Alpha = 0.0001 100,000 Iterations Cost Function');\n",
    "costFigure.savefig(\"assets/screenshots/bmi_glucose_age_insulin/4featuresCost100000Iterations.png\")\n",
    "\n",
    "plt.show()"
   ]
  },
  {
   "cell_type": "markdown",
   "id": "bd40785c-c548-4b4f-9ab1-a786650d4fbf",
   "metadata": {},
   "source": [
    "### During the final trial of 100,000 iterations we see the cost start at 2.50 and decreases to 0.50"
   ]
  },
  {
   "cell_type": "code",
   "execution_count": null,
   "id": "37cf5865-64c6-4e9b-a660-c3379f23859d",
   "metadata": {},
   "outputs": [],
   "source": []
  },
  {
   "cell_type": "markdown",
   "id": "a3f1f90c-cdf5-4b52-8fdb-695e90403773",
   "metadata": {},
   "source": [
    "# Predict"
   ]
  },
  {
   "cell_type": "markdown",
   "id": "a5368660-8399-4355-a965-939c48b5e209",
   "metadata": {
    "tags": []
   },
   "source": [
    "### Compute accuracy on our training set"
   ]
  },
  {
   "cell_type": "code",
   "execution_count": 86,
   "id": "49568621-5d30-4b87-b3da-e5d60e0b07e8",
   "metadata": {
    "tags": []
   },
   "outputs": [
    {
     "name": "stdout",
     "output_type": "stream",
     "text": [
      "Train Accuracy: 78.125000\n"
     ]
    }
   ],
   "source": [
    "#Compute accuracy on our training set\n",
    "p = predict(x_test, w,b)\n",
    "print('Train Accuracy: %f'%(np.mean(p == y_test) * 100))\n"
   ]
  },
  {
   "cell_type": "markdown",
   "id": "5dea230d-80dd-458e-9613-24ed5caec455",
   "metadata": {},
   "source": [
    "### The model accuracy achieved with BMI, Glucose, Age & Insulin as features is 78.13%"
   ]
  },
  {
   "cell_type": "code",
   "execution_count": 87,
   "id": "0e2da880-5cd9-4c48-8ec0-b35800616149",
   "metadata": {},
   "outputs": [
    {
     "data": {
      "text/html": [
       "<div>\n",
       "<style scoped>\n",
       "    .dataframe tbody tr th:only-of-type {\n",
       "        vertical-align: middle;\n",
       "    }\n",
       "\n",
       "    .dataframe tbody tr th {\n",
       "        vertical-align: top;\n",
       "    }\n",
       "\n",
       "    .dataframe thead th {\n",
       "        text-align: right;\n",
       "    }\n",
       "</style>\n",
       "<table border=\"1\" class=\"dataframe\">\n",
       "  <thead>\n",
       "    <tr style=\"text-align: right;\">\n",
       "      <th></th>\n",
       "      <th>Glucose</th>\n",
       "      <th>Insulin</th>\n",
       "      <th>BMI</th>\n",
       "      <th>Age</th>\n",
       "      <th>y_test</th>\n",
       "      <th>Prediction</th>\n",
       "    </tr>\n",
       "  </thead>\n",
       "  <tbody>\n",
       "    <tr>\n",
       "      <th>0</th>\n",
       "      <td>155.0</td>\n",
       "      <td>545.0</td>\n",
       "      <td>38.7</td>\n",
       "      <td>34.0</td>\n",
       "      <td>0</td>\n",
       "      <td>1.0</td>\n",
       "    </tr>\n",
       "    <tr>\n",
       "      <th>1</th>\n",
       "      <td>151.0</td>\n",
       "      <td>0.0</td>\n",
       "      <td>26.1</td>\n",
       "      <td>22.0</td>\n",
       "      <td>0</td>\n",
       "      <td>0.0</td>\n",
       "    </tr>\n",
       "    <tr>\n",
       "      <th>2</th>\n",
       "      <td>124.0</td>\n",
       "      <td>600.0</td>\n",
       "      <td>28.7</td>\n",
       "      <td>52.0</td>\n",
       "      <td>1</td>\n",
       "      <td>0.0</td>\n",
       "    </tr>\n",
       "    <tr>\n",
       "      <th>3</th>\n",
       "      <td>90.0</td>\n",
       "      <td>43.0</td>\n",
       "      <td>27.2</td>\n",
       "      <td>24.0</td>\n",
       "      <td>0</td>\n",
       "      <td>0.0</td>\n",
       "    </tr>\n",
       "    <tr>\n",
       "      <th>4</th>\n",
       "      <td>168.0</td>\n",
       "      <td>0.0</td>\n",
       "      <td>32.9</td>\n",
       "      <td>41.0</td>\n",
       "      <td>1</td>\n",
       "      <td>1.0</td>\n",
       "    </tr>\n",
       "    <tr>\n",
       "      <th>...</th>\n",
       "      <td>...</td>\n",
       "      <td>...</td>\n",
       "      <td>...</td>\n",
       "      <td>...</td>\n",
       "      <td>...</td>\n",
       "      <td>...</td>\n",
       "    </tr>\n",
       "    <tr>\n",
       "      <th>187</th>\n",
       "      <td>165.0</td>\n",
       "      <td>680.0</td>\n",
       "      <td>52.3</td>\n",
       "      <td>23.0</td>\n",
       "      <td>0</td>\n",
       "      <td>1.0</td>\n",
       "    </tr>\n",
       "    <tr>\n",
       "      <th>188</th>\n",
       "      <td>139.0</td>\n",
       "      <td>160.0</td>\n",
       "      <td>31.6</td>\n",
       "      <td>25.0</td>\n",
       "      <td>1</td>\n",
       "      <td>0.0</td>\n",
       "    </tr>\n",
       "    <tr>\n",
       "      <th>189</th>\n",
       "      <td>105.0</td>\n",
       "      <td>325.0</td>\n",
       "      <td>36.9</td>\n",
       "      <td>28.0</td>\n",
       "      <td>0</td>\n",
       "      <td>0.0</td>\n",
       "    </tr>\n",
       "    <tr>\n",
       "      <th>190</th>\n",
       "      <td>124.0</td>\n",
       "      <td>130.0</td>\n",
       "      <td>33.2</td>\n",
       "      <td>26.0</td>\n",
       "      <td>0</td>\n",
       "      <td>0.0</td>\n",
       "    </tr>\n",
       "    <tr>\n",
       "      <th>191</th>\n",
       "      <td>111.0</td>\n",
       "      <td>0.0</td>\n",
       "      <td>26.2</td>\n",
       "      <td>23.0</td>\n",
       "      <td>0</td>\n",
       "      <td>0.0</td>\n",
       "    </tr>\n",
       "  </tbody>\n",
       "</table>\n",
       "<p>192 rows × 6 columns</p>\n",
       "</div>"
      ],
      "text/plain": [
       "     Glucose  Insulin   BMI   Age  y_test  Prediction\n",
       "0      155.0    545.0  38.7  34.0       0         1.0\n",
       "1      151.0      0.0  26.1  22.0       0         0.0\n",
       "2      124.0    600.0  28.7  52.0       1         0.0\n",
       "3       90.0     43.0  27.2  24.0       0         0.0\n",
       "4      168.0      0.0  32.9  41.0       1         1.0\n",
       "..       ...      ...   ...   ...     ...         ...\n",
       "187    165.0    680.0  52.3  23.0       0         1.0\n",
       "188    139.0    160.0  31.6  25.0       1         0.0\n",
       "189    105.0    325.0  36.9  28.0       0         0.0\n",
       "190    124.0    130.0  33.2  26.0       0         0.0\n",
       "191    111.0      0.0  26.2  23.0       0         0.0\n",
       "\n",
       "[192 rows x 6 columns]"
      ]
     },
     "execution_count": 87,
     "metadata": {},
     "output_type": "execute_result"
    }
   ],
   "source": [
    "# create data frame of the prediction dataset and export to csv\n",
    "glucose = [i[0] for i in x_test[::]]\n",
    "insulin = [i[1] for i in x_test[::]]\n",
    "bmi = [i[2] for i in x_test[::]]\n",
    "age = [i[3] for i in x_test[::]]\n",
    "\n",
    "data ={ \n",
    "    \"Glucose\": glucose,\n",
    "    \"Insulin\": insulin,\n",
    "    \"BMI\": bmi,\n",
    "    \"Age\": age,\n",
    "    \"y_test\": y_test,\n",
    "    \"Prediction\": p}\n",
    "\n",
    "predictdf = pd.DataFrame(data)\n",
    "predictdf.to_csv('output_data/4feature-prediction-results.csv')\n",
    "\n",
    "predictdf"
   ]
  },
  {
   "cell_type": "code",
   "execution_count": null,
   "id": "554028ac-eaea-4f32-be53-140facc1157b",
   "metadata": {},
   "outputs": [],
   "source": []
  },
  {
   "cell_type": "markdown",
   "id": "0726c394-b28c-433e-8e75-53ee14e773ff",
   "metadata": {},
   "source": [
    "# Trial 5\n",
    "- all available variables"
   ]
  },
  {
   "cell_type": "code",
   "execution_count": 88,
   "id": "485618a1-4877-4c29-aa86-e5dc9b8d86c5",
   "metadata": {},
   "outputs": [
    {
     "data": {
      "text/html": [
       "<div>\n",
       "<style scoped>\n",
       "    .dataframe tbody tr th:only-of-type {\n",
       "        vertical-align: middle;\n",
       "    }\n",
       "\n",
       "    .dataframe tbody tr th {\n",
       "        vertical-align: top;\n",
       "    }\n",
       "\n",
       "    .dataframe thead th {\n",
       "        text-align: right;\n",
       "    }\n",
       "</style>\n",
       "<table border=\"1\" class=\"dataframe\">\n",
       "  <thead>\n",
       "    <tr style=\"text-align: right;\">\n",
       "      <th></th>\n",
       "      <th>Pregnancies</th>\n",
       "      <th>Glucose</th>\n",
       "      <th>BloodPressure</th>\n",
       "      <th>SkinThickness</th>\n",
       "      <th>Insulin</th>\n",
       "      <th>BMI</th>\n",
       "      <th>DiabetesPedigreeFunction</th>\n",
       "      <th>Age</th>\n",
       "      <th>Outcome</th>\n",
       "    </tr>\n",
       "  </thead>\n",
       "  <tbody>\n",
       "    <tr>\n",
       "      <th>0</th>\n",
       "      <td>6</td>\n",
       "      <td>148</td>\n",
       "      <td>72</td>\n",
       "      <td>35</td>\n",
       "      <td>0</td>\n",
       "      <td>33.6</td>\n",
       "      <td>0.627</td>\n",
       "      <td>50</td>\n",
       "      <td>1</td>\n",
       "    </tr>\n",
       "    <tr>\n",
       "      <th>1</th>\n",
       "      <td>1</td>\n",
       "      <td>85</td>\n",
       "      <td>66</td>\n",
       "      <td>29</td>\n",
       "      <td>0</td>\n",
       "      <td>26.6</td>\n",
       "      <td>0.351</td>\n",
       "      <td>31</td>\n",
       "      <td>0</td>\n",
       "    </tr>\n",
       "    <tr>\n",
       "      <th>2</th>\n",
       "      <td>8</td>\n",
       "      <td>183</td>\n",
       "      <td>64</td>\n",
       "      <td>0</td>\n",
       "      <td>0</td>\n",
       "      <td>23.3</td>\n",
       "      <td>0.672</td>\n",
       "      <td>32</td>\n",
       "      <td>1</td>\n",
       "    </tr>\n",
       "    <tr>\n",
       "      <th>3</th>\n",
       "      <td>1</td>\n",
       "      <td>89</td>\n",
       "      <td>66</td>\n",
       "      <td>23</td>\n",
       "      <td>94</td>\n",
       "      <td>28.1</td>\n",
       "      <td>0.167</td>\n",
       "      <td>21</td>\n",
       "      <td>0</td>\n",
       "    </tr>\n",
       "    <tr>\n",
       "      <th>4</th>\n",
       "      <td>0</td>\n",
       "      <td>137</td>\n",
       "      <td>40</td>\n",
       "      <td>35</td>\n",
       "      <td>168</td>\n",
       "      <td>43.1</td>\n",
       "      <td>2.288</td>\n",
       "      <td>33</td>\n",
       "      <td>1</td>\n",
       "    </tr>\n",
       "  </tbody>\n",
       "</table>\n",
       "</div>"
      ],
      "text/plain": [
       "   Pregnancies  Glucose  BloodPressure  SkinThickness  Insulin   BMI  \\\n",
       "0            6      148             72             35        0  33.6   \n",
       "1            1       85             66             29        0  26.6   \n",
       "2            8      183             64              0        0  23.3   \n",
       "3            1       89             66             23       94  28.1   \n",
       "4            0      137             40             35      168  43.1   \n",
       "\n",
       "   DiabetesPedigreeFunction  Age  Outcome  \n",
       "0                     0.627   50        1  \n",
       "1                     0.351   31        0  \n",
       "2                     0.672   32        1  \n",
       "3                     0.167   21        0  \n",
       "4                     2.288   33        1  "
      ]
     },
     "execution_count": 88,
     "metadata": {},
     "output_type": "execute_result"
    }
   ],
   "source": [
    "# create copy of original dataframe for 2nd trial\n",
    "trial5 = diabetesCSV.copy()\n",
    "trial5.head()"
   ]
  },
  {
   "cell_type": "code",
   "execution_count": 89,
   "id": "c071fd85-b8e5-4ca0-93c8-cc3762523f75",
   "metadata": {},
   "outputs": [],
   "source": [
    "feats = ['Pregnancies', 'Glucose', 'BloodPressure', 'SkinThickness', 'Insulin',\n",
    "       'BMI', 'DiabetesPedigreeFunction', 'Age'] \n",
    "\n",
    "X = trial5[feats]# Features\n",
    "y = trial5.Outcome # Target variable "
   ]
  },
  {
   "cell_type": "code",
   "execution_count": 91,
   "id": "fd153135-47b2-4055-a7cf-fca096b4b849",
   "metadata": {},
   "outputs": [
    {
     "data": {
      "text/plain": [
       "array([1, 0, 1, 0, 1])"
      ]
     },
     "execution_count": 91,
     "metadata": {},
     "output_type": "execute_result"
    }
   ],
   "source": [
    "# Turn python lists into numpy arrays\n",
    "features = np.array(X)\n",
    "targets = np.array(y)\n",
    "targets[:5]"
   ]
  },
  {
   "cell_type": "markdown",
   "id": "3a839224-b793-4c9b-ae1c-7750eef1e74d",
   "metadata": {
    "tags": []
   },
   "source": [
    "### Use Z-Score normalization on features"
   ]
  },
  {
   "cell_type": "code",
   "execution_count": 92,
   "id": "7864b971-6597-445b-af0e-208a2f8646f7",
   "metadata": {},
   "outputs": [
    {
     "data": {
      "text/plain": [
       "58.37297131925462"
      ]
     },
     "execution_count": 92,
     "metadata": {},
     "output_type": "execute_result"
    }
   ],
   "source": [
    "# finding standard deviation and mean of each column\n",
    "featureSTDEV = features.std()\n",
    "featureAVG = np.average(features)\n",
    "featureSTDEV"
   ]
  },
  {
   "cell_type": "code",
   "execution_count": 93,
   "id": "a0b93de2-228d-4a5c-83a9-6b7339bf547e",
   "metadata": {},
   "outputs": [],
   "source": [
    "# implement Z-Score normalization\n",
    "featuresNORM = (features - featureAVG)/featureSTDEV"
   ]
  },
  {
   "cell_type": "markdown",
   "id": "ff366c1d-7542-43fb-8bc1-6b8053d6653d",
   "metadata": {},
   "source": [
    "# Create Logistic Model"
   ]
  },
  {
   "cell_type": "code",
   "execution_count": 94,
   "id": "1dd80055-c4c1-45e8-94fb-1c1f41c2845d",
   "metadata": {},
   "outputs": [],
   "source": [
    "# Split the data into X_train, X_test, y_train, y_test\n",
    "x_train, x_test, y_train, y_test = train_test_split(features, targets)"
   ]
  },
  {
   "cell_type": "markdown",
   "id": "874500e6-f08d-4c6f-b1a0-1b0cb64a5e25",
   "metadata": {},
   "source": [
    "## Gradient Descent"
   ]
  },
  {
   "cell_type": "code",
   "execution_count": 96,
   "id": "963c72f1-69ac-45fb-878f-4e0d7253a694",
   "metadata": {},
   "outputs": [
    {
     "name": "stdout",
     "output_type": "stream",
     "text": [
      "Iteration    0: Cost     2.60   \n",
      "Iteration  100: Cost     0.55   \n",
      "Iteration  200: Cost     0.54   \n",
      "Iteration  300: Cost     0.53   \n",
      "Iteration  400: Cost     0.53   \n",
      "Iteration  500: Cost     0.52   \n",
      "Iteration  600: Cost     0.52   \n",
      "Iteration  700: Cost     0.51   \n",
      "Iteration  800: Cost     0.51   \n",
      "Iteration  900: Cost     0.51   \n",
      "Iteration  999: Cost     0.51   \n"
     ]
    }
   ],
   "source": [
    "np.random.seed(1)\n",
    "initial_w = 0.01 * (np.random.rand(8).reshape(-1,1) - 0.5)\n",
    "initial_b = -8\n",
    " \n",
    "# Some gradient descent settings\n",
    "iterations = 1000\n",
    "alpha = 0.0001\n",
    "\n",
    "w,b, J_history,_ = gradient_descent(x_train ,y_train, initial_w, initial_b, \n",
    "                                   compute_cost, compute_gradient, alpha, iterations, 0)"
   ]
  },
  {
   "cell_type": "code",
   "execution_count": 98,
   "id": "61157aff-e5d2-44a6-92e0-7d0e5adaaa87",
   "metadata": {
    "tags": []
   },
   "outputs": [
    {
     "data": {
      "image/png": "[encoded data removed]",
      "text/plain": [
       "<Figure size 432x288 with 1 Axes>"
      ]
     },
     "metadata": {
      "needs_background": "light"
     },
     "output_type": "display_data"
    }
   ],
   "source": [
    "x = J_history[::100]\n",
    "\n",
    "costFigure, costFigure_axes = plt.subplots()\n",
    "costFigure_axes.plot(x)\n",
    "costFigure_axes.set_xlabel('Every 100th iteration')\n",
    "costFigure_axes.set_ylabel('Cost')\n",
    "costFigure_axes.set_title('Alpha = 0.0001 1,000 Iterations Cost Function');\n",
    "costFigure.savefig(\"assets/screenshots/all_features/visualizations/allfeatCost1000Iterations.png\")\n",
    "\n",
    "plt.show()"
   ]
  },
  {
   "cell_type": "markdown",
   "id": "0dee8b0d-9a90-400a-bb51-7919cd77e2c9",
   "metadata": {
    "tags": []
   },
   "source": [
    "### During the first trial of 1,000 iterations we see the cost start at 2.60 and decreases to 0.50"
   ]
  },
  {
   "cell_type": "markdown",
   "id": "8a01e41d-ea0d-49c9-806f-a3a11549bebb",
   "metadata": {},
   "source": [
    "## Next 10,000 iterations"
   ]
  },
  {
   "cell_type": "code",
   "execution_count": 99,
   "id": "819242be-d169-448e-bde1-efd63b300b9e",
   "metadata": {},
   "outputs": [
    {
     "name": "stdout",
     "output_type": "stream",
     "text": [
      "Iteration    0: Cost     2.60   \n",
      "Iteration 1000: Cost     0.51   \n",
      "Iteration 2000: Cost     0.50   \n",
      "Iteration 3000: Cost     0.50   \n",
      "Iteration 4000: Cost     0.50   \n",
      "Iteration 5000: Cost     0.50   \n",
      "Iteration 6000: Cost     0.50   \n",
      "Iteration 7000: Cost     0.50   \n",
      "Iteration 8000: Cost     0.49   \n",
      "Iteration 9000: Cost     0.49   \n",
      "Iteration 9999: Cost     0.49   \n"
     ]
    }
   ],
   "source": [
    "# Some gradient descent settings\n",
    "iterations = 10000\n",
    "alpha = 0.0001\n",
    "\n",
    "w,b, J_history,_ = gradient_descent(x_train ,y_train, initial_w, initial_b, \n",
    "                                   compute_cost, compute_gradient, alpha, iterations, 0)"
   ]
  },
  {
   "cell_type": "code",
   "execution_count": 100,
   "id": "2ce143cb-fb33-4a89-a4fe-5699ca87e580",
   "metadata": {},
   "outputs": [
    {
     "data": {
      "image/png": "[encoded data removed]",
      "text/plain": [
       "<Figure size 432x288 with 1 Axes>"
      ]
     },
     "metadata": {
      "needs_background": "light"
     },
     "output_type": "display_data"
    }
   ],
   "source": [
    "x = J_history[::1000]\n",
    "\n",
    "costFigure, costFigure_axes = plt.subplots()\n",
    "costFigure_axes.plot(x)\n",
    "costFigure_axes.set_xlabel('Every 1000th iteration')\n",
    "costFigure_axes.set_ylabel('Cost')\n",
    "costFigure_axes.set_title('Alpha = 0.0001 1,000 Iterations Cost Function');\n",
    "costFigure.savefig(\"assets/screenshots/all_features/visualizations/allfeatCost10000Iterations.png\")\n",
    "\n",
    "plt.show()"
   ]
  },
  {
   "cell_type": "markdown",
   "id": "33ef98e9-ab44-4d7c-a8b0-2fcccd8c1040",
   "metadata": {
    "tags": []
   },
   "source": [
    "### During the next trial of 10,000 iterations we see the cost start at 2.60 and decreases to 0.49."
   ]
  },
  {
   "cell_type": "markdown",
   "id": "cb70cc1b-b908-44c4-87e4-23ec82d2859a",
   "metadata": {},
   "source": [
    "## Next 100,000 iterations"
   ]
  },
  {
   "cell_type": "code",
   "execution_count": 101,
   "id": "76a13e23-88b5-46f4-8229-d1f152ea8a50",
   "metadata": {
    "tags": []
   },
   "outputs": [
    {
     "name": "stdout",
     "output_type": "stream",
     "text": [
      "Iteration    0: Cost     2.60   \n",
      "Iteration 10000: Cost     0.49   \n",
      "Iteration 20000: Cost     0.49   \n",
      "Iteration 30000: Cost     0.49   \n",
      "Iteration 40000: Cost     0.49   \n",
      "Iteration 50000: Cost     0.49   \n",
      "Iteration 60000: Cost     0.49   \n",
      "Iteration 70000: Cost     0.49   \n",
      "Iteration 80000: Cost     0.49   \n",
      "Iteration 90000: Cost     0.49   \n",
      "Iteration 99999: Cost     0.49   \n"
     ]
    }
   ],
   "source": [
    "# Some gradient descent settings\n",
    "iterations = 100000\n",
    "alpha = 0.0001\n",
    "\n",
    "w,b, J_history,_ = gradient_descent(x_train ,y_train, initial_w, initial_b, \n",
    "                                   compute_cost, compute_gradient, alpha, iterations, 0)"
   ]
  },
  {
   "cell_type": "code",
   "execution_count": 102,
   "id": "21d42eb3-befe-4338-a8dc-46155288bd75",
   "metadata": {},
   "outputs": [
    {
     "data": {
      "image/png": "[encoded data removed]",
      "text/plain": [
       "<Figure size 432x288 with 1 Axes>"
      ]
     },
     "metadata": {
      "needs_background": "light"
     },
     "output_type": "display_data"
    }
   ],
   "source": [
    "x = J_history[::10000]\n",
    "\n",
    "costFigure, costFigure_axes = plt.subplots()\n",
    "costFigure_axes.plot(x)\n",
    "costFigure_axes.set_xlabel('Every 10,00th iteration')\n",
    "costFigure_axes.set_ylabel('Cost')\n",
    "costFigure_axes.set_title('Alpha = 0.0001 100,000 Iterations Cost Function');\n",
    "costFigure.savefig(\"assets/screenshots/all_features/visualizations/allfeatCost100000Iterations.png\")\n",
    "\n",
    "plt.show()"
   ]
  },
  {
   "cell_type": "markdown",
   "id": "01c547da-38ee-48f4-a131-cbf5427a389c",
   "metadata": {},
   "source": [
    "# Predict"
   ]
  },
  {
   "cell_type": "code",
   "execution_count": 103,
   "id": "bc0d2ecc-3ff8-4a88-a185-6137f1fd4ab6",
   "metadata": {
    "tags": []
   },
   "outputs": [
    {
     "name": "stdout",
     "output_type": "stream",
     "text": [
      "Train Accuracy: 80.208333\n"
     ]
    }
   ],
   "source": [
    "#Compute accuracy on our training set\n",
    "p = predict(c, w,b)\n",
    "print('Train Accuracy: %f'%(np.mean(p == y_test) * 100))\n"
   ]
  },
  {
   "cell_type": "markdown",
   "id": "708ac05d-eb74-4928-bb2a-a238b3d86c52",
   "metadata": {},
   "source": [
    "### The model accuracy achieved with all variables as features is 80.21%"
   ]
  },
  {
   "cell_type": "code",
   "execution_count": 105,
   "id": "a8a5e4c7-ac5a-4cac-b011-eeb20bb57ab2",
   "metadata": {},
   "outputs": [
    {
     "data": {
      "text/html": [
       "<div>\n",
       "<style scoped>\n",
       "    .dataframe tbody tr th:only-of-type {\n",
       "        vertical-align: middle;\n",
       "    }\n",
       "\n",
       "    .dataframe tbody tr th {\n",
       "        vertical-align: top;\n",
       "    }\n",
       "\n",
       "    .dataframe thead th {\n",
       "        text-align: right;\n",
       "    }\n",
       "</style>\n",
       "<table border=\"1\" class=\"dataframe\">\n",
       "  <thead>\n",
       "    <tr style=\"text-align: right;\">\n",
       "      <th></th>\n",
       "      <th>Pregnancies</th>\n",
       "      <th>Glucose</th>\n",
       "      <th>BloodPressure</th>\n",
       "      <th>SkinThickness</th>\n",
       "      <th>Insulin</th>\n",
       "      <th>BMI</th>\n",
       "      <th>DiabetesPedigreeFunction</th>\n",
       "      <th>Age</th>\n",
       "      <th>Outcome</th>\n",
       "    </tr>\n",
       "  </thead>\n",
       "  <tbody>\n",
       "    <tr>\n",
       "      <th>0</th>\n",
       "      <td>6</td>\n",
       "      <td>148</td>\n",
       "      <td>72</td>\n",
       "      <td>35</td>\n",
       "      <td>0</td>\n",
       "      <td>33.6</td>\n",
       "      <td>0.627</td>\n",
       "      <td>50</td>\n",
       "      <td>1</td>\n",
       "    </tr>\n",
       "  </tbody>\n",
       "</table>\n",
       "</div>"
      ],
      "text/plain": [
       "   Pregnancies  Glucose  BloodPressure  SkinThickness  Insulin   BMI  \\\n",
       "0            6      148             72             35        0  33.6   \n",
       "\n",
       "   DiabetesPedigreeFunction  Age  Outcome  \n",
       "0                     0.627   50        1  "
      ]
     },
     "execution_count": 105,
     "metadata": {},
     "output_type": "execute_result"
    }
   ],
   "source": [
    "trial5.head(1)"
   ]
  },
  {
   "cell_type": "code",
   "execution_count": 106,
   "id": "3ed1dffb-2c5e-465d-8968-bfe00d6fdefe",
   "metadata": {},
   "outputs": [
    {
     "data": {
      "text/html": [
       "<div>\n",
       "<style scoped>\n",
       "    .dataframe tbody tr th:only-of-type {\n",
       "        vertical-align: middle;\n",
       "    }\n",
       "\n",
       "    .dataframe tbody tr th {\n",
       "        vertical-align: top;\n",
       "    }\n",
       "\n",
       "    .dataframe thead th {\n",
       "        text-align: right;\n",
       "    }\n",
       "</style>\n",
       "<table border=\"1\" class=\"dataframe\">\n",
       "  <thead>\n",
       "    <tr style=\"text-align: right;\">\n",
       "      <th></th>\n",
       "      <th>Pregnancies</th>\n",
       "      <th>Glucose</th>\n",
       "      <th>BloodPressure</th>\n",
       "      <th>SkinThickness</th>\n",
       "      <th>Insulin</th>\n",
       "      <th>BMI</th>\n",
       "      <th>DiabetesPedigreeFunction</th>\n",
       "      <th>Age</th>\n",
       "      <th>y_test</th>\n",
       "      <th>Prediction</th>\n",
       "    </tr>\n",
       "  </thead>\n",
       "  <tbody>\n",
       "    <tr>\n",
       "      <th>0</th>\n",
       "      <td>1.0</td>\n",
       "      <td>173.0</td>\n",
       "      <td>74.0</td>\n",
       "      <td>0.0</td>\n",
       "      <td>0.0</td>\n",
       "      <td>36.8</td>\n",
       "      <td>0.088</td>\n",
       "      <td>38.0</td>\n",
       "      <td>1</td>\n",
       "      <td>1.0</td>\n",
       "    </tr>\n",
       "    <tr>\n",
       "      <th>1</th>\n",
       "      <td>1.0</td>\n",
       "      <td>151.0</td>\n",
       "      <td>60.0</td>\n",
       "      <td>0.0</td>\n",
       "      <td>0.0</td>\n",
       "      <td>26.1</td>\n",
       "      <td>0.179</td>\n",
       "      <td>22.0</td>\n",
       "      <td>0</td>\n",
       "      <td>0.0</td>\n",
       "    </tr>\n",
       "    <tr>\n",
       "      <th>2</th>\n",
       "      <td>1.0</td>\n",
       "      <td>140.0</td>\n",
       "      <td>74.0</td>\n",
       "      <td>26.0</td>\n",
       "      <td>180.0</td>\n",
       "      <td>24.1</td>\n",
       "      <td>0.828</td>\n",
       "      <td>23.0</td>\n",
       "      <td>0</td>\n",
       "      <td>0.0</td>\n",
       "    </tr>\n",
       "    <tr>\n",
       "      <th>3</th>\n",
       "      <td>9.0</td>\n",
       "      <td>165.0</td>\n",
       "      <td>88.0</td>\n",
       "      <td>0.0</td>\n",
       "      <td>0.0</td>\n",
       "      <td>30.4</td>\n",
       "      <td>0.302</td>\n",
       "      <td>49.0</td>\n",
       "      <td>1</td>\n",
       "      <td>1.0</td>\n",
       "    </tr>\n",
       "    <tr>\n",
       "      <th>4</th>\n",
       "      <td>3.0</td>\n",
       "      <td>96.0</td>\n",
       "      <td>78.0</td>\n",
       "      <td>39.0</td>\n",
       "      <td>0.0</td>\n",
       "      <td>37.3</td>\n",
       "      <td>0.238</td>\n",
       "      <td>40.0</td>\n",
       "      <td>0</td>\n",
       "      <td>0.0</td>\n",
       "    </tr>\n",
       "    <tr>\n",
       "      <th>...</th>\n",
       "      <td>...</td>\n",
       "      <td>...</td>\n",
       "      <td>...</td>\n",
       "      <td>...</td>\n",
       "      <td>...</td>\n",
       "      <td>...</td>\n",
       "      <td>...</td>\n",
       "      <td>...</td>\n",
       "      <td>...</td>\n",
       "      <td>...</td>\n",
       "    </tr>\n",
       "    <tr>\n",
       "      <th>187</th>\n",
       "      <td>0.0</td>\n",
       "      <td>165.0</td>\n",
       "      <td>90.0</td>\n",
       "      <td>33.0</td>\n",
       "      <td>680.0</td>\n",
       "      <td>52.3</td>\n",
       "      <td>0.427</td>\n",
       "      <td>23.0</td>\n",
       "      <td>0</td>\n",
       "      <td>1.0</td>\n",
       "    </tr>\n",
       "    <tr>\n",
       "      <th>188</th>\n",
       "      <td>5.0</td>\n",
       "      <td>139.0</td>\n",
       "      <td>80.0</td>\n",
       "      <td>35.0</td>\n",
       "      <td>160.0</td>\n",
       "      <td>31.6</td>\n",
       "      <td>0.361</td>\n",
       "      <td>25.0</td>\n",
       "      <td>1</td>\n",
       "      <td>0.0</td>\n",
       "    </tr>\n",
       "    <tr>\n",
       "      <th>189</th>\n",
       "      <td>5.0</td>\n",
       "      <td>105.0</td>\n",
       "      <td>72.0</td>\n",
       "      <td>29.0</td>\n",
       "      <td>325.0</td>\n",
       "      <td>36.9</td>\n",
       "      <td>0.159</td>\n",
       "      <td>28.0</td>\n",
       "      <td>0</td>\n",
       "      <td>0.0</td>\n",
       "    </tr>\n",
       "    <tr>\n",
       "      <th>190</th>\n",
       "      <td>9.0</td>\n",
       "      <td>130.0</td>\n",
       "      <td>70.0</td>\n",
       "      <td>0.0</td>\n",
       "      <td>0.0</td>\n",
       "      <td>34.2</td>\n",
       "      <td>0.652</td>\n",
       "      <td>45.0</td>\n",
       "      <td>1</td>\n",
       "      <td>1.0</td>\n",
       "    </tr>\n",
       "    <tr>\n",
       "      <th>191</th>\n",
       "      <td>1.0</td>\n",
       "      <td>124.0</td>\n",
       "      <td>60.0</td>\n",
       "      <td>32.0</td>\n",
       "      <td>0.0</td>\n",
       "      <td>35.8</td>\n",
       "      <td>0.514</td>\n",
       "      <td>21.0</td>\n",
       "      <td>0</td>\n",
       "      <td>0.0</td>\n",
       "    </tr>\n",
       "  </tbody>\n",
       "</table>\n",
       "<p>192 rows × 10 columns</p>\n",
       "</div>"
      ],
      "text/plain": [
       "     Pregnancies  Glucose  BloodPressure  SkinThickness  Insulin   BMI  \\\n",
       "0            1.0    173.0           74.0            0.0      0.0  36.8   \n",
       "1            1.0    151.0           60.0            0.0      0.0  26.1   \n",
       "2            1.0    140.0           74.0           26.0    180.0  24.1   \n",
       "3            9.0    165.0           88.0            0.0      0.0  30.4   \n",
       "4            3.0     96.0           78.0           39.0      0.0  37.3   \n",
       "..           ...      ...            ...            ...      ...   ...   \n",
       "187          0.0    165.0           90.0           33.0    680.0  52.3   \n",
       "188          5.0    139.0           80.0           35.0    160.0  31.6   \n",
       "189          5.0    105.0           72.0           29.0    325.0  36.9   \n",
       "190          9.0    130.0           70.0            0.0      0.0  34.2   \n",
       "191          1.0    124.0           60.0           32.0      0.0  35.8   \n",
       "\n",
       "     DiabetesPedigreeFunction   Age  y_test  Prediction  \n",
       "0                       0.088  38.0       1         1.0  \n",
       "1                       0.179  22.0       0         0.0  \n",
       "2                       0.828  23.0       0         0.0  \n",
       "3                       0.302  49.0       1         1.0  \n",
       "4                       0.238  40.0       0         0.0  \n",
       "..                        ...   ...     ...         ...  \n",
       "187                     0.427  23.0       0         1.0  \n",
       "188                     0.361  25.0       1         0.0  \n",
       "189                     0.159  28.0       0         0.0  \n",
       "190                     0.652  45.0       1         1.0  \n",
       "191                     0.514  21.0       0         0.0  \n",
       "\n",
       "[192 rows x 10 columns]"
      ]
     },
     "execution_count": 106,
     "metadata": {},
     "output_type": "execute_result"
    }
   ],
   "source": [
    "# create data frame of the prediction dataset and export to csv\n",
    "pregnancies = [i[0] for i in x_test[::]]\n",
    "glucose = [i[1] for i in x_test[::]]\n",
    "bp = [i[2] for i in x_test[::]]\n",
    "st = [i[3] for i in x_test[::]]\n",
    "insulin = [i[4] for i in x_test[::]]\n",
    "bmi = [i[5] for i in x_test[::]]\n",
    "dpf = [i[6] for i in x_test[::]]\n",
    "age = [i[7] for i in x_test[::]]\n",
    "\n",
    "data ={ \n",
    "    \"Pregnancies\": pregnancies,\n",
    "    \"Glucose\": glucose,\n",
    "    \"BloodPressure\": bp,\n",
    "    \"SkinThickness\": st,\n",
    "    \"Insulin\": insulin,\n",
    "    \"BMI\": bmi,\n",
    "    \"DiabetesPedigreeFunction\": dpf,\n",
    "    \"Age\": age,\n",
    "    \"y_test\": y_test,\n",
    "    \"Prediction\": p}\n",
    "\n",
    "predictdf = pd.DataFrame(data)\n",
    "predictdf.to_csv('output_data/allfeature-prediction-results.csv')\n",
    "\n",
    "predictdf"
   ]
  },
  {
   "cell_type": "code",
   "execution_count": null,
   "id": "624169a6-b57c-4635-90ff-82cd83771da7",
   "metadata": {},
   "outputs": [],
   "source": []
  }
 ],
 "metadata": {
  "kernelspec": {
   "display_name": "Python 3 (ipykernel)",
   "language": "python",
   "name": "python3"
  },
  "language_info": {
   "codemirror_mode": {
    "name": "ipython",
    "version": 3
   },
   "file_extension": ".py",
   "mimetype": "text/x-python",
   "name": "python",
   "nbconvert_exporter": "python",
   "pygments_lexer": "ipython3",
   "version": "3.9.9"
  }
 },
 "nbformat": 4,
 "nbformat_minor": 5
}
