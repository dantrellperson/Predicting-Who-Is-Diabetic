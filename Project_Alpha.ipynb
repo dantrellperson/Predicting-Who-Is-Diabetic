{
 "cells": [
  {
   "cell_type": "code",
   "execution_count": 2,
   "id": "a24ebe3b-e22c-4102-8f99-29f419a467f1",
   "metadata": {},
   "outputs": [],
   "source": [
    "# import dependencies\n",
    "import pandas as pd\n",
    "import numpy as np\n",
    "import matplotlib.pyplot as plt\n",
    "import copy\n",
    "import math\n",
    "import statistics\n",
    "from statistics import mean\n",
    "from mpl_toolkits import mplot3d\n",
    "from sklearn.model_selection import train_test_split\n",
    "\n",
    "%matplotlib inline"
   ]
  },
  {
   "cell_type": "markdown",
   "id": "99af71fe-16ee-4c5f-b8d5-d3862c57ae8b",
   "metadata": {
    "tags": []
   },
   "source": [
    "## Predicting Diabetes In Female Patients\n",
    "This dataset is originally from the National Institute of Diabetes and Digestive and Kidney Diseases.  \n",
    "\n",
    "\n",
    "The objective is to use Binary Classification to predict if patient has diabetes or not \n",
    "\n",
    "Pima People Diabetes Database\n",
    "\n",
    "https://www.kaggle.com/datasets/uciml/pima-indians-diabetes-database\n",
    "\n",
    "\"This dataset is originally from the National Institute of Diabetes and Digestive and Kidney Diseases. The objective of the dataset is to diagnostically predict whether or not a patient has diabetes, based on certain diagnostic measurements included in the dataset. Several constraints were placed on the selection of these instances from a larger database. In particular, all patients here are females at least 21 years old of Pima people heritage.\""
   ]
  },
  {
   "cell_type": "markdown",
   "id": "59835dc3-9aac-4dcc-8786-c536fd787342",
   "metadata": {},
   "source": [
    "## I have a hunch that BMI and Glucose will be the two best features at predicting if a patient is diabetic or not"
   ]
  },
  {
   "cell_type": "markdown",
   "id": "508ebd55-9150-4a87-b94a-ea39ceb945e2",
   "metadata": {},
   "source": [
    "# Trial 1 \n",
    "- (Chosen features are Glucose, BMI)"
   ]
  },
  {
   "cell_type": "markdown",
   "id": "28fc4106-8b7d-49f5-98da-53c1c983604a",
   "metadata": {},
   "source": [
    "## Load and view dataset"
   ]
  },
  {
   "cell_type": "code",
   "execution_count": 3,
   "id": "f0395987-1036-472c-afc0-086313184c8e",
   "metadata": {},
   "outputs": [],
   "source": [
    "pd.set_option('display.max_columns', None)"
   ]
  },
  {
   "cell_type": "code",
   "execution_count": 4,
   "id": "815ea00e-2cb6-490f-b21b-ae5dbc664893",
   "metadata": {},
   "outputs": [
    {
     "data": {
      "text/html": [
       "<div>\n",
       "<style scoped>\n",
       "    .dataframe tbody tr th:only-of-type {\n",
       "        vertical-align: middle;\n",
       "    }\n",
       "\n",
       "    .dataframe tbody tr th {\n",
       "        vertical-align: top;\n",
       "    }\n",
       "\n",
       "    .dataframe thead th {\n",
       "        text-align: right;\n",
       "    }\n",
       "</style>\n",
       "<table border=\"1\" class=\"dataframe\">\n",
       "  <thead>\n",
       "    <tr style=\"text-align: right;\">\n",
       "      <th></th>\n",
       "      <th>Pregnancies</th>\n",
       "      <th>Glucose</th>\n",
       "      <th>BloodPressure</th>\n",
       "      <th>SkinThickness</th>\n",
       "      <th>Insulin</th>\n",
       "      <th>BMI</th>\n",
       "      <th>DiabetesPedigreeFunction</th>\n",
       "      <th>Age</th>\n",
       "      <th>Outcome</th>\n",
       "    </tr>\n",
       "  </thead>\n",
       "  <tbody>\n",
       "    <tr>\n",
       "      <th>0</th>\n",
       "      <td>6</td>\n",
       "      <td>148</td>\n",
       "      <td>72</td>\n",
       "      <td>35</td>\n",
       "      <td>0</td>\n",
       "      <td>33.6</td>\n",
       "      <td>0.627</td>\n",
       "      <td>50</td>\n",
       "      <td>1</td>\n",
       "    </tr>\n",
       "    <tr>\n",
       "      <th>1</th>\n",
       "      <td>1</td>\n",
       "      <td>85</td>\n",
       "      <td>66</td>\n",
       "      <td>29</td>\n",
       "      <td>0</td>\n",
       "      <td>26.6</td>\n",
       "      <td>0.351</td>\n",
       "      <td>31</td>\n",
       "      <td>0</td>\n",
       "    </tr>\n",
       "    <tr>\n",
       "      <th>2</th>\n",
       "      <td>8</td>\n",
       "      <td>183</td>\n",
       "      <td>64</td>\n",
       "      <td>0</td>\n",
       "      <td>0</td>\n",
       "      <td>23.3</td>\n",
       "      <td>0.672</td>\n",
       "      <td>32</td>\n",
       "      <td>1</td>\n",
       "    </tr>\n",
       "    <tr>\n",
       "      <th>3</th>\n",
       "      <td>1</td>\n",
       "      <td>89</td>\n",
       "      <td>66</td>\n",
       "      <td>23</td>\n",
       "      <td>94</td>\n",
       "      <td>28.1</td>\n",
       "      <td>0.167</td>\n",
       "      <td>21</td>\n",
       "      <td>0</td>\n",
       "    </tr>\n",
       "    <tr>\n",
       "      <th>4</th>\n",
       "      <td>0</td>\n",
       "      <td>137</td>\n",
       "      <td>40</td>\n",
       "      <td>35</td>\n",
       "      <td>168</td>\n",
       "      <td>43.1</td>\n",
       "      <td>2.288</td>\n",
       "      <td>33</td>\n",
       "      <td>1</td>\n",
       "    </tr>\n",
       "    <tr>\n",
       "      <th>...</th>\n",
       "      <td>...</td>\n",
       "      <td>...</td>\n",
       "      <td>...</td>\n",
       "      <td>...</td>\n",
       "      <td>...</td>\n",
       "      <td>...</td>\n",
       "      <td>...</td>\n",
       "      <td>...</td>\n",
       "      <td>...</td>\n",
       "    </tr>\n",
       "    <tr>\n",
       "      <th>763</th>\n",
       "      <td>10</td>\n",
       "      <td>101</td>\n",
       "      <td>76</td>\n",
       "      <td>48</td>\n",
       "      <td>180</td>\n",
       "      <td>32.9</td>\n",
       "      <td>0.171</td>\n",
       "      <td>63</td>\n",
       "      <td>0</td>\n",
       "    </tr>\n",
       "    <tr>\n",
       "      <th>764</th>\n",
       "      <td>2</td>\n",
       "      <td>122</td>\n",
       "      <td>70</td>\n",
       "      <td>27</td>\n",
       "      <td>0</td>\n",
       "      <td>36.8</td>\n",
       "      <td>0.340</td>\n",
       "      <td>27</td>\n",
       "      <td>0</td>\n",
       "    </tr>\n",
       "    <tr>\n",
       "      <th>765</th>\n",
       "      <td>5</td>\n",
       "      <td>121</td>\n",
       "      <td>72</td>\n",
       "      <td>23</td>\n",
       "      <td>112</td>\n",
       "      <td>26.2</td>\n",
       "      <td>0.245</td>\n",
       "      <td>30</td>\n",
       "      <td>0</td>\n",
       "    </tr>\n",
       "    <tr>\n",
       "      <th>766</th>\n",
       "      <td>1</td>\n",
       "      <td>126</td>\n",
       "      <td>60</td>\n",
       "      <td>0</td>\n",
       "      <td>0</td>\n",
       "      <td>30.1</td>\n",
       "      <td>0.349</td>\n",
       "      <td>47</td>\n",
       "      <td>1</td>\n",
       "    </tr>\n",
       "    <tr>\n",
       "      <th>767</th>\n",
       "      <td>1</td>\n",
       "      <td>93</td>\n",
       "      <td>70</td>\n",
       "      <td>31</td>\n",
       "      <td>0</td>\n",
       "      <td>30.4</td>\n",
       "      <td>0.315</td>\n",
       "      <td>23</td>\n",
       "      <td>0</td>\n",
       "    </tr>\n",
       "  </tbody>\n",
       "</table>\n",
       "<p>768 rows × 9 columns</p>\n",
       "</div>"
      ],
      "text/plain": [
       "     Pregnancies  Glucose  BloodPressure  SkinThickness  Insulin   BMI  \\\n",
       "0              6      148             72             35        0  33.6   \n",
       "1              1       85             66             29        0  26.6   \n",
       "2              8      183             64              0        0  23.3   \n",
       "3              1       89             66             23       94  28.1   \n",
       "4              0      137             40             35      168  43.1   \n",
       "..           ...      ...            ...            ...      ...   ...   \n",
       "763           10      101             76             48      180  32.9   \n",
       "764            2      122             70             27        0  36.8   \n",
       "765            5      121             72             23      112  26.2   \n",
       "766            1      126             60              0        0  30.1   \n",
       "767            1       93             70             31        0  30.4   \n",
       "\n",
       "     DiabetesPedigreeFunction  Age  Outcome  \n",
       "0                       0.627   50        1  \n",
       "1                       0.351   31        0  \n",
       "2                       0.672   32        1  \n",
       "3                       0.167   21        0  \n",
       "4                       2.288   33        1  \n",
       "..                        ...  ...      ...  \n",
       "763                     0.171   63        0  \n",
       "764                     0.340   27        0  \n",
       "765                     0.245   30        0  \n",
       "766                     0.349   47        1  \n",
       "767                     0.315   23        0  \n",
       "\n",
       "[768 rows x 9 columns]"
      ]
     },
     "execution_count": 4,
     "metadata": {},
     "output_type": "execute_result"
    }
   ],
   "source": [
    "# load csv\n",
    "diabetesCSV = pd.read_csv('resources/diabetes.csv')\n",
    "diabetesCSV"
   ]
  },
  {
   "cell_type": "code",
   "execution_count": 5,
   "id": "6e10b205-62e6-4cd8-a620-3bbb828038ea",
   "metadata": {},
   "outputs": [
    {
     "name": "stdout",
     "output_type": "stream",
     "text": [
      "<class 'pandas.core.frame.DataFrame'>\n",
      "RangeIndex: 768 entries, 0 to 767\n",
      "Data columns (total 9 columns):\n",
      " #   Column                    Non-Null Count  Dtype  \n",
      "---  ------                    --------------  -----  \n",
      " 0   Pregnancies               768 non-null    int64  \n",
      " 1   Glucose                   768 non-null    int64  \n",
      " 2   BloodPressure             768 non-null    int64  \n",
      " 3   SkinThickness             768 non-null    int64  \n",
      " 4   Insulin                   768 non-null    int64  \n",
      " 5   BMI                       768 non-null    float64\n",
      " 6   DiabetesPedigreeFunction  768 non-null    float64\n",
      " 7   Age                       768 non-null    int64  \n",
      " 8   Outcome                   768 non-null    int64  \n",
      "dtypes: float64(2), int64(7)\n",
      "memory usage: 54.1 KB\n"
     ]
    }
   ],
   "source": [
    "# display basic info about diabetesCSV\n",
    "diabetesCSV.info()"
   ]
  },
  {
   "cell_type": "code",
   "execution_count": 6,
   "id": "be945788-4d99-4e75-baff-4f7cb083eb0a",
   "metadata": {},
   "outputs": [
    {
     "data": {
      "text/html": [
       "<div>\n",
       "<style scoped>\n",
       "    .dataframe tbody tr th:only-of-type {\n",
       "        vertical-align: middle;\n",
       "    }\n",
       "\n",
       "    .dataframe tbody tr th {\n",
       "        vertical-align: top;\n",
       "    }\n",
       "\n",
       "    .dataframe thead th {\n",
       "        text-align: right;\n",
       "    }\n",
       "</style>\n",
       "<table border=\"1\" class=\"dataframe\">\n",
       "  <thead>\n",
       "    <tr style=\"text-align: right;\">\n",
       "      <th></th>\n",
       "      <th>Pregnancies</th>\n",
       "      <th>Glucose</th>\n",
       "      <th>BloodPressure</th>\n",
       "      <th>SkinThickness</th>\n",
       "      <th>Insulin</th>\n",
       "      <th>BMI</th>\n",
       "      <th>DiabetesPedigreeFunction</th>\n",
       "      <th>Age</th>\n",
       "      <th>Outcome</th>\n",
       "    </tr>\n",
       "  </thead>\n",
       "  <tbody>\n",
       "    <tr>\n",
       "      <th>count</th>\n",
       "      <td>768.000000</td>\n",
       "      <td>768.000000</td>\n",
       "      <td>768.000000</td>\n",
       "      <td>768.000000</td>\n",
       "      <td>768.000000</td>\n",
       "      <td>768.000000</td>\n",
       "      <td>768.000000</td>\n",
       "      <td>768.000000</td>\n",
       "      <td>768.000000</td>\n",
       "    </tr>\n",
       "    <tr>\n",
       "      <th>mean</th>\n",
       "      <td>3.845052</td>\n",
       "      <td>120.894531</td>\n",
       "      <td>69.105469</td>\n",
       "      <td>20.536458</td>\n",
       "      <td>79.799479</td>\n",
       "      <td>31.992578</td>\n",
       "      <td>0.471876</td>\n",
       "      <td>33.240885</td>\n",
       "      <td>0.348958</td>\n",
       "    </tr>\n",
       "    <tr>\n",
       "      <th>std</th>\n",
       "      <td>3.369578</td>\n",
       "      <td>31.972618</td>\n",
       "      <td>19.355807</td>\n",
       "      <td>15.952218</td>\n",
       "      <td>115.244002</td>\n",
       "      <td>7.884160</td>\n",
       "      <td>0.331329</td>\n",
       "      <td>11.760232</td>\n",
       "      <td>0.476951</td>\n",
       "    </tr>\n",
       "    <tr>\n",
       "      <th>min</th>\n",
       "      <td>0.000000</td>\n",
       "      <td>0.000000</td>\n",
       "      <td>0.000000</td>\n",
       "      <td>0.000000</td>\n",
       "      <td>0.000000</td>\n",
       "      <td>0.000000</td>\n",
       "      <td>0.078000</td>\n",
       "      <td>21.000000</td>\n",
       "      <td>0.000000</td>\n",
       "    </tr>\n",
       "    <tr>\n",
       "      <th>25%</th>\n",
       "      <td>1.000000</td>\n",
       "      <td>99.000000</td>\n",
       "      <td>62.000000</td>\n",
       "      <td>0.000000</td>\n",
       "      <td>0.000000</td>\n",
       "      <td>27.300000</td>\n",
       "      <td>0.243750</td>\n",
       "      <td>24.000000</td>\n",
       "      <td>0.000000</td>\n",
       "    </tr>\n",
       "    <tr>\n",
       "      <th>50%</th>\n",
       "      <td>3.000000</td>\n",
       "      <td>117.000000</td>\n",
       "      <td>72.000000</td>\n",
       "      <td>23.000000</td>\n",
       "      <td>30.500000</td>\n",
       "      <td>32.000000</td>\n",
       "      <td>0.372500</td>\n",
       "      <td>29.000000</td>\n",
       "      <td>0.000000</td>\n",
       "    </tr>\n",
       "    <tr>\n",
       "      <th>75%</th>\n",
       "      <td>6.000000</td>\n",
       "      <td>140.250000</td>\n",
       "      <td>80.000000</td>\n",
       "      <td>32.000000</td>\n",
       "      <td>127.250000</td>\n",
       "      <td>36.600000</td>\n",
       "      <td>0.626250</td>\n",
       "      <td>41.000000</td>\n",
       "      <td>1.000000</td>\n",
       "    </tr>\n",
       "    <tr>\n",
       "      <th>max</th>\n",
       "      <td>17.000000</td>\n",
       "      <td>199.000000</td>\n",
       "      <td>122.000000</td>\n",
       "      <td>99.000000</td>\n",
       "      <td>846.000000</td>\n",
       "      <td>67.100000</td>\n",
       "      <td>2.420000</td>\n",
       "      <td>81.000000</td>\n",
       "      <td>1.000000</td>\n",
       "    </tr>\n",
       "  </tbody>\n",
       "</table>\n",
       "</div>"
      ],
      "text/plain": [
       "       Pregnancies     Glucose  BloodPressure  SkinThickness     Insulin  \\\n",
       "count   768.000000  768.000000     768.000000     768.000000  768.000000   \n",
       "mean      3.845052  120.894531      69.105469      20.536458   79.799479   \n",
       "std       3.369578   31.972618      19.355807      15.952218  115.244002   \n",
       "min       0.000000    0.000000       0.000000       0.000000    0.000000   \n",
       "25%       1.000000   99.000000      62.000000       0.000000    0.000000   \n",
       "50%       3.000000  117.000000      72.000000      23.000000   30.500000   \n",
       "75%       6.000000  140.250000      80.000000      32.000000  127.250000   \n",
       "max      17.000000  199.000000     122.000000      99.000000  846.000000   \n",
       "\n",
       "              BMI  DiabetesPedigreeFunction         Age     Outcome  \n",
       "count  768.000000                768.000000  768.000000  768.000000  \n",
       "mean    31.992578                  0.471876   33.240885    0.348958  \n",
       "std      7.884160                  0.331329   11.760232    0.476951  \n",
       "min      0.000000                  0.078000   21.000000    0.000000  \n",
       "25%     27.300000                  0.243750   24.000000    0.000000  \n",
       "50%     32.000000                  0.372500   29.000000    0.000000  \n",
       "75%     36.600000                  0.626250   41.000000    1.000000  \n",
       "max     67.100000                  2.420000   81.000000    1.000000  "
      ]
     },
     "execution_count": 6,
     "metadata": {},
     "output_type": "execute_result"
    }
   ],
   "source": [
    "# Basic statistics\n",
    "diabetesCSV.describe()"
   ]
  },
  {
   "cell_type": "code",
   "execution_count": 7,
   "id": "5ba60be7-3305-44db-9889-e8eb95132b64",
   "metadata": {},
   "outputs": [
    {
     "data": {
      "text/plain": [
       "(768, 9)"
      ]
     },
     "execution_count": 7,
     "metadata": {},
     "output_type": "execute_result"
    }
   ],
   "source": [
    "# view diabetesCSV shape \n",
    "diabetesCSV.shape"
   ]
  },
  {
   "cell_type": "markdown",
   "id": "dc06dc71-72a8-4a82-8808-f12a558efbe0",
   "metadata": {},
   "source": [
    "### Choosing features"
   ]
  },
  {
   "cell_type": "code",
   "execution_count": null,
   "id": "3b6999e8-b57f-4d59-b5b9-72b2fa5df65f",
   "metadata": {},
   "outputs": [],
   "source": []
  },
  {
   "cell_type": "code",
   "execution_count": 8,
   "id": "37cf119f-a412-4451-9993-1d5be924861e",
   "metadata": {},
   "outputs": [
    {
     "name": "stdout",
     "output_type": "stream",
     "text": [
      "[[148, 33.6], [85, 26.6], [183, 23.3], [89, 28.1], [137, 43.1]]\n",
      "[1, 0, 1, 0, 1]\n"
     ]
    }
   ],
   "source": [
    "# create empty list\n",
    "feature = []\n",
    "target = []\n",
    "\n",
    "# for loop to create feature lists to add to above created list\n",
    "\n",
    "for i in range(len(diabetesCSV)):\n",
    "    diabetesX = []\n",
    "    diabetesY = ''\n",
    "    \n",
    "    diabetesY = diabetesCSV.iloc[i,8]\n",
    "    diabetesX.append(diabetesCSV.iloc[i,1])\n",
    "    diabetesX.append(diabetesCSV.iloc[i,5])\n",
    "    \n",
    "    feature.append(diabetesX)\n",
    "    target.append(diabetesY)\n",
    "    \n",
    "print(feature[:5])\n",
    "print(target[:5])"
   ]
  },
  {
   "cell_type": "code",
   "execution_count": 9,
   "id": "0236231e-26bc-42f7-a35c-a029460d8abf",
   "metadata": {},
   "outputs": [
    {
     "data": {
      "text/plain": [
       "array([[148. ,  33.6],\n",
       "       [ 85. ,  26.6],\n",
       "       [183. ,  23.3],\n",
       "       [ 89. ,  28.1],\n",
       "       [137. ,  43.1]])"
      ]
     },
     "execution_count": 9,
     "metadata": {},
     "output_type": "execute_result"
    }
   ],
   "source": [
    "# Turn python lists into numpy arrays\n",
    "features = np.array(feature)\n",
    "targets = np.array(target)\n",
    "features[:5]"
   ]
  },
  {
   "cell_type": "markdown",
   "id": "73bfada6-cf78-4aae-a78c-e294eecb2787",
   "metadata": {},
   "source": [
    "### Use Z-Score normalization on features"
   ]
  },
  {
   "cell_type": "code",
   "execution_count": 10,
   "id": "23332f73-a7cb-47b4-90ef-d9b1a1be1d99",
   "metadata": {
    "tags": []
   },
   "outputs": [
    {
     "data": {
      "text/plain": [
       "50.17357343740608"
      ]
     },
     "execution_count": 10,
     "metadata": {},
     "output_type": "execute_result"
    }
   ],
   "source": [
    "# finding standard deviation and mean of each column\n",
    "featureSTDEV = features.std()\n",
    "featureAVG = np.average(features)\n",
    "featureSTDEV"
   ]
  },
  {
   "cell_type": "code",
   "execution_count": 11,
   "id": "23982283-43cd-41a6-a543-a7c420362692",
   "metadata": {},
   "outputs": [],
   "source": [
    "# implement Z-Score normalization\n",
    "featuresNORM = (features - featureAVG)/featureSTDEV"
   ]
  },
  {
   "cell_type": "markdown",
   "id": "7ef9e1e2-f690-4a14-9b54-a9c751825093",
   "metadata": {},
   "source": [
    "### Create a dataframe with normalized features "
   ]
  },
  {
   "cell_type": "code",
   "execution_count": 12,
   "id": "fabb65d8-fb25-4c81-96ab-6a34b436db86",
   "metadata": {},
   "outputs": [
    {
     "data": {
      "text/html": [
       "<div>\n",
       "<style scoped>\n",
       "    .dataframe tbody tr th:only-of-type {\n",
       "        vertical-align: middle;\n",
       "    }\n",
       "\n",
       "    .dataframe tbody tr th {\n",
       "        vertical-align: top;\n",
       "    }\n",
       "\n",
       "    .dataframe thead th {\n",
       "        text-align: right;\n",
       "    }\n",
       "</style>\n",
       "<table border=\"1\" class=\"dataframe\">\n",
       "  <thead>\n",
       "    <tr style=\"text-align: right;\">\n",
       "      <th></th>\n",
       "      <th>0</th>\n",
       "      <th>1</th>\n",
       "      <th>Diabetic?</th>\n",
       "    </tr>\n",
       "  </thead>\n",
       "  <tbody>\n",
       "    <tr>\n",
       "      <th>0</th>\n",
       "      <td>1.426178</td>\n",
       "      <td>-0.853907</td>\n",
       "      <td>1</td>\n",
       "    </tr>\n",
       "    <tr>\n",
       "      <th>1</th>\n",
       "      <td>0.170537</td>\n",
       "      <td>-0.993422</td>\n",
       "      <td>0</td>\n",
       "    </tr>\n",
       "    <tr>\n",
       "      <th>2</th>\n",
       "      <td>2.123756</td>\n",
       "      <td>-1.059194</td>\n",
       "      <td>1</td>\n",
       "    </tr>\n",
       "    <tr>\n",
       "      <th>3</th>\n",
       "      <td>0.250260</td>\n",
       "      <td>-0.963526</td>\n",
       "      <td>0</td>\n",
       "    </tr>\n",
       "    <tr>\n",
       "      <th>4</th>\n",
       "      <td>1.206939</td>\n",
       "      <td>-0.664564</td>\n",
       "      <td>1</td>\n",
       "    </tr>\n",
       "    <tr>\n",
       "      <th>...</th>\n",
       "      <td>...</td>\n",
       "      <td>...</td>\n",
       "      <td>...</td>\n",
       "    </tr>\n",
       "    <tr>\n",
       "      <th>763</th>\n",
       "      <td>0.489430</td>\n",
       "      <td>-0.867858</td>\n",
       "      <td>0</td>\n",
       "    </tr>\n",
       "    <tr>\n",
       "      <th>764</th>\n",
       "      <td>0.907977</td>\n",
       "      <td>-0.790128</td>\n",
       "      <td>0</td>\n",
       "    </tr>\n",
       "    <tr>\n",
       "      <th>765</th>\n",
       "      <td>0.888046</td>\n",
       "      <td>-1.001395</td>\n",
       "      <td>0</td>\n",
       "    </tr>\n",
       "    <tr>\n",
       "      <th>766</th>\n",
       "      <td>0.987700</td>\n",
       "      <td>-0.923665</td>\n",
       "      <td>1</td>\n",
       "    </tr>\n",
       "    <tr>\n",
       "      <th>767</th>\n",
       "      <td>0.329983</td>\n",
       "      <td>-0.917685</td>\n",
       "      <td>0</td>\n",
       "    </tr>\n",
       "  </tbody>\n",
       "</table>\n",
       "<p>768 rows × 3 columns</p>\n",
       "</div>"
      ],
      "text/plain": [
       "            0         1  Diabetic?\n",
       "0    1.426178 -0.853907          1\n",
       "1    0.170537 -0.993422          0\n",
       "2    2.123756 -1.059194          1\n",
       "3    0.250260 -0.963526          0\n",
       "4    1.206939 -0.664564          1\n",
       "..        ...       ...        ...\n",
       "763  0.489430 -0.867858          0\n",
       "764  0.907977 -0.790128          0\n",
       "765  0.888046 -1.001395          0\n",
       "766  0.987700 -0.923665          1\n",
       "767  0.329983 -0.917685          0\n",
       "\n",
       "[768 rows x 3 columns]"
      ]
     },
     "execution_count": 12,
     "metadata": {},
     "output_type": "execute_result"
    }
   ],
   "source": [
    "df = pd.DataFrame(data = featuresNORM)\n",
    "df['Diabetic?'] = targets\n",
    "df"
   ]
  },
  {
   "cell_type": "code",
   "execution_count": 13,
   "id": "07529bd1-787b-4014-b933-5ef22a4c8651",
   "metadata": {},
   "outputs": [
    {
     "data": {
      "text/html": [
       "<div>\n",
       "<style scoped>\n",
       "    .dataframe tbody tr th:only-of-type {\n",
       "        vertical-align: middle;\n",
       "    }\n",
       "\n",
       "    .dataframe tbody tr th {\n",
       "        vertical-align: top;\n",
       "    }\n",
       "\n",
       "    .dataframe thead th {\n",
       "        text-align: right;\n",
       "    }\n",
       "</style>\n",
       "<table border=\"1\" class=\"dataframe\">\n",
       "  <thead>\n",
       "    <tr style=\"text-align: right;\">\n",
       "      <th></th>\n",
       "      <th>0</th>\n",
       "      <th>1</th>\n",
       "    </tr>\n",
       "  </thead>\n",
       "  <tbody>\n",
       "    <tr>\n",
       "      <th>0</th>\n",
       "      <td>1.426178</td>\n",
       "      <td>-0.853907</td>\n",
       "    </tr>\n",
       "    <tr>\n",
       "      <th>2</th>\n",
       "      <td>2.123756</td>\n",
       "      <td>-1.059194</td>\n",
       "    </tr>\n",
       "    <tr>\n",
       "      <th>4</th>\n",
       "      <td>1.206939</td>\n",
       "      <td>-0.664564</td>\n",
       "    </tr>\n",
       "    <tr>\n",
       "      <th>6</th>\n",
       "      <td>0.031021</td>\n",
       "      <td>-0.905727</td>\n",
       "    </tr>\n",
       "    <tr>\n",
       "      <th>8</th>\n",
       "      <td>2.402788</td>\n",
       "      <td>-0.915692</td>\n",
       "    </tr>\n",
       "  </tbody>\n",
       "</table>\n",
       "</div>"
      ],
      "text/plain": [
       "          0         1\n",
       "0  1.426178 -0.853907\n",
       "2  2.123756 -1.059194\n",
       "4  1.206939 -0.664564\n",
       "6  0.031021 -0.905727\n",
       "8  2.402788 -0.915692"
      ]
     },
     "execution_count": 13,
     "metadata": {},
     "output_type": "execute_result"
    }
   ],
   "source": [
    "diabetics = df[df['Diabetic?'] == 1][[0,1]]\n",
    "nonDiabetics = df[df['Diabetic?'] == 0][[0,1]]\n",
    "diabetics[:5]"
   ]
  },
  {
   "cell_type": "markdown",
   "id": "0c257756-2555-4100-9bad-3a4661247536",
   "metadata": {},
   "source": [
    "## Create visualization of chosen features"
   ]
  },
  {
   "cell_type": "code",
   "execution_count": 14,
   "id": "59090032-7231-4447-8ba6-1b05c8e1bd14",
   "metadata": {},
   "outputs": [
    {
     "data": {
      "image/png": "[encoded data removed]",
      "text/plain": [
       "<Figure size 432x288 with 1 Axes>"
      ]
     },
     "metadata": {
      "needs_background": "light"
     },
     "output_type": "display_data"
    }
   ],
   "source": [
    "figure1, figure1_axes = plt.subplots()\n",
    "figure1_axes.plot(diabetics[[0]], diabetics[[1]], 'ro',\n",
    "                  nonDiabetics[[0]], nonDiabetics[[1]], 'go')\n",
    "figure1_axes.set_xlabel('Glucose')\n",
    "figure1_axes.set_ylabel('BMI')\n",
    "figure1_axes.legend(['Diabetic', 'nonDiabetic'])\n",
    "figure1_axes.set_title('Detecting Diabetes in Female Patients');\n",
    "figure1.savefig(\"assets/screenshots/only_bmi_and_glucose/glucoseVSbmi.png\")"
   ]
  },
  {
   "cell_type": "markdown",
   "id": "4fa0a728-efc4-4466-b0ef-15a8fe0bf5f5",
   "metadata": {},
   "source": [
    "# Create Logistic Model"
   ]
  },
  {
   "cell_type": "code",
   "execution_count": 15,
   "id": "3ee4c459-c73e-4b13-bdcf-d58d4eaccfff",
   "metadata": {},
   "outputs": [],
   "source": [
    "# Split the data into X_train, X_test, y_train, y_test\n",
    "x_train, x_test, y_train, y_test = train_test_split(features, targets)"
   ]
  },
  {
   "cell_type": "markdown",
   "id": "663fd768-58b9-4c35-90a9-e6fe22fe5286",
   "metadata": {},
   "source": [
    "### Define Sigmoid function"
   ]
  },
  {
   "cell_type": "code",
   "execution_count": 16,
   "id": "84d6cf47-2ff0-426a-845a-a950d9eb29dc",
   "metadata": {},
   "outputs": [],
   "source": [
    "def sigmoid(z):\n",
    "    \n",
    "    g = 1/(1+np.exp(-z))\n",
    "    \n",
    "    return g"
   ]
  },
  {
   "cell_type": "markdown",
   "id": "d30e18ec-7519-46cf-9a87-b51380cfbd1a",
   "metadata": {},
   "source": [
    "### Define Cost Function"
   ]
  },
  {
   "cell_type": "code",
   "execution_count": 17,
   "id": "a30b501f-2480-4f2e-ac08-bd203c5180e6",
   "metadata": {},
   "outputs": [],
   "source": [
    "def compute_cost(X, y, w, b, lambda_= 1):\n",
    "\n",
    "    m, n = X.shape\n",
    "    cost = 0.\n",
    "    \n",
    "    for i in range (m):\n",
    "        z_i = np.dot(X[i],w) + b\n",
    "        f_wb_i = sigmoid(z_i)\n",
    "        cost += -y[i]*np.log(f_wb_i) - (1-y[i])*np.log(1-f_wb_i)\n",
    "    \n",
    "    total_cost = cost/m    \n",
    "\n",
    "    return total_cost"
   ]
  },
  {
   "cell_type": "code",
   "execution_count": 18,
   "id": "1eeff63e-9ae4-42ab-a82a-e52249154d6b",
   "metadata": {},
   "outputs": [
    {
     "name": "stdout",
     "output_type": "stream",
     "text": [
      "Cost at initial w (zeros): 0.693\n"
     ]
    }
   ],
   "source": [
    "m, n = x_train.shape\n",
    "\n",
    "# Compute and display cost with w initialized to zeroes\n",
    "initial_w = np.zeros(n)\n",
    "initial_b = 0.\n",
    "cost = compute_cost(x_train, y_train, initial_w, initial_b)\n",
    "print('Cost at initial w (zeros): {:.3f}'.format(cost))"
   ]
  },
  {
   "cell_type": "code",
   "execution_count": 19,
   "id": "587d6c9f-6e5f-4351-8eb7-574f96882a34",
   "metadata": {},
   "outputs": [
    {
     "name": "stdout",
     "output_type": "stream",
     "text": [
      "Cost at test w,b: 3.203\n"
     ]
    }
   ],
   "source": [
    "# Compute and display cost with non-zero w\n",
    "test_w = np.array([0.2, 0.2])\n",
    "test_b = -24.\n",
    "cost = compute_cost(x_train, y_train, test_w, test_b)\n",
    "\n",
    "print('Cost at test w,b: {:.3f}'.format(cost))"
   ]
  },
  {
   "cell_type": "markdown",
   "id": "98e5b194-0098-4939-9658-f391d29caac9",
   "metadata": {},
   "source": [
    "## Compute Gradient"
   ]
  },
  {
   "cell_type": "code",
   "execution_count": 20,
   "id": "5a3cb6d6-7bc0-470f-a3b1-7fa73034d374",
   "metadata": {},
   "outputs": [],
   "source": [
    "def compute_gradient(X, y, w, b, lambda_=None): \n",
    "    \"\"\"\n",
    "    Computes the gradient for logistic regression \n",
    " \n",
    "    Args:\n",
    "      X : (ndarray Shape (m,n)) variable such as house size \n",
    "      y : (array_like Shape (m,1)) actual value \n",
    "      w : (array_like Shape (n,1)) values of parameters of the model      \n",
    "      b : (scalar)                 value of parameter of the model \n",
    "      lambda_: unused placeholder.\n",
    "    Returns\n",
    "      dj_dw: (array_like Shape (n,1)) The gradient of the cost w.r.t. the parameters w. \n",
    "      dj_db: (scalar)                The gradient of the cost w.r.t. the parameter b. \n",
    "    \"\"\"\n",
    "    m, n = X.shape\n",
    "    dj_dw = np.zeros(w.shape)\n",
    "    dj_db = 0.\n",
    "\n",
    "    ### START CODE HERE ### \n",
    "    for i in range(m):\n",
    "        # Calculate f_wb (exactly as you did in the compute_cost function above)\n",
    "        z_i = np.dot(X[i],w) + b\n",
    "\n",
    "        # Calculate the prediction from the model\n",
    "        f_wb = sigmoid(z_i)\n",
    "            \n",
    "        # Calculate the  gradient for b from this example\n",
    "        dj_db_i = f_wb - y[i] # Your code here to calculate the error\n",
    "\n",
    "        # add that to dj_db\n",
    "        dj_db += dj_db_i\n",
    "\n",
    "        # get dj_dw for each attribute\n",
    "        for j in range(n):\n",
    "        # You code here to calculate the gradient from the i-th example for j-th attribute\n",
    "            dj_dw_ij = (f_wb - y[i])* X[i][j]\n",
    "            dj_dw[j] += dj_dw_ij\n",
    "\n",
    "    # divide dj_db and dj_dw by total number of examples\n",
    "    dj_dw = dj_dw / m\n",
    "    dj_db = dj_db / m\n",
    "\n",
    "    ### END CODE HERE ###\n",
    "\n",
    "        \n",
    "    return dj_db, dj_dw"
   ]
  },
  {
   "cell_type": "code",
   "execution_count": 21,
   "id": "7889aaba-ee8e-4e1c-ab34-f44d00e743df",
   "metadata": {},
   "outputs": [
    {
     "name": "stdout",
     "output_type": "stream",
     "text": [
      "dj_db at initial w (zeros):0.16493055555555555\n",
      "dj_dw at initial w (zeros):[12.871527777777779, 4.226475694444443]\n"
     ]
    }
   ],
   "source": [
    "# Compute and display gradient with w initialized to zeroes\n",
    "initial_w = np.zeros(n)\n",
    "initial_b = 0.\n",
    "\n",
    "dj_db, dj_dw = compute_gradient(x_train, y_train, initial_w, initial_b)\n",
    "print(f'dj_db at initial w (zeros):{dj_db}' )\n",
    "print(f'dj_dw at initial w (zeros):{dj_dw.tolist()}' )"
   ]
  },
  {
   "cell_type": "code",
   "execution_count": 22,
   "id": "d2df028c-8c61-44c2-b693-c58aa2a0df6d",
   "metadata": {},
   "outputs": [
    {
     "name": "stdout",
     "output_type": "stream",
     "text": [
      "dj_db at test_w: -0.3217301609229545\n",
      "dj_dw at test_w: [-44.50165179427687, -11.483436885422604]\n"
     ]
    }
   ],
   "source": [
    "# Compute and display cost and gradient with non-zero w\n",
    "test_w = np.array([ 0.2, -0.5])\n",
    "test_b = -24\n",
    "dj_db, dj_dw  = compute_gradient(x_train, y_train, test_w, test_b)\n",
    "\n",
    "print('dj_db at test_w:', dj_db)\n",
    "print('dj_dw at test_w:', dj_dw.tolist())\n"
   ]
  },
  {
   "cell_type": "markdown",
   "id": "1a24e2d6-3560-4237-aaff-39627d019028",
   "metadata": {},
   "source": [
    "## Define Gradient Descent"
   ]
  },
  {
   "cell_type": "code",
   "execution_count": 23,
   "id": "9dc1d166-aa6d-4aeb-a8c8-a8003688f2a7",
   "metadata": {},
   "outputs": [],
   "source": [
    "def gradient_descent(X, y, w_in, b_in, cost_function, gradient_function, alpha, num_iters, lambda_): \n",
    "    \"\"\"\n",
    "    Performs batch gradient descent to learn theta. Updates theta by taking \n",
    "    num_iters gradient steps with learning rate alpha\n",
    "    \n",
    "    Args:\n",
    "      X :    (array_like Shape (m, n)\n",
    "      y :    (array_like Shape (m,))\n",
    "      w_in : (array_like Shape (n,))  Initial values of parameters of the model\n",
    "      b_in : (scalar)                 Initial value of parameter of the model\n",
    "      cost_function:                  function to compute cost\n",
    "      alpha : (float)                 Learning rate\n",
    "      num_iters : (int)               number of iterations to run gradient descent\n",
    "      lambda_ (scalar, float)         regularization constant\n",
    "      \n",
    "    Returns:\n",
    "      w : (array_like Shape (n,)) Updated values of parameters of the model after\n",
    "          running gradient descent\n",
    "      b : (scalar)                Updated value of parameter of the model after\n",
    "          running gradient descent\n",
    "    \"\"\"\n",
    "    \n",
    "    # number of training examples\n",
    "    m = len(X)\n",
    "    \n",
    "    # An array to store cost J and w's at each iteration primarily for graphing later\n",
    "    J_history = []\n",
    "    w_history = []\n",
    "    \n",
    "    for i in range(num_iters):\n",
    "\n",
    "        # Calculate the gradient and update the parameters\n",
    "        dj_db, dj_dw = gradient_function(X, y, w_in, b_in, lambda_)   \n",
    "\n",
    "        # Update Parameters using w, b, alpha and gradient\n",
    "        w_in = w_in - alpha * dj_dw               \n",
    "        b_in = b_in - alpha * dj_db              \n",
    "       \n",
    "        # Save cost J at each iteration\n",
    "        if i<100000:      # prevent resource exhaustion \n",
    "            cost =  cost_function(X, y, w_in, b_in, lambda_)\n",
    "            J_history.append(cost)\n",
    "\n",
    "        # Print cost every at intervals 10 times or as many iterations if < 10\n",
    "        if i% math.ceil(num_iters/10) == 0 or i == (num_iters-1):\n",
    "            w_history.append(w_in)\n",
    "            print(f\"Iteration {i:4}: Cost {float(J_history[-1]):8.2f}   \")\n",
    "        \n",
    "    return w_in, b_in, J_history, w_history #return w and J,w history for graphing"
   ]
  },
  {
   "cell_type": "markdown",
   "id": "c54e4079-501c-4202-96cd-41b420a82ca7",
   "metadata": {},
   "source": [
    "## First 1,000 iterations with an alpha value of 0.001"
   ]
  },
  {
   "cell_type": "code",
   "execution_count": 24,
   "id": "d10f22fe-1aab-4743-8c2c-7b9a18f00189",
   "metadata": {},
   "outputs": [
    {
     "name": "stdout",
     "output_type": "stream",
     "text": [
      "Iteration    0: Cost     0.60   \n",
      "Iteration  100: Cost     1.24   \n",
      "Iteration  200: Cost     1.22   \n",
      "Iteration  300: Cost     1.20   \n",
      "Iteration  400: Cost     1.20   \n",
      "Iteration  500: Cost     1.19   \n",
      "Iteration  600: Cost     1.19   \n",
      "Iteration  700: Cost     1.19   \n",
      "Iteration  800: Cost     1.19   \n",
      "Iteration  900: Cost     1.19   \n",
      "Iteration  999: Cost     0.99   \n"
     ]
    }
   ],
   "source": [
    "initial_w = np.array([ 0.1, 0.1])\n",
    "initial_b = -8\n",
    " \n",
    "# Some gradient descent settings\n",
    "iterations = 1000\n",
    "alpha = 0.001\n",
    "\n",
    "w,b, J_history,_ = gradient_descent(x_train ,y_train, initial_w, initial_b, \n",
    "                                   compute_cost, compute_gradient, alpha, iterations, 0)"
   ]
  },
  {
   "cell_type": "markdown",
   "id": "c901bae7-71cc-4bfa-b26c-c9bbd1c7e42a",
   "metadata": {},
   "source": [
    "### During the first trial of 1,000 iterations with an alpha of 0.001 we see the cost jumping up and down \n",
    "- starting at 0.58, and increasing to 1.30 by the 100th iteration, when I J_history is printed out you can see the values fluctuating each iteration\n",
    "- if you only view each 100th iteration it will appear as if cost is constantly decreasing, this is not the case, visualizing every 99th value below to illustrate\n",
    "- if everything is set correctly cost function should never increase"
   ]
  },
  {
   "cell_type": "code",
   "execution_count": 25,
   "id": "7ee4c307-121a-417c-a8ae-8c1bfa3ca198",
   "metadata": {},
   "outputs": [
    {
     "data": {
      "image/png": "[encoded data removed]",
      "text/plain": [
       "<Figure size 432x288 with 1 Axes>"
      ]
     },
     "metadata": {
      "needs_background": "light"
     },
     "output_type": "display_data"
    }
   ],
   "source": [
    "x = J_history[::99]\n",
    "# y = ydata[::10][::100]\n",
    "costFigure, costFigure_axes = plt.subplots()\n",
    "costFigure_axes.plot(x)\n",
    "costFigure_axes.set_xlabel('Every 99th iteration')\n",
    "costFigure_axes.set_ylabel('Cost')\n",
    "costFigure_axes.set_title('Alpha = 0.001 1000 Iterations Cost Function');\n",
    "costFigure.savefig(\"assets/screenshots/only_bmi_and_glucose/badcost1000iterations.png\")\n",
    "\n",
    "plt.show()"
   ]
  },
  {
   "cell_type": "code",
   "execution_count": null,
   "id": "491dd0ad-247a-48c1-b16b-2c2858b388b6",
   "metadata": {},
   "outputs": [],
   "source": []
  },
  {
   "cell_type": "markdown",
   "id": "ef9b6067-3a6c-48f8-84f3-ec36002d220f",
   "metadata": {},
   "source": [
    "## First 1,000 iterations with an alpha value of 0.0001"
   ]
  },
  {
   "cell_type": "code",
   "execution_count": 26,
   "id": "cd667b1e-789c-4c47-b2ff-96c513227722",
   "metadata": {},
   "outputs": [
    {
     "name": "stdout",
     "output_type": "stream",
     "text": [
      "Iteration    0: Cost     3.48   \n",
      "Iteration  100: Cost     0.50   \n",
      "Iteration  200: Cost     0.50   \n",
      "Iteration  300: Cost     0.50   \n",
      "Iteration  400: Cost     0.50   \n",
      "Iteration  500: Cost     0.50   \n",
      "Iteration  600: Cost     0.50   \n",
      "Iteration  700: Cost     0.50   \n",
      "Iteration  800: Cost     0.50   \n",
      "Iteration  900: Cost     0.50   \n",
      "Iteration  999: Cost     0.50   \n"
     ]
    }
   ],
   "source": [
    "# Some gradient descent settings\n",
    "iterations = 1000\n",
    "alpha = 0.0001\n",
    "\n",
    "w,b, J_history,_ = gradient_descent(x_train ,y_train, initial_w, initial_b, \n",
    "                                   compute_cost, compute_gradient, alpha, iterations, 0)"
   ]
  },
  {
   "cell_type": "code",
   "execution_count": null,
   "id": "fd3c94f8-577d-485e-ae6d-e24e8bce555b",
   "metadata": {},
   "outputs": [],
   "source": []
  },
  {
   "cell_type": "markdown",
   "id": "cb14daac-ddf6-4a04-ad7c-3f0ab6a9270a",
   "metadata": {},
   "source": [
    "### During the first trial of 1,000 iterations with an alpha of 0.0001 we see the cost start at 3.44 and consistently decreases to 0.49\n",
    "- plotting out the values of J-History at each 99th value to compare to the above which utilized an alpha of 0.001\n",
    "- as shown in below cost never increases"
   ]
  },
  {
   "cell_type": "code",
   "execution_count": 27,
   "id": "668f9ac1-b871-4108-8def-6d17421ae997",
   "metadata": {},
   "outputs": [
    {
     "data": {
      "image/png": "[encoded data removed]",
      "text/plain": [
       "<Figure size 432x288 with 1 Axes>"
      ]
     },
     "metadata": {
      "needs_background": "light"
     },
     "output_type": "display_data"
    }
   ],
   "source": [
    "x = J_history[::99]\n",
    "\n",
    "costFigure, costFigure_axes = plt.subplots()\n",
    "costFigure_axes.plot(x)\n",
    "costFigure_axes.set_xlabel('Every 99th iteration')\n",
    "costFigure_axes.set_ylabel('Cost')\n",
    "costFigure_axes.set_title('Alpha = 0.0001 1000 Iterations Cost Function');\n",
    "costFigure.savefig(\"assets/screenshots/only_bmi_and_glucose/cost1000iterations.png\")\n",
    "\n",
    "plt.show()"
   ]
  },
  {
   "cell_type": "markdown",
   "id": "5eb99a23-77ac-4954-a644-7ae443f64ff3",
   "metadata": {},
   "source": [
    "### Only using alpha = 0.0001 fore further tests with higher number of iterations"
   ]
  },
  {
   "cell_type": "markdown",
   "id": "ebe1ef55-11d0-493a-961e-8e9a2d9b569a",
   "metadata": {},
   "source": [
    "## Next 10,000 iterations"
   ]
  },
  {
   "cell_type": "code",
   "execution_count": 28,
   "id": "844cefb9-0c92-4568-80bd-8f86d8f3161d",
   "metadata": {},
   "outputs": [
    {
     "name": "stdout",
     "output_type": "stream",
     "text": [
      "Iteration    0: Cost     3.48   \n",
      "Iteration 1000: Cost     0.50   \n",
      "Iteration 2000: Cost     0.50   \n",
      "Iteration 3000: Cost     0.50   \n",
      "Iteration 4000: Cost     0.50   \n",
      "Iteration 5000: Cost     0.50   \n",
      "Iteration 6000: Cost     0.50   \n",
      "Iteration 7000: Cost     0.50   \n",
      "Iteration 8000: Cost     0.50   \n",
      "Iteration 9000: Cost     0.50   \n",
      "Iteration 9999: Cost     0.50   \n"
     ]
    }
   ],
   "source": [
    "# Some gradient descent settings\n",
    "iterations = 10000\n",
    "alpha = 0.0001\n",
    "\n",
    "w,b, J_history,_ = gradient_descent(x_train ,y_train, initial_w, initial_b, \n",
    "                                   compute_cost, compute_gradient, alpha, iterations, 0)"
   ]
  },
  {
   "cell_type": "code",
   "execution_count": 29,
   "id": "b111cf6e-2306-4da4-8ff4-998c9a0b466f",
   "metadata": {},
   "outputs": [
    {
     "data": {
      "image/png": "[encoded data removed]",
      "text/plain": [
       "<Figure size 432x288 with 1 Axes>"
      ]
     },
     "metadata": {
      "needs_background": "light"
     },
     "output_type": "display_data"
    }
   ],
   "source": [
    "x = J_history[::999]\n",
    "\n",
    "costFigure, costFigure_axes = plt.subplots()\n",
    "costFigure_axes.plot(x)\n",
    "costFigure_axes.set_xlabel('Every 999th iteration')\n",
    "costFigure_axes.set_ylabel('Cost')\n",
    "costFigure_axes.set_title('Alpha = 0.0001 10,000 Iterations Cost Function');\n",
    "costFigure.savefig(\"assets/screenshots/only_bmi_and_glucose/cost10000iterations.png\")\n",
    "\n",
    "plt.show()"
   ]
  },
  {
   "cell_type": "markdown",
   "id": "d6ebd495-64b6-4f04-bc53-37bc3babfe08",
   "metadata": {},
   "source": [
    "### During the next trial of 10,000 iterations we see the cost start at 3.44 and decreases to 0.49, no change from 1000 iterations"
   ]
  },
  {
   "cell_type": "code",
   "execution_count": null,
   "id": "f3e1b5d0-8826-4acc-b9c0-534bb10e50b4",
   "metadata": {},
   "outputs": [],
   "source": []
  },
  {
   "cell_type": "markdown",
   "id": "abec7646-68d0-44a1-94c2-94253b514e56",
   "metadata": {
    "tags": []
   },
   "source": [
    "## Next 100,000 iterations"
   ]
  },
  {
   "cell_type": "code",
   "execution_count": 30,
   "id": "3d5ee3f5-8897-4b60-a630-73669264bc44",
   "metadata": {},
   "outputs": [
    {
     "name": "stdout",
     "output_type": "stream",
     "text": [
      "Iteration    0: Cost     3.48   \n",
      "Iteration 10000: Cost     0.50   \n",
      "Iteration 20000: Cost     0.50   \n",
      "Iteration 30000: Cost     0.50   \n",
      "Iteration 40000: Cost     0.50   \n",
      "Iteration 50000: Cost     0.50   \n",
      "Iteration 60000: Cost     0.50   \n",
      "Iteration 70000: Cost     0.50   \n",
      "Iteration 80000: Cost     0.50   \n",
      "Iteration 90000: Cost     0.50   \n",
      "Iteration 99999: Cost     0.50   \n"
     ]
    }
   ],
   "source": [
    "# Some gradient descent settings\n",
    "iterations = 100000\n",
    "alpha = 0.0001\n",
    "\n",
    "w,b, J_history,_ = gradient_descent(x_train ,y_train, initial_w, initial_b, \n",
    "                                   compute_cost, compute_gradient, alpha, iterations, 0)"
   ]
  },
  {
   "cell_type": "code",
   "execution_count": 31,
   "id": "954d898a-6fe7-4de2-9ef9-66c80d1e23ee",
   "metadata": {},
   "outputs": [
    {
     "data": {
      "image/png": "[encoded data removed]",
      "text/plain": [
       "<Figure size 432x288 with 1 Axes>"
      ]
     },
     "metadata": {
      "needs_background": "light"
     },
     "output_type": "display_data"
    }
   ],
   "source": [
    "x = J_history[::9999]\n",
    "\n",
    "costFigure, costFigure_axes = plt.subplots()\n",
    "costFigure_axes.plot(x)\n",
    "costFigure_axes.set_xlabel('Every 9999th iteration')\n",
    "costFigure_axes.set_ylabel('Cost')\n",
    "costFigure_axes.set_title('Alpha = 0.0001 100,000 Iterations Cost Function');\n",
    "costFigure.savefig(\"assets/screenshots/only_bmi_and_glucose/cost100000iterations.png\")\n",
    "\n",
    "plt.show()"
   ]
  },
  {
   "cell_type": "markdown",
   "id": "8472bf51-bbba-4ec4-aa73-d3de1e41a0f0",
   "metadata": {},
   "source": [
    "### During the final trial of 100,000 iterations we see the cost start at 3.44 and decreases to 0.49"
   ]
  },
  {
   "cell_type": "code",
   "execution_count": null,
   "id": "0c084d6a-07bc-40a1-a821-a37d9c9f268b",
   "metadata": {},
   "outputs": [],
   "source": []
  },
  {
   "cell_type": "code",
   "execution_count": null,
   "id": "1ac43752-c979-42fc-a7be-fc1cf4f65150",
   "metadata": {},
   "outputs": [],
   "source": []
  },
  {
   "cell_type": "markdown",
   "id": "285cda74-d9f1-434d-8924-b476da150d5d",
   "metadata": {},
   "source": [
    "## Define prediction function"
   ]
  },
  {
   "cell_type": "code",
   "execution_count": 32,
   "id": "0ce5c1fd-1710-4026-8d0b-cde742959d19",
   "metadata": {},
   "outputs": [],
   "source": [
    "def predict(X, w, b): \n",
    "    \"\"\"\n",
    "    Predict whether the label is 0 or 1 using learned logistic\n",
    "    regression parameters w\n",
    "    \n",
    "    Args:\n",
    "    X : (ndarray Shape (m, n))\n",
    "    w : (array_like Shape (n,))      Parameters of the model\n",
    "    b : (scalar, float)              Parameter of the model\n",
    "\n",
    "    Returns:\n",
    "    p: (ndarray (m,1))\n",
    "        The predictions for X using a threshold at 0.5\n",
    "    \"\"\"\n",
    "    # number of training examples\n",
    "    m, n = X.shape   \n",
    "    p = np.zeros(m)\n",
    "   \n",
    "    ### START CODE HERE ### \n",
    "    # Loop over each example\n",
    "    for i in range(m):   \n",
    "        z_i = np.dot(X[i],w) + b\n",
    "        # Calculate the prediction for this example\n",
    "        f_wb = sigmoid(z_i)\n",
    "\n",
    "        # Apply the threshold\n",
    "        p[i] = p[i] = f_wb >= 0.5\n",
    "        \n",
    "    ### END CODE HERE ### \n",
    "    return p"
   ]
  },
  {
   "cell_type": "markdown",
   "id": "c98a11cb-1e11-4ff4-9f75-401806a19679",
   "metadata": {
    "tags": []
   },
   "source": [
    "### Compute accuracy on our training set"
   ]
  },
  {
   "cell_type": "code",
   "execution_count": 33,
   "id": "197a08ee-66a7-4d87-95e7-dfce3a01574d",
   "metadata": {},
   "outputs": [
    {
     "name": "stdout",
     "output_type": "stream",
     "text": [
      "Train Accuracy: 76.041667\n"
     ]
    }
   ],
   "source": [
    "#Compute accuracy on our training set\n",
    "p = predict(x_test, w,b)\n",
    "print('Train Accuracy: %f'%(np.mean(p == y_test) * 100))\n"
   ]
  },
  {
   "cell_type": "markdown",
   "id": "f1f7377d-8a62-4a2d-8c1f-baa8e92c99cb",
   "metadata": {},
   "source": [
    "### The model accuracy achieved with only BMI & Glucose as features is 76%"
   ]
  },
  {
   "cell_type": "markdown",
   "id": "65648874-a6fe-40e3-b0d2-e5ccec82e096",
   "metadata": {},
   "source": [
    "# Plot predicted data"
   ]
  },
  {
   "cell_type": "code",
   "execution_count": 34,
   "id": "b24213cb-b7a1-4a6b-af96-f5264e9712c9",
   "metadata": {},
   "outputs": [
    {
     "data": {
      "text/html": [
       "<div>\n",
       "<style scoped>\n",
       "    .dataframe tbody tr th:only-of-type {\n",
       "        vertical-align: middle;\n",
       "    }\n",
       "\n",
       "    .dataframe tbody tr th {\n",
       "        vertical-align: top;\n",
       "    }\n",
       "\n",
       "    .dataframe thead th {\n",
       "        text-align: right;\n",
       "    }\n",
       "</style>\n",
       "<table border=\"1\" class=\"dataframe\">\n",
       "  <thead>\n",
       "    <tr style=\"text-align: right;\">\n",
       "      <th></th>\n",
       "      <th>glucose</th>\n",
       "      <th>BMI</th>\n",
       "      <th>y_test</th>\n",
       "      <th>prediction</th>\n",
       "    </tr>\n",
       "  </thead>\n",
       "  <tbody>\n",
       "    <tr>\n",
       "      <th>0</th>\n",
       "      <td>93.0</td>\n",
       "      <td>28.7</td>\n",
       "      <td>0</td>\n",
       "      <td>0.0</td>\n",
       "    </tr>\n",
       "    <tr>\n",
       "      <th>1</th>\n",
       "      <td>154.0</td>\n",
       "      <td>32.4</td>\n",
       "      <td>1</td>\n",
       "      <td>1.0</td>\n",
       "    </tr>\n",
       "    <tr>\n",
       "      <th>2</th>\n",
       "      <td>160.0</td>\n",
       "      <td>30.5</td>\n",
       "      <td>1</td>\n",
       "      <td>1.0</td>\n",
       "    </tr>\n",
       "    <tr>\n",
       "      <th>3</th>\n",
       "      <td>100.0</td>\n",
       "      <td>23.6</td>\n",
       "      <td>0</td>\n",
       "      <td>0.0</td>\n",
       "    </tr>\n",
       "    <tr>\n",
       "      <th>4</th>\n",
       "      <td>163.0</td>\n",
       "      <td>40.9</td>\n",
       "      <td>1</td>\n",
       "      <td>1.0</td>\n",
       "    </tr>\n",
       "    <tr>\n",
       "      <th>...</th>\n",
       "      <td>...</td>\n",
       "      <td>...</td>\n",
       "      <td>...</td>\n",
       "      <td>...</td>\n",
       "    </tr>\n",
       "    <tr>\n",
       "      <th>187</th>\n",
       "      <td>97.0</td>\n",
       "      <td>35.6</td>\n",
       "      <td>1</td>\n",
       "      <td>0.0</td>\n",
       "    </tr>\n",
       "    <tr>\n",
       "      <th>188</th>\n",
       "      <td>181.0</td>\n",
       "      <td>35.9</td>\n",
       "      <td>1</td>\n",
       "      <td>1.0</td>\n",
       "    </tr>\n",
       "    <tr>\n",
       "      <th>189</th>\n",
       "      <td>134.0</td>\n",
       "      <td>25.9</td>\n",
       "      <td>0</td>\n",
       "      <td>0.0</td>\n",
       "    </tr>\n",
       "    <tr>\n",
       "      <th>190</th>\n",
       "      <td>95.0</td>\n",
       "      <td>36.8</td>\n",
       "      <td>0</td>\n",
       "      <td>0.0</td>\n",
       "    </tr>\n",
       "    <tr>\n",
       "      <th>191</th>\n",
       "      <td>167.0</td>\n",
       "      <td>23.4</td>\n",
       "      <td>1</td>\n",
       "      <td>1.0</td>\n",
       "    </tr>\n",
       "  </tbody>\n",
       "</table>\n",
       "<p>192 rows × 4 columns</p>\n",
       "</div>"
      ],
      "text/plain": [
       "     glucose   BMI  y_test  prediction\n",
       "0       93.0  28.7       0         0.0\n",
       "1      154.0  32.4       1         1.0\n",
       "2      160.0  30.5       1         1.0\n",
       "3      100.0  23.6       0         0.0\n",
       "4      163.0  40.9       1         1.0\n",
       "..       ...   ...     ...         ...\n",
       "187     97.0  35.6       1         0.0\n",
       "188    181.0  35.9       1         1.0\n",
       "189    134.0  25.9       0         0.0\n",
       "190     95.0  36.8       0         0.0\n",
       "191    167.0  23.4       1         1.0\n",
       "\n",
       "[192 rows x 4 columns]"
      ]
     },
     "execution_count": 34,
     "metadata": {},
     "output_type": "execute_result"
    }
   ],
   "source": [
    "# create data frame of the prediction dataset and export to csv\n",
    "glucose = [i[0] for i in x_test[::]]\n",
    "bmi = [i[1] for i in x_test[::]]\n",
    "\n",
    "data ={ \n",
    "    \"glucose\": glucose,\n",
    "    \"BMI\": bmi,\n",
    "    \"y_test\": y_test,\n",
    "    \"prediction\": p}\n",
    "\n",
    "df = pd.DataFrame(data)\n",
    "df.to_csv('output_data/prediction results.csv')\n",
    "\n",
    "df"
   ]
  },
  {
   "cell_type": "code",
   "execution_count": 35,
   "id": "bf23e28a-1ad4-43e2-993e-f1eaedced5aa",
   "metadata": {},
   "outputs": [
    {
     "data": {
      "text/html": [
       "<div>\n",
       "<style scoped>\n",
       "    .dataframe tbody tr th:only-of-type {\n",
       "        vertical-align: middle;\n",
       "    }\n",
       "\n",
       "    .dataframe tbody tr th {\n",
       "        vertical-align: top;\n",
       "    }\n",
       "\n",
       "    .dataframe thead th {\n",
       "        text-align: right;\n",
       "    }\n",
       "</style>\n",
       "<table border=\"1\" class=\"dataframe\">\n",
       "  <thead>\n",
       "    <tr style=\"text-align: right;\">\n",
       "      <th></th>\n",
       "      <th>glucose</th>\n",
       "      <th>BMI</th>\n",
       "    </tr>\n",
       "  </thead>\n",
       "  <tbody>\n",
       "    <tr>\n",
       "      <th>1</th>\n",
       "      <td>154.0</td>\n",
       "      <td>32.4</td>\n",
       "    </tr>\n",
       "    <tr>\n",
       "      <th>2</th>\n",
       "      <td>160.0</td>\n",
       "      <td>30.5</td>\n",
       "    </tr>\n",
       "    <tr>\n",
       "      <th>4</th>\n",
       "      <td>163.0</td>\n",
       "      <td>40.9</td>\n",
       "    </tr>\n",
       "    <tr>\n",
       "      <th>11</th>\n",
       "      <td>143.0</td>\n",
       "      <td>45.0</td>\n",
       "    </tr>\n",
       "    <tr>\n",
       "      <th>12</th>\n",
       "      <td>187.0</td>\n",
       "      <td>33.9</td>\n",
       "    </tr>\n",
       "  </tbody>\n",
       "</table>\n",
       "</div>"
      ],
      "text/plain": [
       "    glucose   BMI\n",
       "1     154.0  32.4\n",
       "2     160.0  30.5\n",
       "4     163.0  40.9\n",
       "11    143.0  45.0\n",
       "12    187.0  33.9"
      ]
     },
     "execution_count": 35,
     "metadata": {},
     "output_type": "execute_result"
    }
   ],
   "source": [
    "predict_diabetics = df[df['prediction'] == 1][['glucose','BMI']]\n",
    "predict_nonDiabetics = df[df['prediction'] == 0][['glucose','BMI']]\n",
    "predict_diabetics[:5]"
   ]
  },
  {
   "cell_type": "code",
   "execution_count": 36,
   "id": "b1e24737-2009-4c52-b93b-f3f42518c8f3",
   "metadata": {},
   "outputs": [
    {
     "data": {
      "image/png": "[encoded data removed]",
      "text/plain": [
       "<Figure size 432x288 with 1 Axes>"
      ]
     },
     "metadata": {
      "needs_background": "light"
     },
     "output_type": "display_data"
    }
   ],
   "source": [
    "figure1, figure1_axes = plt.subplots()\n",
    "figure1_axes.plot(predict_diabetics[['glucose']], predict_diabetics[['BMI']], 'ro',\n",
    "                  predict_nonDiabetics[['glucose']], predict_nonDiabetics[['BMI']], 'go')\n",
    "figure1_axes.set_xlabel('Glucose')\n",
    "figure1_axes.set_ylabel('BMI')\n",
    "figure1_axes.legend(['Diabetic', 'nonDiabetic'])\n",
    "figure1_axes.set_title('Detecting Diabetes in Female Patients');\n",
    "figure1.savefig(\"assets/screenshots/only_bmi_and_glucose/predictglucoseVSbmi.png\")"
   ]
  },
  {
   "cell_type": "code",
   "execution_count": null,
   "id": "7894ef8d-97eb-4273-8ffe-0b83e6397694",
   "metadata": {},
   "outputs": [],
   "source": []
  },
  {
   "cell_type": "code",
   "execution_count": null,
   "id": "db919870-105e-4608-a16b-80576f49c8a2",
   "metadata": {},
   "outputs": [],
   "source": []
  },
  {
   "cell_type": "code",
   "execution_count": null,
   "id": "912ef52c-3451-4529-84bb-3a754f54bfc5",
   "metadata": {},
   "outputs": [],
   "source": []
  },
  {
   "cell_type": "code",
   "execution_count": null,
   "id": "f06e33ec-16bb-447e-865b-330a3b026305",
   "metadata": {},
   "outputs": [],
   "source": []
  },
  {
   "cell_type": "code",
   "execution_count": null,
   "id": "f589d6c8-7693-4589-bdf1-935210c8931b",
   "metadata": {},
   "outputs": [],
   "source": []
  },
  {
   "cell_type": "code",
   "execution_count": null,
   "id": "3341db4d-7194-4700-8e18-52e97709953b",
   "metadata": {},
   "outputs": [],
   "source": []
  },
  {
   "cell_type": "markdown",
   "id": "58a61af6-6108-45bc-ae02-37bb2a45f987",
   "metadata": {
    "tags": []
   },
   "source": [
    "# Trial 2 \n",
    "- (Chosen features are Glucose, BMI, & Age)"
   ]
  },
  {
   "cell_type": "code",
   "execution_count": null,
   "id": "0f3419f7-03a5-4dfb-a85e-c90d5dc31279",
   "metadata": {},
   "outputs": [],
   "source": [
    "# create copy of original dataframe for 2nd trial\n",
    "trial2 = diabetesCSV.copy()\n",
    "trial2.head()"
   ]
  },
  {
   "cell_type": "markdown",
   "id": "ce4bdc8a-0c87-444a-8e2c-f3669e2e9963",
   "metadata": {},
   "source": [
    "### Choosing features"
   ]
  },
  {
   "cell_type": "code",
   "execution_count": null,
   "id": "9055f5bd-1a4b-4a9c-9d3e-4332a13cad7f",
   "metadata": {},
   "outputs": [],
   "source": [
    "# create empty list\n",
    "feature = []\n",
    "target = []\n",
    "\n",
    "# for loop to create feature lists to add to above created list\n",
    "\n",
    "for i in range(len(trial2)):\n",
    "    diabetesX = []\n",
    "    diabetesY = ''\n",
    "    \n",
    "    diabetesY = trial2.iloc[i,8]\n",
    "    diabetesX.append(trial2.iloc[i,1])\n",
    "    diabetesX.append(trial2.iloc[i,5])\n",
    "    diabetesX.append(trial2.iloc[i,7])\n",
    "    \n",
    "    feature.append(diabetesX)\n",
    "    target.append(diabetesY)\n",
    "    \n",
    "print(feature[:5])\n",
    "print(target[:5])"
   ]
  },
  {
   "cell_type": "code",
   "execution_count": null,
   "id": "b4270197-87fb-4f2a-b063-d4dce0a0aaf6",
   "metadata": {},
   "outputs": [],
   "source": [
    "# Turn python lists into numpy arrays\n",
    "features = np.array(feature)\n",
    "targets = np.array(target)\n",
    "features[:5]"
   ]
  },
  {
   "cell_type": "markdown",
   "id": "45463b0b-315c-46f8-a2c9-d54396eefd18",
   "metadata": {},
   "source": [
    "### Use Z-Score normalization on features"
   ]
  },
  {
   "cell_type": "code",
   "execution_count": null,
   "id": "c017afe6-3598-493e-9e91-ac71151766d5",
   "metadata": {},
   "outputs": [],
   "source": [
    "# finding standard deviation and mean of each column\n",
    "featureSTDEV = features.std()\n",
    "featureAVG = np.average(features)\n",
    "featureSTDEV"
   ]
  },
  {
   "cell_type": "code",
   "execution_count": null,
   "id": "a9922a9c-a64d-4cab-983d-c9f0644a2dc9",
   "metadata": {},
   "outputs": [],
   "source": [
    "# implement Z-Score normalization\n",
    "featuresNORM = (features - featureAVG)/featureSTDEV"
   ]
  },
  {
   "cell_type": "markdown",
   "id": "da754dc1-9a6b-4e8a-9362-0b8b4d984bd8",
   "metadata": {},
   "source": [
    "### Create a dataframe with normalized features "
   ]
  },
  {
   "cell_type": "code",
   "execution_count": null,
   "id": "77101b72-5a96-4f0d-9d34-bd0332cb1906",
   "metadata": {},
   "outputs": [],
   "source": [
    "df = pd.DataFrame(data = featuresNORM)\n",
    "df['Diabetic?'] = targets\n",
    "df"
   ]
  },
  {
   "cell_type": "code",
   "execution_count": null,
   "id": "e9049ea7-c5be-456d-a10f-27b97b176683",
   "metadata": {},
   "outputs": [],
   "source": [
    "diabetics = df[df['Diabetic?'] == 1][[0,1,2]]\n",
    "nonDiabetics = df[df['Diabetic?'] == 0][[0,1,2]]\n",
    "diabetics[:5]"
   ]
  },
  {
   "cell_type": "markdown",
   "id": "2fcb7fc3-754f-4ff4-be92-f90f00f616cd",
   "metadata": {},
   "source": [
    "## Create visualization of chosen features"
   ]
  },
  {
   "cell_type": "code",
   "execution_count": null,
   "id": "f9b23ab3-12f4-4d3c-bc62-aa3afd6dd939",
   "metadata": {},
   "outputs": [],
   "source": [
    "# plot chosen features\n",
    "fig = plt.figure(figsize=(6, 6))\n",
    "ax = plt.axes(projection=\"3d\")\n",
    "\n",
    "ax.scatter3D(diabetics[[0]], diabetics[[1]],diabetics[[2]],color='red')\n",
    "ax.scatter3D(nonDiabetics[[0]], nonDiabetics[[1]], nonDiabetics[[2]])\n",
    "\n",
    "ax.set_xlabel('Glucose')\n",
    "ax.set_ylabel('BMI')\n",
    "ax.set_zlabel('Age')\n",
    "ax.legend(['Diabetic', 'nonDiabetic'])\n",
    "ax.set_title('Detecting Diabetes in Female Patients');\n",
    "\n",
    "plt.show()"
   ]
  },
  {
   "cell_type": "markdown",
   "id": "47a1084a-cd4b-4d21-a2a2-aa4fdb67f4a0",
   "metadata": {},
   "source": [
    "# Create Logistic Model"
   ]
  },
  {
   "cell_type": "code",
   "execution_count": null,
   "id": "48ce5017-84c3-441b-a512-2e03627de41d",
   "metadata": {},
   "outputs": [],
   "source": [
    "# Split the data into X_train, X_test, y_train, y_test\n",
    "x_train, x_test, y_train, y_test = train_test_split(features, targets)"
   ]
  },
  {
   "cell_type": "markdown",
   "id": "cc9ae249-ad19-43ab-bcc6-e3e7eedd6b0b",
   "metadata": {},
   "source": [
    "## Cost"
   ]
  },
  {
   "cell_type": "code",
   "execution_count": null,
   "id": "170f981a-5ee4-4d63-836b-65e3e527364b",
   "metadata": {},
   "outputs": [],
   "source": [
    "m, n = x_train.shape\n",
    "\n",
    "# Compute and display cost with w initialized to zeroes\n",
    "initial_w = np.zeros(n)\n",
    "initial_b = 0.\n",
    "cost = compute_cost(x_train, y_train, initial_w, initial_b)\n",
    "print('Cost at initial w (zeros): {:.3f}'.format(cost))"
   ]
  },
  {
   "cell_type": "code",
   "execution_count": null,
   "id": "bf0e31f5-415d-42e3-bdbe-efa2ebfadae1",
   "metadata": {},
   "outputs": [],
   "source": [
    "# Compute and display cost with non-zero w\n",
    "test_w = np.array([0.2, 0.2,0.2])\n",
    "test_b = -24.\n",
    "cost = compute_cost(x_train, y_train, test_w, test_b)\n",
    "\n",
    "print('Cost at test w,b: {:.3f}'.format(cost))"
   ]
  },
  {
   "cell_type": "markdown",
   "id": "44e1e594-5a44-45c4-b459-258a22349ada",
   "metadata": {},
   "source": [
    "## Gradient"
   ]
  },
  {
   "cell_type": "code",
   "execution_count": null,
   "id": "64b16dca-2eb5-4856-bc35-3a50329f640f",
   "metadata": {},
   "outputs": [],
   "source": [
    "# Compute and display gradient with w initialized to zeroes\n",
    "initial_w = np.zeros(n)\n",
    "initial_b = 0.\n",
    "\n",
    "dj_db, dj_dw = compute_gradient(x_train, y_train, initial_w, initial_b)\n",
    "print(f'dj_db at initial w (zeros):{dj_db}' )\n",
    "print(f'dj_dw at initial w (zeros):{dj_dw.tolist()}' )"
   ]
  },
  {
   "cell_type": "code",
   "execution_count": null,
   "id": "068afa4a-22f6-4ecb-89ff-cf711072976d",
   "metadata": {},
   "outputs": [],
   "source": [
    "# Compute and display cost and gradient with non-zero w\n",
    "test_w = np.array([ 0.2, -0.5,0.2])\n",
    "test_b = -24\n",
    "dj_db, dj_dw  = compute_gradient(x_train, y_train, test_w, test_b)\n",
    "\n",
    "print('dj_db at test_w:', dj_db)\n",
    "print('dj_dw at test_w:', dj_dw.tolist())\n"
   ]
  },
  {
   "cell_type": "markdown",
   "id": "5927c282-17df-48f4-a824-92a045503b21",
   "metadata": {},
   "source": [
    "## Gradient Descent"
   ]
  },
  {
   "cell_type": "code",
   "execution_count": null,
   "id": "1faa045f-d55f-4d77-ae0a-beb839b73686",
   "metadata": {},
   "outputs": [],
   "source": [
    "np.random.seed(1)\n",
    "initial_w = 0.01 * (np.random.rand(3).reshape(-1,1) - 0.5)\n",
    "initial_b = -8\n",
    " \n",
    "# Some gradient descent settings\n",
    "iterations = 1000\n",
    "alpha = 0.001\n",
    "\n",
    "w,b, J_history,_ = gradient_descent(x_train ,y_train, initial_w, initial_b, \n",
    "                                   compute_cost, compute_gradient, alpha, iterations, 0)"
   ]
  },
  {
   "cell_type": "markdown",
   "id": "9b74b1e4-e79e-44ab-b796-9b6412e8013e",
   "metadata": {},
   "source": [
    "### During the first trial of 1,000 iterations we see the cost start at 1.45 and decreases to 1.17"
   ]
  },
  {
   "cell_type": "code",
   "execution_count": null,
   "id": "13b2b9c0-dea2-46f3-8f8e-30d34b49537b",
   "metadata": {},
   "outputs": [],
   "source": []
  },
  {
   "cell_type": "markdown",
   "id": "da033be1-ef57-4301-a2c2-84b66cc711a8",
   "metadata": {},
   "source": [
    "## Next 10,000 iterations"
   ]
  },
  {
   "cell_type": "code",
   "execution_count": null,
   "id": "7181d643-eb79-432b-bcf4-5ae8b3a03e12",
   "metadata": {},
   "outputs": [],
   "source": [
    "# Some gradient descent settings\n",
    "iterations = 10000\n",
    "alpha = 0.001\n",
    "\n",
    "w,b, J_history,_ = gradient_descent(x_train ,y_train, initial_w, initial_b, \n",
    "                                   compute_cost, compute_gradient, alpha, iterations, 0)"
   ]
  },
  {
   "cell_type": "markdown",
   "id": "0dbacac5-ee05-4dfa-9461-124b819b9351",
   "metadata": {},
   "source": [
    "### During the next trial of 10,000 iterations we see the cost start at 1.42 and decreases to 1.17"
   ]
  },
  {
   "cell_type": "code",
   "execution_count": null,
   "id": "11369eea-bb2c-4e0c-ba32-dba3faaa4fed",
   "metadata": {},
   "outputs": [],
   "source": []
  },
  {
   "cell_type": "markdown",
   "id": "b6b06040-0bf2-4e51-b2ed-3fcfe9ffe5c1",
   "metadata": {},
   "source": [
    "## Next 100,000 iterations"
   ]
  },
  {
   "cell_type": "code",
   "execution_count": null,
   "id": "4f327198-0e75-4991-a5be-6defe00e719e",
   "metadata": {},
   "outputs": [],
   "source": [
    "# Some gradient descent settings\n",
    "iterations = 100000\n",
    "alpha = 0.001\n",
    "\n",
    "w,b, J_history,_ = gradient_descent(x_train ,y_train, initial_w, initial_b, \n",
    "                                   compute_cost, compute_gradient, alpha, iterations, 0)"
   ]
  },
  {
   "cell_type": "markdown",
   "id": "bd40785c-c548-4b4f-9ab1-a786650d4fbf",
   "metadata": {},
   "source": [
    "### During the final trial of 100,000 iterations we see the cost start at 1.40 and decreases to 1.13"
   ]
  },
  {
   "cell_type": "code",
   "execution_count": null,
   "id": "37cf5865-64c6-4e9b-a660-c3379f23859d",
   "metadata": {},
   "outputs": [],
   "source": []
  },
  {
   "cell_type": "markdown",
   "id": "a3f1f90c-cdf5-4b52-8fdb-695e90403773",
   "metadata": {},
   "source": [
    "# Predict"
   ]
  },
  {
   "cell_type": "markdown",
   "id": "a5368660-8399-4355-a965-939c48b5e209",
   "metadata": {
    "tags": []
   },
   "source": [
    "### Compute accuracy on our training set"
   ]
  },
  {
   "cell_type": "code",
   "execution_count": null,
   "id": "49568621-5d30-4b87-b3da-e5d60e0b07e8",
   "metadata": {
    "tags": []
   },
   "outputs": [],
   "source": [
    "#Compute accuracy on our training set\n",
    "p = predict(x_train, w,b)\n",
    "print('Train Accuracy: %f'%(np.mean(p == y_train) * 100))\n"
   ]
  },
  {
   "cell_type": "markdown",
   "id": "5dea230d-80dd-458e-9613-24ed5caec455",
   "metadata": {},
   "source": [
    "### The model accuracy achieved with BMI, Glucose, & Age as features is 56.77%"
   ]
  }
 ],
 "metadata": {
  "kernelspec": {
   "display_name": "Python 3 (ipykernel)",
   "language": "python",
   "name": "python3"
  },
  "language_info": {
   "codemirror_mode": {
    "name": "ipython",
    "version": 3
   },
   "file_extension": ".py",
   "mimetype": "text/x-python",
   "name": "python",
   "nbconvert_exporter": "python",
   "pygments_lexer": "ipython3",
   "version": "3.9.9"
  }
 },
 "nbformat": 4,
 "nbformat_minor": 5
}
